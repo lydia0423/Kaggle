{
 "cells": [
  {
   "cell_type": "markdown",
   "metadata": {},
   "source": [
    "**声明：**\n",
    "\n",
    "hello，小伙伴们~\n",
    "\n",
    "感谢大家对小鲸鱼的大力支持，目前我在搜集大量经典书籍和资料，其中涉及：\n",
    "\n",
    "1. **🔥数学统计：**打好理论基础！\n",
    "2. 🔥**数据分析：**包括数据分析、商业数据分析等\n",
    "3. 🔥**数据科学：**数据建模、机器学习、AI框架等\n",
    "4. 🔥**Python/R cookbook**\n",
    "\n",
    "还有关于数据结构、算法、数据库等等\n",
    "\n",
    "以及面经、更多的视频资料整理！\n",
    "\n",
    "总之，这个仓库会一直更新，分享不会停止！\n",
    "\n",
    "不收费，但只分享给有需要的人，曾经没人帮我指路，但我不希望大家走太多弯路！\n",
    "\n",
    "**公众号：鲸析**\n",
    "\n",
    "![](https://s3.bmp.ovh/imgs/2022/02/e213757d6a0c0007.jpg)"
   ]
  },
  {
   "cell_type": "markdown",
   "metadata": {},
   "source": [
    "---\n",
    "\n",
    "能够跟大家开启一个Kaggle项目，🐋满怀期待，希望我们能够通力合作，碰撞出火花！\n",
    "\n",
    "废话不多说了，首先对整个项目做一个概述，梳理一下分析流程：\n",
    "\n",
    "**商业意义** \n",
    "\n",
    "第一步，本项目的商业意义&目的。\n",
    "\n",
    "很明确，目的是预测驾驶员明年提出保险索赔的概率以此控制保险成本。\n",
    "\n",
    "原因是老司机不会为高额的保险费而买单，毕竟他们的事故率很低，那么公司通过预测驾驶员明年提出索赔要求的概率来定价。\n",
    "\n",
    "**问题转化**\n",
    "\n",
    "那么结合数据来看，本项目的数据集分为训练集和测试集，训练集共有`595212`行、`59`列，测试集共有`892816`行、`58`列。\n",
    "\n",
    "> 训练集多出的一列是Target，也就是我们所谓的label，表示该用户是否提出索赔（0 or 1）。\n",
    ">\n",
    "> 而测试集中没有label，我们需要通过测试集的数据预测其明年的索赔概率，所以并没有用传统的 scoring metric 来进行衡量（confusion matrix等）\n",
    "\n",
    "所以我们要对数据进行处理、分析、特征工程，再将处理好的数据代入机器学习模型，最终输出的是概率。\n",
    "\n",
    "值得注意的是，项目所给的特征没有标明明确的含义（可能出于对客户的保护），但是给出了对应的变量类型（所以搞清楚变量类型多重要！）\n",
    "\n",
    "- binary ==> 0 or 1\n",
    "- nominal ==> categorical 不含顺序\n",
    "- ordinal ==> categorical 含顺序\n",
    "- interval ==> continuous 无绝对零点\n",
    "\n",
    "**项目角色**\n",
    "\n",
    "这里不展开，根据个人情况明确项目角色，在这里你就是一个全栈机器学习工程师哈哈哈！\n",
    "\n",
    "**数据分析**\n",
    "\n",
    "这里我给出几个tips，顺着这个思路去思考可能会有帮助！\n",
    "\n",
    "1. 数据清洗：缺失值？重复值？异常值？\n",
    "2. 变量类型处理：如何encoding？不同类型变量如何处理？\n",
    "3. 数据可视化：特征分布情况？相关性？\n",
    "4. 特征工程：特征选取？特征增强？特征合并？特征归一化？\n",
    "\n",
    "**数据建模**\n",
    "\n",
    "注意到，我们所处理的是tabular data，也就是表格数据（行列），所以对于这一类数据最好用树模型，比如LightGBM、XGBoost等，不过可以用LR作benchmark。\n",
    "\n",
    "\n",
    "再给几个tips:\n",
    "1. 如何计算Normalized Gini Coefficient？\n",
    "2. 如何避免过拟合？（kfold/early stopping）\n",
    "3. 如何调参？（max_depth/learning_rate/min_child_weight）\n",
    "\n",
    "\n",
    "\n",
    "**测试部署**\n",
    "\n",
    "这里主要就是模型的版本迭代、测试并对版本更替进行记录，一般会迭代优化10至20次左右，然后生成submit.csv，并且建议用notebook整合前面所有步骤，并加以文字注解，合并成一份完整文档，并在细节处进行调整。\n",
    "\n",
    "---"
   ]
  },
  {
   "cell_type": "markdown",
   "metadata": {},
   "source": [
    "[![HaDitA.png](https://s4.ax1x.com/2022/02/11/HaDitA.png)](https://imgtu.com/i/HaDitA)"
   ]
  },
  {
   "cell_type": "markdown",
   "metadata": {
    "_cell_guid": "9113065c-6cec-4d35-8daa-57e9fdc6313e",
    "_uuid": "ecb402a1b7efe9eb6db47e7cab2c38861609ad94"
   },
   "source": [
    "## 项目介绍"
   ]
  },
  {
   "cell_type": "markdown",
   "metadata": {
    "_cell_guid": "2dee8ae8-2bee-4609-96a8-8150b7e770cd",
    "_uuid": "7f8a20e1db4cf09d9e53245de8461ce409447649"
   },
   "source": [
    "为了照顾到每位同学的实际情况，我准备把项目劈成2块，上半部分集中于<font color='red'>数据分析</font>，下半部分集中于<font color='red'>数据科学</font>，从而方便各阶段同学更有效地吸收知识，就地取材，在自己的简历上添砖加瓦！\n",
    "\n",
    "本笔记（上半部分）旨在深入了解 PorteSeguro 比赛的数据。此外，还提供了一些小tips和tricks来准备数据以备后续的数据建模过程。\n",
    "\n",
    "---\n",
    "\n",
    "\n",
    "该notebook由以下主要部分组成：\n",
    "\n",
    "\n",
    "\n",
    "1. [项目提案&数据梳理](#project_proposal)\n",
    "    - 1.1 [项目流程梳理](#progress)\n",
    "    - 1.2 [项目提案](#proposal)\n",
    "    - 1.3 [数据梳理](#integration)\n",
    "    \n",
    "---\n",
    "2. [数据分析（一）数据预处理](#data_preprocessing)\n",
    "3. [数据分析（二）探索性分恩正析](#eda)\n",
    "4. [数据分析（三）特征工程](#feat_engineering)\n",
    "5. [数据分析（四）特征选择](#feat_selection)\n",
    "6. [数据建模](#model)\n"
   ]
  },
  {
   "cell_type": "markdown",
   "metadata": {},
   "source": [
    "<div class=\"alert alert-block alert-warning\">\n",
    "<center><b>项目日志（2022年2月14日）</b></center>\n",
    "    \n",
    "2022年2月14日情人节，小鲸鱼正式发起第一个kaggle project的挑战，正式开启第一阶段：【项目提案&数据梳理】\n",
    "\n",
    "\n",
    "    \n",
    "**第一节阶段核心目的：**分析研究项目的核心价值、需求逻辑，建立数据分析框架，并完成项目提案（proposal），以及初步的数据梳理\n",
    "    \n",
    "**难度（最高5星）：**⭐⭐\n",
    "    \n",
    "**第一阶段周期：** 2022年2月14日 至 2022年2月20日（北京时间）\n",
    "    \n",
    "    \n",
    "**分值**：满分6分，附加题答对8分\n",
    "\n",
    "Good Luck!\n",
    "</div>\n"
   ]
  },
  {
   "cell_type": "markdown",
   "metadata": {},
   "source": [
    "## 项目提案&数据梳理"
   ]
  },
  {
   "cell_type": "markdown",
   "metadata": {},
   "source": [
    "<div class=\"alert alert-block alert-info\">这一次，需要各组长带领各组员分配此次项目的任务以及确定项目角色，并且着重讨论本项目的商业目的。</div>"
   ]
  },
  {
   "cell_type": "markdown",
   "metadata": {},
   "source": [
    "<div class=\"alert alert-block alert-success\"><b>Step 1 (2分)</b>: 描述本项目的数据来源，保险公司为什么会发起这次挑战，期待我们解决什么问题？</div>"
   ]
  },
  {
   "cell_type": "code",
   "execution_count": null,
   "metadata": {},
   "outputs": [],
   "source": [
    "# 答案写在下方空白的markdown块里。后面不重复说明"
   ]
  },
  {
   "cell_type": "markdown",
   "metadata": {},
   "source": []
  },
  {
   "cell_type": "markdown",
   "metadata": {},
   "source": [
    "<div class=\"alert alert-block alert-success\"><b>Step 2 (2分)</b>: 根据项目要求，简要叙述关于本项目，你们组希望从哪些方面解决问题（所解决的问题继承上一题的答案）</div>"
   ]
  },
  {
   "cell_type": "markdown",
   "metadata": {},
   "source": []
  },
  {
   "cell_type": "markdown",
   "metadata": {},
   "source": [
    "<div class=\"alert alert-block alert-success\"><b>Step 3 (1分)</b>: 在接触实际数据之前，我们对项目有了初步的认识，那么我们来看看实际的数据吧！请使用pandas的read_csv函数导入项目数据（train和test）</div>"
   ]
  },
  {
   "cell_type": "code",
   "execution_count": null,
   "metadata": {},
   "outputs": [],
   "source": [
    "# 代码写在下面\n",
    "\n",
    "import pandas as pd\n",
    "\n"
   ]
  },
  {
   "cell_type": "markdown",
   "metadata": {},
   "source": [
    "<div class=\"alert alert-block alert-info\"> \n",
    "<p style=\"font-size:20px; display:inline\">💡</p> 小贴士：\n",
    "\n",
    "pd.read_csv的参数使用：<br> \n",
    "    <font color = #0abfab>在notebook中，点击函数，按住【Shift+Tab】，可以查看函数使用方法</font><br>\n",
    "<center><font color = #fc5430 size = 3>header</font></center> \n",
    "默认值为0，意为将文件第0行数据作为列名；<br>\n",
    "若header=None，则自动生成0，1，2，...为列名，文件从第0行就读取为数据；<br>\n",
    "若header=1，则第0行被舍弃，第1行读取为列名；<br>\n",
    "<center><font color = #fc5430 size = 3>index_col</font></center> \n",
    "    默认是None，若表中没有索引，不需设置，如果自带索引（第0列），那么需要设置 index_col = 0\n",
    "<center><font color = #fc5430 size = 3>skiprows</font></center> \n",
    "    跳过某些行，例如 skiprows=lambda x: x % 2 != 0\n",
    "<center><font color = #fc5430 size = 3>nrows</font></center>\n",
    "    nrows=20 则读取20行，从第0行开始读\n",
    "</div>"
   ]
  },
  {
   "cell_type": "markdown",
   "metadata": {},
   "source": [
    "<div class=\"alert alert-block alert-success\"><b>Step 4 (1分)</b>: 尝试用 info(), head(), tail() 函数检查训练数据和测试数据</div>"
   ]
  },
  {
   "cell_type": "markdown",
   "metadata": {},
   "source": [
    "以下是比赛数据的基本描述：\n",
    "\n",
    "由于对于客户安全性的考虑，特征名称没用明确给出。\n",
    "\n",
    "* 属于**相似分类的特征在特征名称中被标记为**（例如，ind、reg、car、calc）。\n",
    "* 特征名称包括表示二元特征的后缀 **bin**（0 or 1） 和表示分类特征的 **cat**。\n",
    "* 特征**没有这些名称是连续的或有序的**。\n",
    "* **-1** 的值表示该特征在观察中**缺失**。\n",
    "* **target** 列表示是否为该保单持有人提出索赔。\n",
    "\n",
    "让我们快速用代码查看数据的基本情况吧！"
   ]
  },
  {
   "cell_type": "code",
   "execution_count": null,
   "metadata": {},
   "outputs": [],
   "source": [
    "# TODO: info() 检查特征名字、非空值以及变量类型\n",
    "\n",
    "\n",
    "\n",
    "# TODO: head() 查看前10行\n",
    "\n",
    "\n",
    "\n",
    "# TODO: tail() 查看后7行\n",
    "\n"
   ]
  },
  {
   "cell_type": "markdown",
   "metadata": {},
   "source": [
    "👊<font color=red>附加挑战（2分）</font>\n",
    "\n",
    "因为我们常常要上面的方法去检查数据，有一个基本的理解，那么我们想一下子看到数据的前五行和后五行，合并在一起。\n",
    "\n",
    "\n",
    "---\n",
    "\n",
    "\n",
    "**请编写一个函数，名为`check_data`，输入为dataframe，输出为一个新dataframe，满足一下条件：**\n",
    "\n",
    "\n",
    "1. 一共10行，列数为输入dataframe的列数\n",
    "2. 前5行是输入dataframe的前五行，后5行是输入dataframe的后五行\n",
    "\n"
   ]
  },
  {
   "cell_type": "code",
   "execution_count": null,
   "metadata": {},
   "outputs": [],
   "source": [
    "# 你的答案\n",
    "\n"
   ]
  },
  {
   "cell_type": "markdown",
   "metadata": {},
   "source": [
    "**补充：**\n",
    "\n",
    "如果你有余力，建议从下面链接中完成这100道Python Pandas puzzle！来为你下一阶段保驾护航！\n",
    "\n",
    "链接：https://github.com/ajcr/100-pandas-puzzles/blob/master/100-pandas-puzzles.ipynb"
   ]
  },
  {
   "cell_type": "markdown",
   "metadata": {},
   "source": [
    "[![H65i3d.gif](https://s4.ax1x.com/2022/02/14/H65i3d.gif)](https://imgtu.com/i/H65i3d)"
   ]
  },
  {
   "cell_type": "markdown",
   "metadata": {
    "_cell_guid": "de7a1f63-ccb4-49f0-bf3e-8e1181c5c5be",
    "_uuid": "b8aa7aee1c138ab00cecc0197b33d07d9a1cc1e0"
   },
   "source": [
    "<img src=\"https://s4.ax1x.com/2022/02/14/H65vxs.jpg\" alt=\"image-20220214212808413\" style=\"zoom:25%;\" />"
   ]
  }
 ],
 "metadata": {
  "kernelspec": {
   "display_name": "Python 3",
   "language": "python",
   "name": "python3"
  },
  "language_info": {
   "codemirror_mode": {
    "name": "ipython",
    "version": 3
   },
   "file_extension": ".py",
   "mimetype": "text/x-python",
   "name": "python",
   "nbconvert_exporter": "python",
   "pygments_lexer": "ipython3",
   "version": "3.7.6"
  }
 },
 "nbformat": 4,
 "nbformat_minor": 4
}
