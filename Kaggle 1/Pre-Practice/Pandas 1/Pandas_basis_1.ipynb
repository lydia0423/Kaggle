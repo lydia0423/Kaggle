{
 "cells": [
  {
   "cell_type": "markdown",
   "metadata": {},
   "source": [
    "**声明：**\n",
    "\n",
    "hello，小伙伴们~\n",
    "\n",
    "感谢大家对小鲸鱼的大力支持，目前我在搜集大量经典书籍和资料，其中涉及：\n",
    "\n",
    "1. **🔥数学统计：**打好理论基础！\n",
    "2. 🔥**数据分析：**包括数据分析、商业数据分析等\n",
    "3. 🔥**数据科学：**数据建模、机器学习、AI框架等\n",
    "4. 🔥**Python/R cookbook**\n",
    "\n",
    "还有关于数据结构、算法、数据库等等\n",
    "\n",
    "以及面经、更多的视频资料整理！\n",
    "\n",
    "总之，这个仓库会一直更新，分享不会停止！\n",
    "\n",
    "不收费，但只分享给有需要的人，曾经没人帮我指路，但我不希望大家走太多弯路！\n",
    "\n",
    "**公众号：鲸析**\n",
    "\n",
    "![](https://tuchuangs.com/imgs/2022/02/e213757d6a0c0007.jpg)"
   ]
  },
  {
   "cell_type": "markdown",
   "metadata": {},
   "source": [
    "## Pandas 数据分析功能一览（第一部分）\n",
    "\n",
    "帮大家梳理一下基本知识，有问题看pdf文档"
   ]
  },
  {
   "cell_type": "markdown",
   "metadata": {},
   "source": [
    "### 创建对象"
   ]
  },
  {
   "cell_type": "code",
   "execution_count": 1,
   "metadata": {},
   "outputs": [],
   "source": [
    "# 创建序列\n",
    "import pandas as pd\n",
    "s = pd.Series([1,2,3],index = ['A','B','C'],name = 'First_Series')"
   ]
  },
  {
   "cell_type": "code",
   "execution_count": 2,
   "metadata": {},
   "outputs": [
    {
     "data": {
      "text/plain": [
       "A    1\n",
       "B    2\n",
       "C    3\n",
       "Name: First_Series, dtype: int64"
      ]
     },
     "execution_count": 2,
     "metadata": {},
     "output_type": "execute_result"
    }
   ],
   "source": [
    "s"
   ]
  },
  {
   "cell_type": "code",
   "execution_count": 3,
   "metadata": {},
   "outputs": [
    {
     "data": {
      "text/plain": [
       "array([1, 2, 3], dtype=int64)"
      ]
     },
     "execution_count": 3,
     "metadata": {},
     "output_type": "execute_result"
    }
   ],
   "source": [
    "s.values"
   ]
  },
  {
   "cell_type": "code",
   "execution_count": 4,
   "metadata": {},
   "outputs": [
    {
     "data": {
      "text/plain": [
       "Index(['A', 'B', 'C'], dtype='object')"
      ]
     },
     "execution_count": 4,
     "metadata": {},
     "output_type": "execute_result"
    }
   ],
   "source": [
    "s.index"
   ]
  },
  {
   "cell_type": "code",
   "execution_count": 5,
   "metadata": {},
   "outputs": [
    {
     "data": {
      "text/plain": [
       "'First_Series'"
      ]
     },
     "execution_count": 5,
     "metadata": {},
     "output_type": "execute_result"
    }
   ],
   "source": [
    "s.name"
   ]
  },
  {
   "cell_type": "code",
   "execution_count": 6,
   "metadata": {},
   "outputs": [],
   "source": [
    "# 创建时间序列\n",
    "dates = pd.date_range(\"20220101\", periods=6)"
   ]
  },
  {
   "cell_type": "code",
   "execution_count": 7,
   "metadata": {},
   "outputs": [
    {
     "data": {
      "text/plain": [
       "DatetimeIndex(['2022-01-01', '2022-01-02', '2022-01-03', '2022-01-04',\n",
       "               '2022-01-05', '2022-01-06'],\n",
       "              dtype='datetime64[ns]', freq='D')"
      ]
     },
     "execution_count": 7,
     "metadata": {},
     "output_type": "execute_result"
    }
   ],
   "source": [
    "dates"
   ]
  },
  {
   "cell_type": "code",
   "execution_count": 8,
   "metadata": {},
   "outputs": [],
   "source": [
    "# 创建数据框\n",
    "import numpy as np\n",
    "\n",
    "df = pd.DataFrame(\n",
    "    {\n",
    "        \"A\": [1,2,3,np.nan],\n",
    "        \"B\": pd.date_range(\"20220101\",periods = 4),\n",
    "        \"C\": pd.Series(1, index=list(range(4)), dtype=\"float32\"),\n",
    "        \"D\": np.array([3] * 4, dtype=\"int32\"),\n",
    "        \"E\": pd.Categorical([\"test\", \"train\", \"test\", \"train\"]),\n",
    "        \"F\": \"foo\",\n",
    "    }\n",
    ")"
   ]
  },
  {
   "cell_type": "code",
   "execution_count": 9,
   "metadata": {},
   "outputs": [
    {
     "data": {
      "text/html": [
       "<div>\n",
       "<style scoped>\n",
       "    .dataframe tbody tr th:only-of-type {\n",
       "        vertical-align: middle;\n",
       "    }\n",
       "\n",
       "    .dataframe tbody tr th {\n",
       "        vertical-align: top;\n",
       "    }\n",
       "\n",
       "    .dataframe thead th {\n",
       "        text-align: right;\n",
       "    }\n",
       "</style>\n",
       "<table border=\"1\" class=\"dataframe\">\n",
       "  <thead>\n",
       "    <tr style=\"text-align: right;\">\n",
       "      <th></th>\n",
       "      <th>A</th>\n",
       "      <th>B</th>\n",
       "      <th>C</th>\n",
       "      <th>D</th>\n",
       "      <th>E</th>\n",
       "      <th>F</th>\n",
       "    </tr>\n",
       "  </thead>\n",
       "  <tbody>\n",
       "    <tr>\n",
       "      <th>0</th>\n",
       "      <td>1.0</td>\n",
       "      <td>2022-01-01</td>\n",
       "      <td>1.0</td>\n",
       "      <td>3</td>\n",
       "      <td>test</td>\n",
       "      <td>foo</td>\n",
       "    </tr>\n",
       "    <tr>\n",
       "      <th>1</th>\n",
       "      <td>2.0</td>\n",
       "      <td>2022-01-02</td>\n",
       "      <td>1.0</td>\n",
       "      <td>3</td>\n",
       "      <td>train</td>\n",
       "      <td>foo</td>\n",
       "    </tr>\n",
       "    <tr>\n",
       "      <th>2</th>\n",
       "      <td>3.0</td>\n",
       "      <td>2022-01-03</td>\n",
       "      <td>1.0</td>\n",
       "      <td>3</td>\n",
       "      <td>test</td>\n",
       "      <td>foo</td>\n",
       "    </tr>\n",
       "    <tr>\n",
       "      <th>3</th>\n",
       "      <td>NaN</td>\n",
       "      <td>2022-01-04</td>\n",
       "      <td>1.0</td>\n",
       "      <td>3</td>\n",
       "      <td>train</td>\n",
       "      <td>foo</td>\n",
       "    </tr>\n",
       "  </tbody>\n",
       "</table>\n",
       "</div>"
      ],
      "text/plain": [
       "     A          B    C  D      E    F\n",
       "0  1.0 2022-01-01  1.0  3   test  foo\n",
       "1  2.0 2022-01-02  1.0  3  train  foo\n",
       "2  3.0 2022-01-03  1.0  3   test  foo\n",
       "3  NaN 2022-01-04  1.0  3  train  foo"
      ]
     },
     "execution_count": 9,
     "metadata": {},
     "output_type": "execute_result"
    }
   ],
   "source": [
    "df"
   ]
  },
  {
   "cell_type": "code",
   "execution_count": 10,
   "metadata": {},
   "outputs": [],
   "source": [
    "# 创建随机数df\n",
    "\n",
    "np.random.seed(10)\n",
    "df2 = pd.DataFrame(np.random.rand(10,4),columns=['A','B','C','D'])"
   ]
  },
  {
   "cell_type": "code",
   "execution_count": 11,
   "metadata": {},
   "outputs": [
    {
     "data": {
      "text/html": [
       "<div>\n",
       "<style scoped>\n",
       "    .dataframe tbody tr th:only-of-type {\n",
       "        vertical-align: middle;\n",
       "    }\n",
       "\n",
       "    .dataframe tbody tr th {\n",
       "        vertical-align: top;\n",
       "    }\n",
       "\n",
       "    .dataframe thead th {\n",
       "        text-align: right;\n",
       "    }\n",
       "</style>\n",
       "<table border=\"1\" class=\"dataframe\">\n",
       "  <thead>\n",
       "    <tr style=\"text-align: right;\">\n",
       "      <th></th>\n",
       "      <th>A</th>\n",
       "      <th>B</th>\n",
       "      <th>C</th>\n",
       "      <th>D</th>\n",
       "    </tr>\n",
       "  </thead>\n",
       "  <tbody>\n",
       "    <tr>\n",
       "      <th>0</th>\n",
       "      <td>0.771321</td>\n",
       "      <td>0.020752</td>\n",
       "      <td>0.633648</td>\n",
       "      <td>0.748804</td>\n",
       "    </tr>\n",
       "    <tr>\n",
       "      <th>1</th>\n",
       "      <td>0.498507</td>\n",
       "      <td>0.224797</td>\n",
       "      <td>0.198063</td>\n",
       "      <td>0.760531</td>\n",
       "    </tr>\n",
       "    <tr>\n",
       "      <th>2</th>\n",
       "      <td>0.169111</td>\n",
       "      <td>0.088340</td>\n",
       "      <td>0.685360</td>\n",
       "      <td>0.953393</td>\n",
       "    </tr>\n",
       "    <tr>\n",
       "      <th>3</th>\n",
       "      <td>0.003948</td>\n",
       "      <td>0.512192</td>\n",
       "      <td>0.812621</td>\n",
       "      <td>0.612526</td>\n",
       "    </tr>\n",
       "    <tr>\n",
       "      <th>4</th>\n",
       "      <td>0.721755</td>\n",
       "      <td>0.291876</td>\n",
       "      <td>0.917774</td>\n",
       "      <td>0.714576</td>\n",
       "    </tr>\n",
       "    <tr>\n",
       "      <th>5</th>\n",
       "      <td>0.542544</td>\n",
       "      <td>0.142170</td>\n",
       "      <td>0.373341</td>\n",
       "      <td>0.674134</td>\n",
       "    </tr>\n",
       "    <tr>\n",
       "      <th>6</th>\n",
       "      <td>0.441833</td>\n",
       "      <td>0.434014</td>\n",
       "      <td>0.617767</td>\n",
       "      <td>0.513138</td>\n",
       "    </tr>\n",
       "    <tr>\n",
       "      <th>7</th>\n",
       "      <td>0.650397</td>\n",
       "      <td>0.601039</td>\n",
       "      <td>0.805223</td>\n",
       "      <td>0.521647</td>\n",
       "    </tr>\n",
       "    <tr>\n",
       "      <th>8</th>\n",
       "      <td>0.908649</td>\n",
       "      <td>0.319236</td>\n",
       "      <td>0.090459</td>\n",
       "      <td>0.300700</td>\n",
       "    </tr>\n",
       "    <tr>\n",
       "      <th>9</th>\n",
       "      <td>0.113984</td>\n",
       "      <td>0.828681</td>\n",
       "      <td>0.046896</td>\n",
       "      <td>0.626287</td>\n",
       "    </tr>\n",
       "  </tbody>\n",
       "</table>\n",
       "</div>"
      ],
      "text/plain": [
       "          A         B         C         D\n",
       "0  0.771321  0.020752  0.633648  0.748804\n",
       "1  0.498507  0.224797  0.198063  0.760531\n",
       "2  0.169111  0.088340  0.685360  0.953393\n",
       "3  0.003948  0.512192  0.812621  0.612526\n",
       "4  0.721755  0.291876  0.917774  0.714576\n",
       "5  0.542544  0.142170  0.373341  0.674134\n",
       "6  0.441833  0.434014  0.617767  0.513138\n",
       "7  0.650397  0.601039  0.805223  0.521647\n",
       "8  0.908649  0.319236  0.090459  0.300700\n",
       "9  0.113984  0.828681  0.046896  0.626287"
      ]
     },
     "execution_count": 11,
     "metadata": {},
     "output_type": "execute_result"
    }
   ],
   "source": [
    "df2"
   ]
  },
  {
   "cell_type": "markdown",
   "metadata": {},
   "source": [
    "### 查看数据"
   ]
  },
  {
   "cell_type": "code",
   "execution_count": 12,
   "metadata": {},
   "outputs": [
    {
     "data": {
      "text/html": [
       "<div>\n",
       "<style scoped>\n",
       "    .dataframe tbody tr th:only-of-type {\n",
       "        vertical-align: middle;\n",
       "    }\n",
       "\n",
       "    .dataframe tbody tr th {\n",
       "        vertical-align: top;\n",
       "    }\n",
       "\n",
       "    .dataframe thead th {\n",
       "        text-align: right;\n",
       "    }\n",
       "</style>\n",
       "<table border=\"1\" class=\"dataframe\">\n",
       "  <thead>\n",
       "    <tr style=\"text-align: right;\">\n",
       "      <th></th>\n",
       "      <th>A</th>\n",
       "      <th>B</th>\n",
       "      <th>C</th>\n",
       "      <th>D</th>\n",
       "    </tr>\n",
       "  </thead>\n",
       "  <tbody>\n",
       "    <tr>\n",
       "      <th>0</th>\n",
       "      <td>0.771321</td>\n",
       "      <td>0.020752</td>\n",
       "      <td>0.633648</td>\n",
       "      <td>0.748804</td>\n",
       "    </tr>\n",
       "    <tr>\n",
       "      <th>1</th>\n",
       "      <td>0.498507</td>\n",
       "      <td>0.224797</td>\n",
       "      <td>0.198063</td>\n",
       "      <td>0.760531</td>\n",
       "    </tr>\n",
       "    <tr>\n",
       "      <th>2</th>\n",
       "      <td>0.169111</td>\n",
       "      <td>0.088340</td>\n",
       "      <td>0.685360</td>\n",
       "      <td>0.953393</td>\n",
       "    </tr>\n",
       "  </tbody>\n",
       "</table>\n",
       "</div>"
      ],
      "text/plain": [
       "          A         B         C         D\n",
       "0  0.771321  0.020752  0.633648  0.748804\n",
       "1  0.498507  0.224797  0.198063  0.760531\n",
       "2  0.169111  0.088340  0.685360  0.953393"
      ]
     },
     "execution_count": 12,
     "metadata": {},
     "output_type": "execute_result"
    }
   ],
   "source": [
    "# 前三行\n",
    "df2.head(n=3)"
   ]
  },
  {
   "cell_type": "code",
   "execution_count": 13,
   "metadata": {},
   "outputs": [
    {
     "data": {
      "text/html": [
       "<div>\n",
       "<style scoped>\n",
       "    .dataframe tbody tr th:only-of-type {\n",
       "        vertical-align: middle;\n",
       "    }\n",
       "\n",
       "    .dataframe tbody tr th {\n",
       "        vertical-align: top;\n",
       "    }\n",
       "\n",
       "    .dataframe thead th {\n",
       "        text-align: right;\n",
       "    }\n",
       "</style>\n",
       "<table border=\"1\" class=\"dataframe\">\n",
       "  <thead>\n",
       "    <tr style=\"text-align: right;\">\n",
       "      <th></th>\n",
       "      <th>A</th>\n",
       "      <th>B</th>\n",
       "      <th>C</th>\n",
       "      <th>D</th>\n",
       "    </tr>\n",
       "  </thead>\n",
       "  <tbody>\n",
       "    <tr>\n",
       "      <th>6</th>\n",
       "      <td>0.441833</td>\n",
       "      <td>0.434014</td>\n",
       "      <td>0.617767</td>\n",
       "      <td>0.513138</td>\n",
       "    </tr>\n",
       "    <tr>\n",
       "      <th>7</th>\n",
       "      <td>0.650397</td>\n",
       "      <td>0.601039</td>\n",
       "      <td>0.805223</td>\n",
       "      <td>0.521647</td>\n",
       "    </tr>\n",
       "    <tr>\n",
       "      <th>8</th>\n",
       "      <td>0.908649</td>\n",
       "      <td>0.319236</td>\n",
       "      <td>0.090459</td>\n",
       "      <td>0.300700</td>\n",
       "    </tr>\n",
       "    <tr>\n",
       "      <th>9</th>\n",
       "      <td>0.113984</td>\n",
       "      <td>0.828681</td>\n",
       "      <td>0.046896</td>\n",
       "      <td>0.626287</td>\n",
       "    </tr>\n",
       "  </tbody>\n",
       "</table>\n",
       "</div>"
      ],
      "text/plain": [
       "          A         B         C         D\n",
       "6  0.441833  0.434014  0.617767  0.513138\n",
       "7  0.650397  0.601039  0.805223  0.521647\n",
       "8  0.908649  0.319236  0.090459  0.300700\n",
       "9  0.113984  0.828681  0.046896  0.626287"
      ]
     },
     "execution_count": 13,
     "metadata": {},
     "output_type": "execute_result"
    }
   ],
   "source": [
    "# 后四行\n",
    "df2.tail(n=4)"
   ]
  },
  {
   "cell_type": "code",
   "execution_count": 14,
   "metadata": {},
   "outputs": [
    {
     "data": {
      "text/plain": [
       "RangeIndex(start=0, stop=10, step=1)"
      ]
     },
     "execution_count": 14,
     "metadata": {},
     "output_type": "execute_result"
    }
   ],
   "source": [
    "# 查看index\n",
    "df2.index"
   ]
  },
  {
   "cell_type": "code",
   "execution_count": 15,
   "metadata": {},
   "outputs": [
    {
     "data": {
      "text/plain": [
       "Index(['A', 'B', 'C', 'D'], dtype='object')"
      ]
     },
     "execution_count": 15,
     "metadata": {},
     "output_type": "execute_result"
    }
   ],
   "source": [
    "# 查看columns\n",
    "df2.columns"
   ]
  },
  {
   "cell_type": "code",
   "execution_count": 16,
   "metadata": {},
   "outputs": [
    {
     "data": {
      "text/plain": [
       "array([[0.77132064, 0.02075195, 0.63364823, 0.74880388],\n",
       "       [0.49850701, 0.22479665, 0.19806286, 0.76053071],\n",
       "       [0.16911084, 0.08833981, 0.68535982, 0.95339335],\n",
       "       [0.00394827, 0.51219226, 0.81262096, 0.61252607],\n",
       "       [0.72175532, 0.29187607, 0.91777412, 0.71457578],\n",
       "       [0.54254437, 0.14217005, 0.37334076, 0.67413362],\n",
       "       [0.44183317, 0.43401399, 0.61776698, 0.51313824],\n",
       "       [0.65039718, 0.60103895, 0.8052232 , 0.52164715],\n",
       "       [0.90864888, 0.31923609, 0.09045935, 0.30070006],\n",
       "       [0.11398436, 0.82868133, 0.04689632, 0.62628715]])"
      ]
     },
     "execution_count": 16,
     "metadata": {},
     "output_type": "execute_result"
    }
   ],
   "source": [
    "# 转化为数组，此时index和columns被省略！\n",
    "df2.to_numpy() "
   ]
  },
  {
   "cell_type": "code",
   "execution_count": 17,
   "metadata": {},
   "outputs": [
    {
     "data": {
      "text/html": [
       "<div>\n",
       "<style scoped>\n",
       "    .dataframe tbody tr th:only-of-type {\n",
       "        vertical-align: middle;\n",
       "    }\n",
       "\n",
       "    .dataframe tbody tr th {\n",
       "        vertical-align: top;\n",
       "    }\n",
       "\n",
       "    .dataframe thead th {\n",
       "        text-align: right;\n",
       "    }\n",
       "</style>\n",
       "<table border=\"1\" class=\"dataframe\">\n",
       "  <thead>\n",
       "    <tr style=\"text-align: right;\">\n",
       "      <th></th>\n",
       "      <th>A</th>\n",
       "      <th>C</th>\n",
       "      <th>D</th>\n",
       "    </tr>\n",
       "  </thead>\n",
       "  <tbody>\n",
       "    <tr>\n",
       "      <th>count</th>\n",
       "      <td>3.0</td>\n",
       "      <td>4.0</td>\n",
       "      <td>4.0</td>\n",
       "    </tr>\n",
       "    <tr>\n",
       "      <th>mean</th>\n",
       "      <td>2.0</td>\n",
       "      <td>1.0</td>\n",
       "      <td>3.0</td>\n",
       "    </tr>\n",
       "    <tr>\n",
       "      <th>std</th>\n",
       "      <td>1.0</td>\n",
       "      <td>0.0</td>\n",
       "      <td>0.0</td>\n",
       "    </tr>\n",
       "    <tr>\n",
       "      <th>min</th>\n",
       "      <td>1.0</td>\n",
       "      <td>1.0</td>\n",
       "      <td>3.0</td>\n",
       "    </tr>\n",
       "    <tr>\n",
       "      <th>25%</th>\n",
       "      <td>1.5</td>\n",
       "      <td>1.0</td>\n",
       "      <td>3.0</td>\n",
       "    </tr>\n",
       "    <tr>\n",
       "      <th>50%</th>\n",
       "      <td>2.0</td>\n",
       "      <td>1.0</td>\n",
       "      <td>3.0</td>\n",
       "    </tr>\n",
       "    <tr>\n",
       "      <th>75%</th>\n",
       "      <td>2.5</td>\n",
       "      <td>1.0</td>\n",
       "      <td>3.0</td>\n",
       "    </tr>\n",
       "    <tr>\n",
       "      <th>max</th>\n",
       "      <td>3.0</td>\n",
       "      <td>1.0</td>\n",
       "      <td>3.0</td>\n",
       "    </tr>\n",
       "  </tbody>\n",
       "</table>\n",
       "</div>"
      ],
      "text/plain": [
       "         A    C    D\n",
       "count  3.0  4.0  4.0\n",
       "mean   2.0  1.0  3.0\n",
       "std    1.0  0.0  0.0\n",
       "min    1.0  1.0  3.0\n",
       "25%    1.5  1.0  3.0\n",
       "50%    2.0  1.0  3.0\n",
       "75%    2.5  1.0  3.0\n",
       "max    3.0  1.0  3.0"
      ]
     },
     "execution_count": 17,
     "metadata": {},
     "output_type": "execute_result"
    }
   ],
   "source": [
    "# 连续型变量描述统计（只针对连续型数据）\n",
    "df.describe()  # 其他列不是连续型数据"
   ]
  },
  {
   "cell_type": "code",
   "execution_count": 18,
   "metadata": {},
   "outputs": [
    {
     "data": {
      "text/html": [
       "<div>\n",
       "<style scoped>\n",
       "    .dataframe tbody tr th:only-of-type {\n",
       "        vertical-align: middle;\n",
       "    }\n",
       "\n",
       "    .dataframe tbody tr th {\n",
       "        vertical-align: top;\n",
       "    }\n",
       "\n",
       "    .dataframe thead th {\n",
       "        text-align: right;\n",
       "    }\n",
       "</style>\n",
       "<table border=\"1\" class=\"dataframe\">\n",
       "  <thead>\n",
       "    <tr style=\"text-align: right;\">\n",
       "      <th></th>\n",
       "      <th>A</th>\n",
       "      <th>B</th>\n",
       "      <th>C</th>\n",
       "      <th>D</th>\n",
       "    </tr>\n",
       "  </thead>\n",
       "  <tbody>\n",
       "    <tr>\n",
       "      <th>count</th>\n",
       "      <td>10.000000</td>\n",
       "      <td>10.000000</td>\n",
       "      <td>10.000000</td>\n",
       "      <td>10.000000</td>\n",
       "    </tr>\n",
       "    <tr>\n",
       "      <th>mean</th>\n",
       "      <td>0.482205</td>\n",
       "      <td>0.346310</td>\n",
       "      <td>0.518115</td>\n",
       "      <td>0.642574</td>\n",
       "    </tr>\n",
       "    <tr>\n",
       "      <th>std</th>\n",
       "      <td>0.301661</td>\n",
       "      <td>0.250655</td>\n",
       "      <td>0.317712</td>\n",
       "      <td>0.175566</td>\n",
       "    </tr>\n",
       "    <tr>\n",
       "      <th>min</th>\n",
       "      <td>0.003948</td>\n",
       "      <td>0.020752</td>\n",
       "      <td>0.046896</td>\n",
       "      <td>0.300700</td>\n",
       "    </tr>\n",
       "    <tr>\n",
       "      <th>25%</th>\n",
       "      <td>0.237291</td>\n",
       "      <td>0.162827</td>\n",
       "      <td>0.241882</td>\n",
       "      <td>0.544367</td>\n",
       "    </tr>\n",
       "    <tr>\n",
       "      <th>50%</th>\n",
       "      <td>0.520526</td>\n",
       "      <td>0.305556</td>\n",
       "      <td>0.625708</td>\n",
       "      <td>0.650210</td>\n",
       "    </tr>\n",
       "    <tr>\n",
       "      <th>75%</th>\n",
       "      <td>0.703916</td>\n",
       "      <td>0.492648</td>\n",
       "      <td>0.775257</td>\n",
       "      <td>0.740247</td>\n",
       "    </tr>\n",
       "    <tr>\n",
       "      <th>max</th>\n",
       "      <td>0.908649</td>\n",
       "      <td>0.828681</td>\n",
       "      <td>0.917774</td>\n",
       "      <td>0.953393</td>\n",
       "    </tr>\n",
       "  </tbody>\n",
       "</table>\n",
       "</div>"
      ],
      "text/plain": [
       "               A          B          C          D\n",
       "count  10.000000  10.000000  10.000000  10.000000\n",
       "mean    0.482205   0.346310   0.518115   0.642574\n",
       "std     0.301661   0.250655   0.317712   0.175566\n",
       "min     0.003948   0.020752   0.046896   0.300700\n",
       "25%     0.237291   0.162827   0.241882   0.544367\n",
       "50%     0.520526   0.305556   0.625708   0.650210\n",
       "75%     0.703916   0.492648   0.775257   0.740247\n",
       "max     0.908649   0.828681   0.917774   0.953393"
      ]
     },
     "execution_count": 18,
     "metadata": {},
     "output_type": "execute_result"
    }
   ],
   "source": [
    "df2.describe() # 4列都是连续型数据"
   ]
  },
  {
   "cell_type": "code",
   "execution_count": 19,
   "metadata": {},
   "outputs": [
    {
     "name": "stdout",
     "output_type": "stream",
     "text": [
      "<class 'pandas.core.frame.DataFrame'>\n",
      "Int64Index: 4 entries, 0 to 3\n",
      "Data columns (total 6 columns):\n",
      " #   Column  Non-Null Count  Dtype         \n",
      "---  ------  --------------  -----         \n",
      " 0   A       3 non-null      float64       \n",
      " 1   B       4 non-null      datetime64[ns]\n",
      " 2   C       4 non-null      float32       \n",
      " 3   D       4 non-null      int32         \n",
      " 4   E       4 non-null      category      \n",
      " 5   F       4 non-null      object        \n",
      "dtypes: category(1), datetime64[ns](1), float32(1), float64(1), int32(1), object(1)\n",
      "memory usage: 288.0+ bytes\n"
     ]
    }
   ],
   "source": [
    "# 查看基本信息\n",
    "df.info()"
   ]
  },
  {
   "cell_type": "code",
   "execution_count": 20,
   "metadata": {},
   "outputs": [
    {
     "data": {
      "text/plain": [
       "(10, 4)"
      ]
     },
     "execution_count": 20,
     "metadata": {},
     "output_type": "execute_result"
    }
   ],
   "source": [
    "# 维度\n",
    "df2.shape"
   ]
  },
  {
   "cell_type": "code",
   "execution_count": 21,
   "metadata": {},
   "outputs": [
    {
     "data": {
      "text/plain": [
       "A           float64\n",
       "B    datetime64[ns]\n",
       "C           float32\n",
       "D             int32\n",
       "E          category\n",
       "F            object\n",
       "dtype: object"
      ]
     },
     "execution_count": 21,
     "metadata": {},
     "output_type": "execute_result"
    }
   ],
   "source": [
    "# 各维度数据类型\n",
    "df.dtypes"
   ]
  },
  {
   "cell_type": "markdown",
   "metadata": {},
   "source": [
    "### 排序"
   ]
  },
  {
   "cell_type": "code",
   "execution_count": 22,
   "metadata": {},
   "outputs": [
    {
     "data": {
      "text/html": [
       "<div>\n",
       "<style scoped>\n",
       "    .dataframe tbody tr th:only-of-type {\n",
       "        vertical-align: middle;\n",
       "    }\n",
       "\n",
       "    .dataframe tbody tr th {\n",
       "        vertical-align: top;\n",
       "    }\n",
       "\n",
       "    .dataframe thead th {\n",
       "        text-align: right;\n",
       "    }\n",
       "</style>\n",
       "<table border=\"1\" class=\"dataframe\">\n",
       "  <thead>\n",
       "    <tr style=\"text-align: right;\">\n",
       "      <th></th>\n",
       "      <th>A</th>\n",
       "      <th>B</th>\n",
       "      <th>C</th>\n",
       "      <th>D</th>\n",
       "    </tr>\n",
       "  </thead>\n",
       "  <tbody>\n",
       "    <tr>\n",
       "      <th>9</th>\n",
       "      <td>0.113984</td>\n",
       "      <td>0.828681</td>\n",
       "      <td>0.046896</td>\n",
       "      <td>0.626287</td>\n",
       "    </tr>\n",
       "    <tr>\n",
       "      <th>8</th>\n",
       "      <td>0.908649</td>\n",
       "      <td>0.319236</td>\n",
       "      <td>0.090459</td>\n",
       "      <td>0.300700</td>\n",
       "    </tr>\n",
       "    <tr>\n",
       "      <th>7</th>\n",
       "      <td>0.650397</td>\n",
       "      <td>0.601039</td>\n",
       "      <td>0.805223</td>\n",
       "      <td>0.521647</td>\n",
       "    </tr>\n",
       "    <tr>\n",
       "      <th>6</th>\n",
       "      <td>0.441833</td>\n",
       "      <td>0.434014</td>\n",
       "      <td>0.617767</td>\n",
       "      <td>0.513138</td>\n",
       "    </tr>\n",
       "    <tr>\n",
       "      <th>5</th>\n",
       "      <td>0.542544</td>\n",
       "      <td>0.142170</td>\n",
       "      <td>0.373341</td>\n",
       "      <td>0.674134</td>\n",
       "    </tr>\n",
       "    <tr>\n",
       "      <th>4</th>\n",
       "      <td>0.721755</td>\n",
       "      <td>0.291876</td>\n",
       "      <td>0.917774</td>\n",
       "      <td>0.714576</td>\n",
       "    </tr>\n",
       "    <tr>\n",
       "      <th>3</th>\n",
       "      <td>0.003948</td>\n",
       "      <td>0.512192</td>\n",
       "      <td>0.812621</td>\n",
       "      <td>0.612526</td>\n",
       "    </tr>\n",
       "    <tr>\n",
       "      <th>2</th>\n",
       "      <td>0.169111</td>\n",
       "      <td>0.088340</td>\n",
       "      <td>0.685360</td>\n",
       "      <td>0.953393</td>\n",
       "    </tr>\n",
       "    <tr>\n",
       "      <th>1</th>\n",
       "      <td>0.498507</td>\n",
       "      <td>0.224797</td>\n",
       "      <td>0.198063</td>\n",
       "      <td>0.760531</td>\n",
       "    </tr>\n",
       "    <tr>\n",
       "      <th>0</th>\n",
       "      <td>0.771321</td>\n",
       "      <td>0.020752</td>\n",
       "      <td>0.633648</td>\n",
       "      <td>0.748804</td>\n",
       "    </tr>\n",
       "  </tbody>\n",
       "</table>\n",
       "</div>"
      ],
      "text/plain": [
       "          A         B         C         D\n",
       "9  0.113984  0.828681  0.046896  0.626287\n",
       "8  0.908649  0.319236  0.090459  0.300700\n",
       "7  0.650397  0.601039  0.805223  0.521647\n",
       "6  0.441833  0.434014  0.617767  0.513138\n",
       "5  0.542544  0.142170  0.373341  0.674134\n",
       "4  0.721755  0.291876  0.917774  0.714576\n",
       "3  0.003948  0.512192  0.812621  0.612526\n",
       "2  0.169111  0.088340  0.685360  0.953393\n",
       "1  0.498507  0.224797  0.198063  0.760531\n",
       "0  0.771321  0.020752  0.633648  0.748804"
      ]
     },
     "execution_count": 22,
     "metadata": {},
     "output_type": "execute_result"
    }
   ],
   "source": [
    "df2.sort_index(axis = 0,ascending=False)\n",
    "# 按照行索引倒序排列，看最左边9876.。。"
   ]
  },
  {
   "cell_type": "code",
   "execution_count": 23,
   "metadata": {},
   "outputs": [
    {
     "data": {
      "text/html": [
       "<div>\n",
       "<style scoped>\n",
       "    .dataframe tbody tr th:only-of-type {\n",
       "        vertical-align: middle;\n",
       "    }\n",
       "\n",
       "    .dataframe tbody tr th {\n",
       "        vertical-align: top;\n",
       "    }\n",
       "\n",
       "    .dataframe thead th {\n",
       "        text-align: right;\n",
       "    }\n",
       "</style>\n",
       "<table border=\"1\" class=\"dataframe\">\n",
       "  <thead>\n",
       "    <tr style=\"text-align: right;\">\n",
       "      <th></th>\n",
       "      <th>A</th>\n",
       "      <th>B</th>\n",
       "      <th>C</th>\n",
       "      <th>D</th>\n",
       "    </tr>\n",
       "  </thead>\n",
       "  <tbody>\n",
       "    <tr>\n",
       "      <th>0</th>\n",
       "      <td>0.771321</td>\n",
       "      <td>0.020752</td>\n",
       "      <td>0.633648</td>\n",
       "      <td>0.748804</td>\n",
       "    </tr>\n",
       "    <tr>\n",
       "      <th>2</th>\n",
       "      <td>0.169111</td>\n",
       "      <td>0.088340</td>\n",
       "      <td>0.685360</td>\n",
       "      <td>0.953393</td>\n",
       "    </tr>\n",
       "    <tr>\n",
       "      <th>5</th>\n",
       "      <td>0.542544</td>\n",
       "      <td>0.142170</td>\n",
       "      <td>0.373341</td>\n",
       "      <td>0.674134</td>\n",
       "    </tr>\n",
       "    <tr>\n",
       "      <th>1</th>\n",
       "      <td>0.498507</td>\n",
       "      <td>0.224797</td>\n",
       "      <td>0.198063</td>\n",
       "      <td>0.760531</td>\n",
       "    </tr>\n",
       "    <tr>\n",
       "      <th>4</th>\n",
       "      <td>0.721755</td>\n",
       "      <td>0.291876</td>\n",
       "      <td>0.917774</td>\n",
       "      <td>0.714576</td>\n",
       "    </tr>\n",
       "    <tr>\n",
       "      <th>8</th>\n",
       "      <td>0.908649</td>\n",
       "      <td>0.319236</td>\n",
       "      <td>0.090459</td>\n",
       "      <td>0.300700</td>\n",
       "    </tr>\n",
       "    <tr>\n",
       "      <th>6</th>\n",
       "      <td>0.441833</td>\n",
       "      <td>0.434014</td>\n",
       "      <td>0.617767</td>\n",
       "      <td>0.513138</td>\n",
       "    </tr>\n",
       "    <tr>\n",
       "      <th>3</th>\n",
       "      <td>0.003948</td>\n",
       "      <td>0.512192</td>\n",
       "      <td>0.812621</td>\n",
       "      <td>0.612526</td>\n",
       "    </tr>\n",
       "    <tr>\n",
       "      <th>7</th>\n",
       "      <td>0.650397</td>\n",
       "      <td>0.601039</td>\n",
       "      <td>0.805223</td>\n",
       "      <td>0.521647</td>\n",
       "    </tr>\n",
       "    <tr>\n",
       "      <th>9</th>\n",
       "      <td>0.113984</td>\n",
       "      <td>0.828681</td>\n",
       "      <td>0.046896</td>\n",
       "      <td>0.626287</td>\n",
       "    </tr>\n",
       "  </tbody>\n",
       "</table>\n",
       "</div>"
      ],
      "text/plain": [
       "          A         B         C         D\n",
       "0  0.771321  0.020752  0.633648  0.748804\n",
       "2  0.169111  0.088340  0.685360  0.953393\n",
       "5  0.542544  0.142170  0.373341  0.674134\n",
       "1  0.498507  0.224797  0.198063  0.760531\n",
       "4  0.721755  0.291876  0.917774  0.714576\n",
       "8  0.908649  0.319236  0.090459  0.300700\n",
       "6  0.441833  0.434014  0.617767  0.513138\n",
       "3  0.003948  0.512192  0.812621  0.612526\n",
       "7  0.650397  0.601039  0.805223  0.521647\n",
       "9  0.113984  0.828681  0.046896  0.626287"
      ]
     },
     "execution_count": 23,
     "metadata": {},
     "output_type": "execute_result"
    }
   ],
   "source": [
    "df2.sort_values(by = 'B')\n",
    "# 按照B列的值排序，从小到大"
   ]
  },
  {
   "cell_type": "markdown",
   "metadata": {},
   "source": [
    "### 取列数据（普通）"
   ]
  },
  {
   "cell_type": "code",
   "execution_count": 24,
   "metadata": {},
   "outputs": [
    {
     "data": {
      "text/plain": [
       "0    0.771321\n",
       "1    0.498507\n",
       "2    0.169111\n",
       "3    0.003948\n",
       "4    0.721755\n",
       "5    0.542544\n",
       "6    0.441833\n",
       "7    0.650397\n",
       "8    0.908649\n",
       "9    0.113984\n",
       "Name: A, dtype: float64"
      ]
     },
     "execution_count": 24,
     "metadata": {},
     "output_type": "execute_result"
    }
   ],
   "source": [
    "df2.A # 取A列"
   ]
  },
  {
   "cell_type": "code",
   "execution_count": 25,
   "metadata": {},
   "outputs": [
    {
     "data": {
      "text/plain": [
       "0    0.771321\n",
       "1    0.498507\n",
       "2    0.169111\n",
       "3    0.003948\n",
       "4    0.721755\n",
       "5    0.542544\n",
       "6    0.441833\n",
       "7    0.650397\n",
       "8    0.908649\n",
       "9    0.113984\n",
       "Name: A, dtype: float64"
      ]
     },
     "execution_count": 25,
     "metadata": {},
     "output_type": "execute_result"
    }
   ],
   "source": [
    "df2['A']"
   ]
  },
  {
   "cell_type": "code",
   "execution_count": 26,
   "metadata": {},
   "outputs": [
    {
     "data": {
      "text/html": [
       "<div>\n",
       "<style scoped>\n",
       "    .dataframe tbody tr th:only-of-type {\n",
       "        vertical-align: middle;\n",
       "    }\n",
       "\n",
       "    .dataframe tbody tr th {\n",
       "        vertical-align: top;\n",
       "    }\n",
       "\n",
       "    .dataframe thead th {\n",
       "        text-align: right;\n",
       "    }\n",
       "</style>\n",
       "<table border=\"1\" class=\"dataframe\">\n",
       "  <thead>\n",
       "    <tr style=\"text-align: right;\">\n",
       "      <th></th>\n",
       "      <th>A</th>\n",
       "      <th>B</th>\n",
       "    </tr>\n",
       "  </thead>\n",
       "  <tbody>\n",
       "    <tr>\n",
       "      <th>0</th>\n",
       "      <td>0.771321</td>\n",
       "      <td>0.020752</td>\n",
       "    </tr>\n",
       "    <tr>\n",
       "      <th>1</th>\n",
       "      <td>0.498507</td>\n",
       "      <td>0.224797</td>\n",
       "    </tr>\n",
       "    <tr>\n",
       "      <th>2</th>\n",
       "      <td>0.169111</td>\n",
       "      <td>0.088340</td>\n",
       "    </tr>\n",
       "    <tr>\n",
       "      <th>3</th>\n",
       "      <td>0.003948</td>\n",
       "      <td>0.512192</td>\n",
       "    </tr>\n",
       "    <tr>\n",
       "      <th>4</th>\n",
       "      <td>0.721755</td>\n",
       "      <td>0.291876</td>\n",
       "    </tr>\n",
       "    <tr>\n",
       "      <th>5</th>\n",
       "      <td>0.542544</td>\n",
       "      <td>0.142170</td>\n",
       "    </tr>\n",
       "    <tr>\n",
       "      <th>6</th>\n",
       "      <td>0.441833</td>\n",
       "      <td>0.434014</td>\n",
       "    </tr>\n",
       "    <tr>\n",
       "      <th>7</th>\n",
       "      <td>0.650397</td>\n",
       "      <td>0.601039</td>\n",
       "    </tr>\n",
       "    <tr>\n",
       "      <th>8</th>\n",
       "      <td>0.908649</td>\n",
       "      <td>0.319236</td>\n",
       "    </tr>\n",
       "    <tr>\n",
       "      <th>9</th>\n",
       "      <td>0.113984</td>\n",
       "      <td>0.828681</td>\n",
       "    </tr>\n",
       "  </tbody>\n",
       "</table>\n",
       "</div>"
      ],
      "text/plain": [
       "          A         B\n",
       "0  0.771321  0.020752\n",
       "1  0.498507  0.224797\n",
       "2  0.169111  0.088340\n",
       "3  0.003948  0.512192\n",
       "4  0.721755  0.291876\n",
       "5  0.542544  0.142170\n",
       "6  0.441833  0.434014\n",
       "7  0.650397  0.601039\n",
       "8  0.908649  0.319236\n",
       "9  0.113984  0.828681"
      ]
     },
     "execution_count": 26,
     "metadata": {},
     "output_type": "execute_result"
    }
   ],
   "source": [
    "df2[['A','B']]\n",
    "# 取AB两列，注意两个中括号"
   ]
  },
  {
   "cell_type": "markdown",
   "metadata": {},
   "source": [
    "### 取列数据（索引）\n",
    "\n",
    "使用 loc iloc 方法索引，`:`代表所有行"
   ]
  },
  {
   "cell_type": "code",
   "execution_count": 27,
   "metadata": {},
   "outputs": [
    {
     "data": {
      "text/plain": [
       "0    0.771321\n",
       "1    0.498507\n",
       "2    0.169111\n",
       "3    0.003948\n",
       "4    0.721755\n",
       "5    0.542544\n",
       "6    0.441833\n",
       "7    0.650397\n",
       "8    0.908649\n",
       "9    0.113984\n",
       "Name: A, dtype: float64"
      ]
     },
     "execution_count": 27,
     "metadata": {},
     "output_type": "execute_result"
    }
   ],
   "source": [
    "df2.loc[:,'A']\n",
    "# 筛选所有行，和A列"
   ]
  },
  {
   "cell_type": "code",
   "execution_count": 28,
   "metadata": {},
   "outputs": [
    {
     "data": {
      "text/html": [
       "<div>\n",
       "<style scoped>\n",
       "    .dataframe tbody tr th:only-of-type {\n",
       "        vertical-align: middle;\n",
       "    }\n",
       "\n",
       "    .dataframe tbody tr th {\n",
       "        vertical-align: top;\n",
       "    }\n",
       "\n",
       "    .dataframe thead th {\n",
       "        text-align: right;\n",
       "    }\n",
       "</style>\n",
       "<table border=\"1\" class=\"dataframe\">\n",
       "  <thead>\n",
       "    <tr style=\"text-align: right;\">\n",
       "      <th></th>\n",
       "      <th>A</th>\n",
       "      <th>B</th>\n",
       "    </tr>\n",
       "  </thead>\n",
       "  <tbody>\n",
       "    <tr>\n",
       "      <th>0</th>\n",
       "      <td>0.771321</td>\n",
       "      <td>0.020752</td>\n",
       "    </tr>\n",
       "    <tr>\n",
       "      <th>1</th>\n",
       "      <td>0.498507</td>\n",
       "      <td>0.224797</td>\n",
       "    </tr>\n",
       "    <tr>\n",
       "      <th>2</th>\n",
       "      <td>0.169111</td>\n",
       "      <td>0.088340</td>\n",
       "    </tr>\n",
       "    <tr>\n",
       "      <th>3</th>\n",
       "      <td>0.003948</td>\n",
       "      <td>0.512192</td>\n",
       "    </tr>\n",
       "    <tr>\n",
       "      <th>4</th>\n",
       "      <td>0.721755</td>\n",
       "      <td>0.291876</td>\n",
       "    </tr>\n",
       "    <tr>\n",
       "      <th>5</th>\n",
       "      <td>0.542544</td>\n",
       "      <td>0.142170</td>\n",
       "    </tr>\n",
       "    <tr>\n",
       "      <th>6</th>\n",
       "      <td>0.441833</td>\n",
       "      <td>0.434014</td>\n",
       "    </tr>\n",
       "    <tr>\n",
       "      <th>7</th>\n",
       "      <td>0.650397</td>\n",
       "      <td>0.601039</td>\n",
       "    </tr>\n",
       "    <tr>\n",
       "      <th>8</th>\n",
       "      <td>0.908649</td>\n",
       "      <td>0.319236</td>\n",
       "    </tr>\n",
       "    <tr>\n",
       "      <th>9</th>\n",
       "      <td>0.113984</td>\n",
       "      <td>0.828681</td>\n",
       "    </tr>\n",
       "  </tbody>\n",
       "</table>\n",
       "</div>"
      ],
      "text/plain": [
       "          A         B\n",
       "0  0.771321  0.020752\n",
       "1  0.498507  0.224797\n",
       "2  0.169111  0.088340\n",
       "3  0.003948  0.512192\n",
       "4  0.721755  0.291876\n",
       "5  0.542544  0.142170\n",
       "6  0.441833  0.434014\n",
       "7  0.650397  0.601039\n",
       "8  0.908649  0.319236\n",
       "9  0.113984  0.828681"
      ]
     },
     "execution_count": 28,
     "metadata": {},
     "output_type": "execute_result"
    }
   ],
   "source": [
    "df2.loc[:,['A','B']]"
   ]
  },
  {
   "cell_type": "code",
   "execution_count": 29,
   "metadata": {},
   "outputs": [
    {
     "data": {
      "text/plain": [
       "0    0.771321\n",
       "1    0.498507\n",
       "2    0.169111\n",
       "3    0.003948\n",
       "4    0.721755\n",
       "5    0.542544\n",
       "6    0.441833\n",
       "7    0.650397\n",
       "8    0.908649\n",
       "9    0.113984\n",
       "Name: A, dtype: float64"
      ]
     },
     "execution_count": 29,
     "metadata": {},
     "output_type": "execute_result"
    }
   ],
   "source": [
    "df2.iloc[:,0]\n",
    "# 筛选所有行和第0列（在这里就是A列）"
   ]
  },
  {
   "cell_type": "code",
   "execution_count": 30,
   "metadata": {
    "scrolled": true
   },
   "outputs": [
    {
     "data": {
      "text/html": [
       "<div>\n",
       "<style scoped>\n",
       "    .dataframe tbody tr th:only-of-type {\n",
       "        vertical-align: middle;\n",
       "    }\n",
       "\n",
       "    .dataframe tbody tr th {\n",
       "        vertical-align: top;\n",
       "    }\n",
       "\n",
       "    .dataframe thead th {\n",
       "        text-align: right;\n",
       "    }\n",
       "</style>\n",
       "<table border=\"1\" class=\"dataframe\">\n",
       "  <thead>\n",
       "    <tr style=\"text-align: right;\">\n",
       "      <th></th>\n",
       "      <th>C</th>\n",
       "      <th>D</th>\n",
       "    </tr>\n",
       "  </thead>\n",
       "  <tbody>\n",
       "    <tr>\n",
       "      <th>0</th>\n",
       "      <td>0.633648</td>\n",
       "      <td>0.748804</td>\n",
       "    </tr>\n",
       "    <tr>\n",
       "      <th>1</th>\n",
       "      <td>0.198063</td>\n",
       "      <td>0.760531</td>\n",
       "    </tr>\n",
       "    <tr>\n",
       "      <th>2</th>\n",
       "      <td>0.685360</td>\n",
       "      <td>0.953393</td>\n",
       "    </tr>\n",
       "    <tr>\n",
       "      <th>3</th>\n",
       "      <td>0.812621</td>\n",
       "      <td>0.612526</td>\n",
       "    </tr>\n",
       "    <tr>\n",
       "      <th>4</th>\n",
       "      <td>0.917774</td>\n",
       "      <td>0.714576</td>\n",
       "    </tr>\n",
       "    <tr>\n",
       "      <th>5</th>\n",
       "      <td>0.373341</td>\n",
       "      <td>0.674134</td>\n",
       "    </tr>\n",
       "    <tr>\n",
       "      <th>6</th>\n",
       "      <td>0.617767</td>\n",
       "      <td>0.513138</td>\n",
       "    </tr>\n",
       "    <tr>\n",
       "      <th>7</th>\n",
       "      <td>0.805223</td>\n",
       "      <td>0.521647</td>\n",
       "    </tr>\n",
       "    <tr>\n",
       "      <th>8</th>\n",
       "      <td>0.090459</td>\n",
       "      <td>0.300700</td>\n",
       "    </tr>\n",
       "    <tr>\n",
       "      <th>9</th>\n",
       "      <td>0.046896</td>\n",
       "      <td>0.626287</td>\n",
       "    </tr>\n",
       "  </tbody>\n",
       "</table>\n",
       "</div>"
      ],
      "text/plain": [
       "          C         D\n",
       "0  0.633648  0.748804\n",
       "1  0.198063  0.760531\n",
       "2  0.685360  0.953393\n",
       "3  0.812621  0.612526\n",
       "4  0.917774  0.714576\n",
       "5  0.373341  0.674134\n",
       "6  0.617767  0.513138\n",
       "7  0.805223  0.521647\n",
       "8  0.090459  0.300700\n",
       "9  0.046896  0.626287"
      ]
     },
     "execution_count": 30,
     "metadata": {},
     "output_type": "execute_result"
    }
   ],
   "source": [
    "df2.iloc[:,2:4]\n",
    "# 筛选所有行和第3和第4列（在这里就是CD两列）"
   ]
  },
  {
   "cell_type": "markdown",
   "metadata": {},
   "source": [
    "### 取行数据"
   ]
  },
  {
   "cell_type": "code",
   "execution_count": 31,
   "metadata": {
    "scrolled": true
   },
   "outputs": [],
   "source": [
    "df3 = df2.copy()\n",
    "\n",
    "import random\n",
    "random.seed(100)\n",
    "df3.index = random.sample(range(100),k = 10)"
   ]
  },
  {
   "cell_type": "code",
   "execution_count": 32,
   "metadata": {},
   "outputs": [
    {
     "data": {
      "text/html": [
       "<div>\n",
       "<style scoped>\n",
       "    .dataframe tbody tr th:only-of-type {\n",
       "        vertical-align: middle;\n",
       "    }\n",
       "\n",
       "    .dataframe tbody tr th {\n",
       "        vertical-align: top;\n",
       "    }\n",
       "\n",
       "    .dataframe thead th {\n",
       "        text-align: right;\n",
       "    }\n",
       "</style>\n",
       "<table border=\"1\" class=\"dataframe\">\n",
       "  <thead>\n",
       "    <tr style=\"text-align: right;\">\n",
       "      <th></th>\n",
       "      <th>A</th>\n",
       "      <th>B</th>\n",
       "      <th>C</th>\n",
       "      <th>D</th>\n",
       "    </tr>\n",
       "  </thead>\n",
       "  <tbody>\n",
       "    <tr>\n",
       "      <th>18</th>\n",
       "      <td>0.771321</td>\n",
       "      <td>0.020752</td>\n",
       "      <td>0.633648</td>\n",
       "      <td>0.748804</td>\n",
       "    </tr>\n",
       "    <tr>\n",
       "      <th>58</th>\n",
       "      <td>0.498507</td>\n",
       "      <td>0.224797</td>\n",
       "      <td>0.198063</td>\n",
       "      <td>0.760531</td>\n",
       "    </tr>\n",
       "    <tr>\n",
       "      <th>98</th>\n",
       "      <td>0.169111</td>\n",
       "      <td>0.088340</td>\n",
       "      <td>0.685360</td>\n",
       "      <td>0.953393</td>\n",
       "    </tr>\n",
       "    <tr>\n",
       "      <th>22</th>\n",
       "      <td>0.003948</td>\n",
       "      <td>0.512192</td>\n",
       "      <td>0.812621</td>\n",
       "      <td>0.612526</td>\n",
       "    </tr>\n",
       "    <tr>\n",
       "      <th>90</th>\n",
       "      <td>0.721755</td>\n",
       "      <td>0.291876</td>\n",
       "      <td>0.917774</td>\n",
       "      <td>0.714576</td>\n",
       "    </tr>\n",
       "    <tr>\n",
       "      <th>50</th>\n",
       "      <td>0.542544</td>\n",
       "      <td>0.142170</td>\n",
       "      <td>0.373341</td>\n",
       "      <td>0.674134</td>\n",
       "    </tr>\n",
       "    <tr>\n",
       "      <th>93</th>\n",
       "      <td>0.441833</td>\n",
       "      <td>0.434014</td>\n",
       "      <td>0.617767</td>\n",
       "      <td>0.513138</td>\n",
       "    </tr>\n",
       "    <tr>\n",
       "      <th>44</th>\n",
       "      <td>0.650397</td>\n",
       "      <td>0.601039</td>\n",
       "      <td>0.805223</td>\n",
       "      <td>0.521647</td>\n",
       "    </tr>\n",
       "    <tr>\n",
       "      <th>55</th>\n",
       "      <td>0.908649</td>\n",
       "      <td>0.319236</td>\n",
       "      <td>0.090459</td>\n",
       "      <td>0.300700</td>\n",
       "    </tr>\n",
       "    <tr>\n",
       "      <th>64</th>\n",
       "      <td>0.113984</td>\n",
       "      <td>0.828681</td>\n",
       "      <td>0.046896</td>\n",
       "      <td>0.626287</td>\n",
       "    </tr>\n",
       "  </tbody>\n",
       "</table>\n",
       "</div>"
      ],
      "text/plain": [
       "           A         B         C         D\n",
       "18  0.771321  0.020752  0.633648  0.748804\n",
       "58  0.498507  0.224797  0.198063  0.760531\n",
       "98  0.169111  0.088340  0.685360  0.953393\n",
       "22  0.003948  0.512192  0.812621  0.612526\n",
       "90  0.721755  0.291876  0.917774  0.714576\n",
       "50  0.542544  0.142170  0.373341  0.674134\n",
       "93  0.441833  0.434014  0.617767  0.513138\n",
       "44  0.650397  0.601039  0.805223  0.521647\n",
       "55  0.908649  0.319236  0.090459  0.300700\n",
       "64  0.113984  0.828681  0.046896  0.626287"
      ]
     },
     "execution_count": 32,
     "metadata": {},
     "output_type": "execute_result"
    }
   ],
   "source": [
    "df3 # 索引改变了"
   ]
  },
  {
   "cell_type": "code",
   "execution_count": 33,
   "metadata": {},
   "outputs": [
    {
     "data": {
      "text/plain": [
       "A    0.771321\n",
       "B    0.020752\n",
       "C    0.633648\n",
       "D    0.748804\n",
       "Name: 18, dtype: float64"
      ]
     },
     "execution_count": 33,
     "metadata": {},
     "output_type": "execute_result"
    }
   ],
   "source": [
    "df3.loc[18]\n",
    "\n",
    "# 这里的18不是第18行，是根据index索引，指的是筛选index=18的那一行"
   ]
  },
  {
   "cell_type": "code",
   "execution_count": 34,
   "metadata": {},
   "outputs": [
    {
     "data": {
      "text/html": [
       "<div>\n",
       "<style scoped>\n",
       "    .dataframe tbody tr th:only-of-type {\n",
       "        vertical-align: middle;\n",
       "    }\n",
       "\n",
       "    .dataframe tbody tr th {\n",
       "        vertical-align: top;\n",
       "    }\n",
       "\n",
       "    .dataframe thead th {\n",
       "        text-align: right;\n",
       "    }\n",
       "</style>\n",
       "<table border=\"1\" class=\"dataframe\">\n",
       "  <thead>\n",
       "    <tr style=\"text-align: right;\">\n",
       "      <th></th>\n",
       "      <th>A</th>\n",
       "      <th>B</th>\n",
       "      <th>C</th>\n",
       "      <th>D</th>\n",
       "    </tr>\n",
       "  </thead>\n",
       "  <tbody>\n",
       "    <tr>\n",
       "      <th>0</th>\n",
       "      <td>0.771321</td>\n",
       "      <td>0.020752</td>\n",
       "      <td>0.633648</td>\n",
       "      <td>0.748804</td>\n",
       "    </tr>\n",
       "    <tr>\n",
       "      <th>1</th>\n",
       "      <td>0.498507</td>\n",
       "      <td>0.224797</td>\n",
       "      <td>0.198063</td>\n",
       "      <td>0.760531</td>\n",
       "    </tr>\n",
       "    <tr>\n",
       "      <th>2</th>\n",
       "      <td>0.169111</td>\n",
       "      <td>0.088340</td>\n",
       "      <td>0.685360</td>\n",
       "      <td>0.953393</td>\n",
       "    </tr>\n",
       "    <tr>\n",
       "      <th>3</th>\n",
       "      <td>0.003948</td>\n",
       "      <td>0.512192</td>\n",
       "      <td>0.812621</td>\n",
       "      <td>0.612526</td>\n",
       "    </tr>\n",
       "    <tr>\n",
       "      <th>4</th>\n",
       "      <td>0.721755</td>\n",
       "      <td>0.291876</td>\n",
       "      <td>0.917774</td>\n",
       "      <td>0.714576</td>\n",
       "    </tr>\n",
       "    <tr>\n",
       "      <th>5</th>\n",
       "      <td>0.542544</td>\n",
       "      <td>0.142170</td>\n",
       "      <td>0.373341</td>\n",
       "      <td>0.674134</td>\n",
       "    </tr>\n",
       "    <tr>\n",
       "      <th>6</th>\n",
       "      <td>0.441833</td>\n",
       "      <td>0.434014</td>\n",
       "      <td>0.617767</td>\n",
       "      <td>0.513138</td>\n",
       "    </tr>\n",
       "    <tr>\n",
       "      <th>7</th>\n",
       "      <td>0.650397</td>\n",
       "      <td>0.601039</td>\n",
       "      <td>0.805223</td>\n",
       "      <td>0.521647</td>\n",
       "    </tr>\n",
       "    <tr>\n",
       "      <th>8</th>\n",
       "      <td>0.908649</td>\n",
       "      <td>0.319236</td>\n",
       "      <td>0.090459</td>\n",
       "      <td>0.300700</td>\n",
       "    </tr>\n",
       "    <tr>\n",
       "      <th>9</th>\n",
       "      <td>0.113984</td>\n",
       "      <td>0.828681</td>\n",
       "      <td>0.046896</td>\n",
       "      <td>0.626287</td>\n",
       "    </tr>\n",
       "  </tbody>\n",
       "</table>\n",
       "</div>"
      ],
      "text/plain": [
       "          A         B         C         D\n",
       "0  0.771321  0.020752  0.633648  0.748804\n",
       "1  0.498507  0.224797  0.198063  0.760531\n",
       "2  0.169111  0.088340  0.685360  0.953393\n",
       "3  0.003948  0.512192  0.812621  0.612526\n",
       "4  0.721755  0.291876  0.917774  0.714576\n",
       "5  0.542544  0.142170  0.373341  0.674134\n",
       "6  0.441833  0.434014  0.617767  0.513138\n",
       "7  0.650397  0.601039  0.805223  0.521647\n",
       "8  0.908649  0.319236  0.090459  0.300700\n",
       "9  0.113984  0.828681  0.046896  0.626287"
      ]
     },
     "execution_count": 34,
     "metadata": {},
     "output_type": "execute_result"
    }
   ],
   "source": [
    "df2 # 回到df2"
   ]
  },
  {
   "cell_type": "code",
   "execution_count": 35,
   "metadata": {},
   "outputs": [
    {
     "data": {
      "text/html": [
       "<div>\n",
       "<style scoped>\n",
       "    .dataframe tbody tr th:only-of-type {\n",
       "        vertical-align: middle;\n",
       "    }\n",
       "\n",
       "    .dataframe tbody tr th {\n",
       "        vertical-align: top;\n",
       "    }\n",
       "\n",
       "    .dataframe thead th {\n",
       "        text-align: right;\n",
       "    }\n",
       "</style>\n",
       "<table border=\"1\" class=\"dataframe\">\n",
       "  <thead>\n",
       "    <tr style=\"text-align: right;\">\n",
       "      <th></th>\n",
       "      <th>A</th>\n",
       "      <th>B</th>\n",
       "      <th>C</th>\n",
       "      <th>D</th>\n",
       "    </tr>\n",
       "  </thead>\n",
       "  <tbody>\n",
       "    <tr>\n",
       "      <th>1</th>\n",
       "      <td>0.498507</td>\n",
       "      <td>0.224797</td>\n",
       "      <td>0.198063</td>\n",
       "      <td>0.760531</td>\n",
       "    </tr>\n",
       "    <tr>\n",
       "      <th>2</th>\n",
       "      <td>0.169111</td>\n",
       "      <td>0.088340</td>\n",
       "      <td>0.685360</td>\n",
       "      <td>0.953393</td>\n",
       "    </tr>\n",
       "  </tbody>\n",
       "</table>\n",
       "</div>"
      ],
      "text/plain": [
       "          A         B         C         D\n",
       "1  0.498507  0.224797  0.198063  0.760531\n",
       "2  0.169111  0.088340  0.685360  0.953393"
      ]
     },
     "execution_count": 35,
     "metadata": {},
     "output_type": "execute_result"
    }
   ],
   "source": [
    "df2.iloc[1:3] # 取第2和第3行\n",
    "\n",
    "# 1:3 左开右闭相当于数学中的 (1,3]"
   ]
  },
  {
   "cell_type": "markdown",
   "metadata": {},
   "source": [
    "![](https://tuchuangs.com/imgs/2022/02/413b635e19d0284b.png)"
   ]
  },
  {
   "cell_type": "markdown",
   "metadata": {},
   "source": [
    "### 筛选行列"
   ]
  },
  {
   "cell_type": "code",
   "execution_count": 36,
   "metadata": {},
   "outputs": [
    {
     "data": {
      "text/html": [
       "<div>\n",
       "<style scoped>\n",
       "    .dataframe tbody tr th:only-of-type {\n",
       "        vertical-align: middle;\n",
       "    }\n",
       "\n",
       "    .dataframe tbody tr th {\n",
       "        vertical-align: top;\n",
       "    }\n",
       "\n",
       "    .dataframe thead th {\n",
       "        text-align: right;\n",
       "    }\n",
       "</style>\n",
       "<table border=\"1\" class=\"dataframe\">\n",
       "  <thead>\n",
       "    <tr style=\"text-align: right;\">\n",
       "      <th></th>\n",
       "      <th>A</th>\n",
       "      <th>B</th>\n",
       "      <th>C</th>\n",
       "      <th>D</th>\n",
       "    </tr>\n",
       "  </thead>\n",
       "  <tbody>\n",
       "    <tr>\n",
       "      <th>18</th>\n",
       "      <td>0.771321</td>\n",
       "      <td>0.020752</td>\n",
       "      <td>0.633648</td>\n",
       "      <td>0.748804</td>\n",
       "    </tr>\n",
       "    <tr>\n",
       "      <th>58</th>\n",
       "      <td>0.498507</td>\n",
       "      <td>0.224797</td>\n",
       "      <td>0.198063</td>\n",
       "      <td>0.760531</td>\n",
       "    </tr>\n",
       "    <tr>\n",
       "      <th>98</th>\n",
       "      <td>0.169111</td>\n",
       "      <td>0.088340</td>\n",
       "      <td>0.685360</td>\n",
       "      <td>0.953393</td>\n",
       "    </tr>\n",
       "    <tr>\n",
       "      <th>22</th>\n",
       "      <td>0.003948</td>\n",
       "      <td>0.512192</td>\n",
       "      <td>0.812621</td>\n",
       "      <td>0.612526</td>\n",
       "    </tr>\n",
       "    <tr>\n",
       "      <th>90</th>\n",
       "      <td>0.721755</td>\n",
       "      <td>0.291876</td>\n",
       "      <td>0.917774</td>\n",
       "      <td>0.714576</td>\n",
       "    </tr>\n",
       "    <tr>\n",
       "      <th>50</th>\n",
       "      <td>0.542544</td>\n",
       "      <td>0.142170</td>\n",
       "      <td>0.373341</td>\n",
       "      <td>0.674134</td>\n",
       "    </tr>\n",
       "    <tr>\n",
       "      <th>93</th>\n",
       "      <td>0.441833</td>\n",
       "      <td>0.434014</td>\n",
       "      <td>0.617767</td>\n",
       "      <td>0.513138</td>\n",
       "    </tr>\n",
       "    <tr>\n",
       "      <th>44</th>\n",
       "      <td>0.650397</td>\n",
       "      <td>0.601039</td>\n",
       "      <td>0.805223</td>\n",
       "      <td>0.521647</td>\n",
       "    </tr>\n",
       "    <tr>\n",
       "      <th>55</th>\n",
       "      <td>0.908649</td>\n",
       "      <td>0.319236</td>\n",
       "      <td>0.090459</td>\n",
       "      <td>0.300700</td>\n",
       "    </tr>\n",
       "    <tr>\n",
       "      <th>64</th>\n",
       "      <td>0.113984</td>\n",
       "      <td>0.828681</td>\n",
       "      <td>0.046896</td>\n",
       "      <td>0.626287</td>\n",
       "    </tr>\n",
       "  </tbody>\n",
       "</table>\n",
       "</div>"
      ],
      "text/plain": [
       "           A         B         C         D\n",
       "18  0.771321  0.020752  0.633648  0.748804\n",
       "58  0.498507  0.224797  0.198063  0.760531\n",
       "98  0.169111  0.088340  0.685360  0.953393\n",
       "22  0.003948  0.512192  0.812621  0.612526\n",
       "90  0.721755  0.291876  0.917774  0.714576\n",
       "50  0.542544  0.142170  0.373341  0.674134\n",
       "93  0.441833  0.434014  0.617767  0.513138\n",
       "44  0.650397  0.601039  0.805223  0.521647\n",
       "55  0.908649  0.319236  0.090459  0.300700\n",
       "64  0.113984  0.828681  0.046896  0.626287"
      ]
     },
     "execution_count": 36,
     "metadata": {},
     "output_type": "execute_result"
    }
   ],
   "source": [
    "df3 # 回到df3 索引被打乱"
   ]
  },
  {
   "cell_type": "code",
   "execution_count": 37,
   "metadata": {},
   "outputs": [
    {
     "data": {
      "text/plain": [
       "0.6503971819314672"
      ]
     },
     "execution_count": 37,
     "metadata": {},
     "output_type": "execute_result"
    }
   ],
   "source": [
    "df3.loc[44,'A']\n",
    "# A列 索引为44的行（并不是第45行！！！）"
   ]
  },
  {
   "cell_type": "markdown",
   "metadata": {},
   "source": [
    "![](https://tuchuangs.com/imgs/2022/02/b627b4a02e65c495.png)"
   ]
  },
  {
   "cell_type": "code",
   "execution_count": 38,
   "metadata": {},
   "outputs": [
    {
     "data": {
      "text/html": [
       "<div>\n",
       "<style scoped>\n",
       "    .dataframe tbody tr th:only-of-type {\n",
       "        vertical-align: middle;\n",
       "    }\n",
       "\n",
       "    .dataframe tbody tr th {\n",
       "        vertical-align: top;\n",
       "    }\n",
       "\n",
       "    .dataframe thead th {\n",
       "        text-align: right;\n",
       "    }\n",
       "</style>\n",
       "<table border=\"1\" class=\"dataframe\">\n",
       "  <thead>\n",
       "    <tr style=\"text-align: right;\">\n",
       "      <th></th>\n",
       "      <th>A</th>\n",
       "      <th>B</th>\n",
       "    </tr>\n",
       "  </thead>\n",
       "  <tbody>\n",
       "    <tr>\n",
       "      <th>98</th>\n",
       "      <td>0.169111</td>\n",
       "      <td>0.088340</td>\n",
       "    </tr>\n",
       "    <tr>\n",
       "      <th>22</th>\n",
       "      <td>0.003948</td>\n",
       "      <td>0.512192</td>\n",
       "    </tr>\n",
       "    <tr>\n",
       "      <th>90</th>\n",
       "      <td>0.721755</td>\n",
       "      <td>0.291876</td>\n",
       "    </tr>\n",
       "    <tr>\n",
       "      <th>50</th>\n",
       "      <td>0.542544</td>\n",
       "      <td>0.142170</td>\n",
       "    </tr>\n",
       "    <tr>\n",
       "      <th>93</th>\n",
       "      <td>0.441833</td>\n",
       "      <td>0.434014</td>\n",
       "    </tr>\n",
       "    <tr>\n",
       "      <th>44</th>\n",
       "      <td>0.650397</td>\n",
       "      <td>0.601039</td>\n",
       "    </tr>\n",
       "  </tbody>\n",
       "</table>\n",
       "</div>"
      ],
      "text/plain": [
       "           A         B\n",
       "98  0.169111  0.088340\n",
       "22  0.003948  0.512192\n",
       "90  0.721755  0.291876\n",
       "50  0.542544  0.142170\n",
       "93  0.441833  0.434014\n",
       "44  0.650397  0.601039"
      ]
     },
     "execution_count": 38,
     "metadata": {},
     "output_type": "execute_result"
    }
   ],
   "source": [
    "df3.loc[98:44,['A','B']]\n",
    "\n",
    "# 慢慢理解一下！"
   ]
  },
  {
   "cell_type": "code",
   "execution_count": 39,
   "metadata": {},
   "outputs": [
    {
     "data": {
      "text/plain": [
       "0.22479664553084766"
      ]
     },
     "execution_count": 39,
     "metadata": {},
     "output_type": "execute_result"
    }
   ],
   "source": [
    "df3.iloc[1,1]\n",
    "# 第2列第2行\n",
    "\n",
    "\n",
    "# iloc对应的都是第n行第n列\n",
    "\n",
    "# 所以输入的都是数字！！! 无视对应的index"
   ]
  },
  {
   "cell_type": "code",
   "execution_count": 40,
   "metadata": {},
   "outputs": [
    {
     "data": {
      "text/html": [
       "<div>\n",
       "<style scoped>\n",
       "    .dataframe tbody tr th:only-of-type {\n",
       "        vertical-align: middle;\n",
       "    }\n",
       "\n",
       "    .dataframe tbody tr th {\n",
       "        vertical-align: top;\n",
       "    }\n",
       "\n",
       "    .dataframe thead th {\n",
       "        text-align: right;\n",
       "    }\n",
       "</style>\n",
       "<table border=\"1\" class=\"dataframe\">\n",
       "  <thead>\n",
       "    <tr style=\"text-align: right;\">\n",
       "      <th></th>\n",
       "      <th>B</th>\n",
       "      <th>D</th>\n",
       "    </tr>\n",
       "  </thead>\n",
       "  <tbody>\n",
       "    <tr>\n",
       "      <th>22</th>\n",
       "      <td>0.512192</td>\n",
       "      <td>0.612526</td>\n",
       "    </tr>\n",
       "    <tr>\n",
       "      <th>90</th>\n",
       "      <td>0.291876</td>\n",
       "      <td>0.714576</td>\n",
       "    </tr>\n",
       "    <tr>\n",
       "      <th>50</th>\n",
       "      <td>0.142170</td>\n",
       "      <td>0.674134</td>\n",
       "    </tr>\n",
       "    <tr>\n",
       "      <th>93</th>\n",
       "      <td>0.434014</td>\n",
       "      <td>0.513138</td>\n",
       "    </tr>\n",
       "    <tr>\n",
       "      <th>44</th>\n",
       "      <td>0.601039</td>\n",
       "      <td>0.521647</td>\n",
       "    </tr>\n",
       "    <tr>\n",
       "      <th>55</th>\n",
       "      <td>0.319236</td>\n",
       "      <td>0.300700</td>\n",
       "    </tr>\n",
       "  </tbody>\n",
       "</table>\n",
       "</div>"
      ],
      "text/plain": [
       "           B         D\n",
       "22  0.512192  0.612526\n",
       "90  0.291876  0.714576\n",
       "50  0.142170  0.674134\n",
       "93  0.434014  0.513138\n",
       "44  0.601039  0.521647\n",
       "55  0.319236  0.300700"
      ]
     },
     "execution_count": 40,
     "metadata": {},
     "output_type": "execute_result"
    }
   ],
   "source": [
    "df3.iloc[3:9,[1,3]]\n",
    "\n",
    "# 自己理解一下！"
   ]
  },
  {
   "cell_type": "markdown",
   "metadata": {},
   "source": [
    "![](https://tuchuangs.com/imgs/2022/02/ba3146b6fc3a8910.png)"
   ]
  },
  {
   "cell_type": "markdown",
   "metadata": {},
   "source": [
    "## 小结\n",
    "\n",
    "今天就分享到这里，总结一下！\n",
    "\n",
    "1. 创建对象\n",
    "2. 查看对象的属性\n",
    "3. 排序\n",
    "4. 索引（筛选行、列）"
   ]
  },
  {
   "cell_type": "markdown",
   "metadata": {},
   "source": [
    "## 习题\n",
    "\n",
    "请大家为了巩固知识，完成下面习题，参与Kaggle项目的同学，做完之后发给对应组长，由组长和组员确认，形成最终版本后，交给我，我给大家按组打分，最终加到每一阶段的项目总分里！"
   ]
  },
  {
   "cell_type": "code",
   "execution_count": null,
   "metadata": {},
   "outputs": [],
   "source": [
    "import pandas as pd\n",
    "import numpy as np"
   ]
  },
  {
   "cell_type": "markdown",
   "metadata": {},
   "source": [
    "### 第一题 创建序列（2分）\n",
    "\n",
    "创建一个长度为5的series，值为从0开始（包括0）偶数，index是20220101开始的日期（20220101至20220501），序列名字设置为whale_project"
   ]
  },
  {
   "cell_type": "code",
   "execution_count": 67,
   "metadata": {},
   "outputs": [
    {
     "data": {
      "text/plain": [
       "2022-01-01    0\n",
       "2022-02-01    2\n",
       "2022-03-01    4\n",
       "2022-04-01    6\n",
       "2022-05-01    8\n",
       "Name: whale_project, dtype: int64"
      ]
     },
     "execution_count": 67,
     "metadata": {},
     "output_type": "execute_result"
    }
   ],
   "source": [
    "# 你代码的输出结果应该跟下面的一模一样！\n",
    "\n",
    "# 2022-01-01    0\n",
    "# 2022-02-01    2\n",
    "# 2022-03-01    4\n",
    "# 2022-04-01    6\n",
    "# 2022-05-01    8\n",
    "# Freq: MS, Name: whale_project, dtype: int64\n",
    "\n",
    "pd.Series(list(range(0,9,2)), index = [pd.date_range(\"20220101\", \"20220501\", freq = \"MS\")], name = 'whale_project')"
   ]
  },
  {
   "cell_type": "markdown",
   "metadata": {},
   "source": [
    "### 第二题 索引数据框（1分）\n",
    "\n",
    "请写一段代码，找到红框内的数据"
   ]
  },
  {
   "cell_type": "code",
   "execution_count": 69,
   "metadata": {},
   "outputs": [],
   "source": [
    "np.random.seed(10)\n",
    "df = pd.DataFrame(np.random.rand(10,10))"
   ]
  },
  {
   "cell_type": "code",
   "execution_count": 70,
   "metadata": {},
   "outputs": [
    {
     "data": {
      "text/html": [
       "<div>\n",
       "<style scoped>\n",
       "    .dataframe tbody tr th:only-of-type {\n",
       "        vertical-align: middle;\n",
       "    }\n",
       "\n",
       "    .dataframe tbody tr th {\n",
       "        vertical-align: top;\n",
       "    }\n",
       "\n",
       "    .dataframe thead th {\n",
       "        text-align: right;\n",
       "    }\n",
       "</style>\n",
       "<table border=\"1\" class=\"dataframe\">\n",
       "  <thead>\n",
       "    <tr style=\"text-align: right;\">\n",
       "      <th></th>\n",
       "      <th>0</th>\n",
       "      <th>1</th>\n",
       "      <th>2</th>\n",
       "      <th>3</th>\n",
       "      <th>4</th>\n",
       "      <th>5</th>\n",
       "      <th>6</th>\n",
       "      <th>7</th>\n",
       "      <th>8</th>\n",
       "      <th>9</th>\n",
       "    </tr>\n",
       "  </thead>\n",
       "  <tbody>\n",
       "    <tr>\n",
       "      <th>0</th>\n",
       "      <td>0.771321</td>\n",
       "      <td>0.020752</td>\n",
       "      <td>0.633648</td>\n",
       "      <td>0.748804</td>\n",
       "      <td>0.498507</td>\n",
       "      <td>0.224797</td>\n",
       "      <td>0.198063</td>\n",
       "      <td>0.760531</td>\n",
       "      <td>0.169111</td>\n",
       "      <td>0.088340</td>\n",
       "    </tr>\n",
       "    <tr>\n",
       "      <th>1</th>\n",
       "      <td>0.685360</td>\n",
       "      <td>0.953393</td>\n",
       "      <td>0.003948</td>\n",
       "      <td>0.512192</td>\n",
       "      <td>0.812621</td>\n",
       "      <td>0.612526</td>\n",
       "      <td>0.721755</td>\n",
       "      <td>0.291876</td>\n",
       "      <td>0.917774</td>\n",
       "      <td>0.714576</td>\n",
       "    </tr>\n",
       "    <tr>\n",
       "      <th>2</th>\n",
       "      <td>0.542544</td>\n",
       "      <td>0.142170</td>\n",
       "      <td>0.373341</td>\n",
       "      <td>0.674134</td>\n",
       "      <td>0.441833</td>\n",
       "      <td>0.434014</td>\n",
       "      <td>0.617767</td>\n",
       "      <td>0.513138</td>\n",
       "      <td>0.650397</td>\n",
       "      <td>0.601039</td>\n",
       "    </tr>\n",
       "    <tr>\n",
       "      <th>3</th>\n",
       "      <td>0.805223</td>\n",
       "      <td>0.521647</td>\n",
       "      <td>0.908649</td>\n",
       "      <td>0.319236</td>\n",
       "      <td>0.090459</td>\n",
       "      <td>0.300700</td>\n",
       "      <td>0.113984</td>\n",
       "      <td>0.828681</td>\n",
       "      <td>0.046896</td>\n",
       "      <td>0.626287</td>\n",
       "    </tr>\n",
       "    <tr>\n",
       "      <th>4</th>\n",
       "      <td>0.547586</td>\n",
       "      <td>0.819287</td>\n",
       "      <td>0.198948</td>\n",
       "      <td>0.856850</td>\n",
       "      <td>0.351653</td>\n",
       "      <td>0.754648</td>\n",
       "      <td>0.295962</td>\n",
       "      <td>0.883936</td>\n",
       "      <td>0.325512</td>\n",
       "      <td>0.165016</td>\n",
       "    </tr>\n",
       "    <tr>\n",
       "      <th>5</th>\n",
       "      <td>0.392529</td>\n",
       "      <td>0.093460</td>\n",
       "      <td>0.821106</td>\n",
       "      <td>0.151152</td>\n",
       "      <td>0.384114</td>\n",
       "      <td>0.944261</td>\n",
       "      <td>0.987625</td>\n",
       "      <td>0.456305</td>\n",
       "      <td>0.826123</td>\n",
       "      <td>0.251374</td>\n",
       "    </tr>\n",
       "    <tr>\n",
       "      <th>6</th>\n",
       "      <td>0.597372</td>\n",
       "      <td>0.902832</td>\n",
       "      <td>0.534558</td>\n",
       "      <td>0.590201</td>\n",
       "      <td>0.039282</td>\n",
       "      <td>0.357182</td>\n",
       "      <td>0.079613</td>\n",
       "      <td>0.305460</td>\n",
       "      <td>0.330719</td>\n",
       "      <td>0.773830</td>\n",
       "    </tr>\n",
       "    <tr>\n",
       "      <th>7</th>\n",
       "      <td>0.039959</td>\n",
       "      <td>0.429492</td>\n",
       "      <td>0.314927</td>\n",
       "      <td>0.636491</td>\n",
       "      <td>0.346347</td>\n",
       "      <td>0.043097</td>\n",
       "      <td>0.879915</td>\n",
       "      <td>0.763241</td>\n",
       "      <td>0.878097</td>\n",
       "      <td>0.417509</td>\n",
       "    </tr>\n",
       "    <tr>\n",
       "      <th>8</th>\n",
       "      <td>0.605578</td>\n",
       "      <td>0.513467</td>\n",
       "      <td>0.597837</td>\n",
       "      <td>0.262216</td>\n",
       "      <td>0.300871</td>\n",
       "      <td>0.025400</td>\n",
       "      <td>0.303063</td>\n",
       "      <td>0.242076</td>\n",
       "      <td>0.557578</td>\n",
       "      <td>0.565507</td>\n",
       "    </tr>\n",
       "    <tr>\n",
       "      <th>9</th>\n",
       "      <td>0.475132</td>\n",
       "      <td>0.292798</td>\n",
       "      <td>0.064251</td>\n",
       "      <td>0.978819</td>\n",
       "      <td>0.339708</td>\n",
       "      <td>0.495049</td>\n",
       "      <td>0.977081</td>\n",
       "      <td>0.440774</td>\n",
       "      <td>0.318273</td>\n",
       "      <td>0.519797</td>\n",
       "    </tr>\n",
       "  </tbody>\n",
       "</table>\n",
       "</div>"
      ],
      "text/plain": [
       "          0         1         2         3         4         5         6  \\\n",
       "0  0.771321  0.020752  0.633648  0.748804  0.498507  0.224797  0.198063   \n",
       "1  0.685360  0.953393  0.003948  0.512192  0.812621  0.612526  0.721755   \n",
       "2  0.542544  0.142170  0.373341  0.674134  0.441833  0.434014  0.617767   \n",
       "3  0.805223  0.521647  0.908649  0.319236  0.090459  0.300700  0.113984   \n",
       "4  0.547586  0.819287  0.198948  0.856850  0.351653  0.754648  0.295962   \n",
       "5  0.392529  0.093460  0.821106  0.151152  0.384114  0.944261  0.987625   \n",
       "6  0.597372  0.902832  0.534558  0.590201  0.039282  0.357182  0.079613   \n",
       "7  0.039959  0.429492  0.314927  0.636491  0.346347  0.043097  0.879915   \n",
       "8  0.605578  0.513467  0.597837  0.262216  0.300871  0.025400  0.303063   \n",
       "9  0.475132  0.292798  0.064251  0.978819  0.339708  0.495049  0.977081   \n",
       "\n",
       "          7         8         9  \n",
       "0  0.760531  0.169111  0.088340  \n",
       "1  0.291876  0.917774  0.714576  \n",
       "2  0.513138  0.650397  0.601039  \n",
       "3  0.828681  0.046896  0.626287  \n",
       "4  0.883936  0.325512  0.165016  \n",
       "5  0.456305  0.826123  0.251374  \n",
       "6  0.305460  0.330719  0.773830  \n",
       "7  0.763241  0.878097  0.417509  \n",
       "8  0.242076  0.557578  0.565507  \n",
       "9  0.440774  0.318273  0.519797  "
      ]
     },
     "execution_count": 70,
     "metadata": {},
     "output_type": "execute_result"
    }
   ],
   "source": [
    "df"
   ]
  },
  {
   "cell_type": "markdown",
   "metadata": {},
   "source": [
    "![](https://tuchuangs.com/imgs/2022/02/3add3b2114e9b72a.png)"
   ]
  },
  {
   "cell_type": "code",
   "execution_count": 73,
   "metadata": {},
   "outputs": [
    {
     "data": {
      "text/html": [
       "<div>\n",
       "<style scoped>\n",
       "    .dataframe tbody tr th:only-of-type {\n",
       "        vertical-align: middle;\n",
       "    }\n",
       "\n",
       "    .dataframe tbody tr th {\n",
       "        vertical-align: top;\n",
       "    }\n",
       "\n",
       "    .dataframe thead th {\n",
       "        text-align: right;\n",
       "    }\n",
       "</style>\n",
       "<table border=\"1\" class=\"dataframe\">\n",
       "  <thead>\n",
       "    <tr style=\"text-align: right;\">\n",
       "      <th></th>\n",
       "      <th>4</th>\n",
       "      <th>5</th>\n",
       "      <th>6</th>\n",
       "    </tr>\n",
       "  </thead>\n",
       "  <tbody>\n",
       "    <tr>\n",
       "      <th>3</th>\n",
       "      <td>0.090459</td>\n",
       "      <td>0.300700</td>\n",
       "      <td>0.113984</td>\n",
       "    </tr>\n",
       "    <tr>\n",
       "      <th>4</th>\n",
       "      <td>0.351653</td>\n",
       "      <td>0.754648</td>\n",
       "      <td>0.295962</td>\n",
       "    </tr>\n",
       "    <tr>\n",
       "      <th>5</th>\n",
       "      <td>0.384114</td>\n",
       "      <td>0.944261</td>\n",
       "      <td>0.987625</td>\n",
       "    </tr>\n",
       "    <tr>\n",
       "      <th>6</th>\n",
       "      <td>0.039282</td>\n",
       "      <td>0.357182</td>\n",
       "      <td>0.079613</td>\n",
       "    </tr>\n",
       "    <tr>\n",
       "      <th>7</th>\n",
       "      <td>0.346347</td>\n",
       "      <td>0.043097</td>\n",
       "      <td>0.879915</td>\n",
       "    </tr>\n",
       "    <tr>\n",
       "      <th>8</th>\n",
       "      <td>0.300871</td>\n",
       "      <td>0.025400</td>\n",
       "      <td>0.303063</td>\n",
       "    </tr>\n",
       "  </tbody>\n",
       "</table>\n",
       "</div>"
      ],
      "text/plain": [
       "          4         5         6\n",
       "3  0.090459  0.300700  0.113984\n",
       "4  0.351653  0.754648  0.295962\n",
       "5  0.384114  0.944261  0.987625\n",
       "6  0.039282  0.357182  0.079613\n",
       "7  0.346347  0.043097  0.879915\n",
       "8  0.300871  0.025400  0.303063"
      ]
     },
     "execution_count": 73,
     "metadata": {},
     "output_type": "execute_result"
    }
   ],
   "source": [
    "# 你的代码\n",
    "df.iloc[3:9,4:7]"
   ]
  },
  {
   "cell_type": "markdown",
   "metadata": {},
   "source": [
    "[![H65i3d.gif](https://s4.ax1x.com/2022/02/14/H65i3d.gif)](https://imgtu.com/i/H65i3d)"
   ]
  },
  {
   "cell_type": "markdown",
   "metadata": {},
   "source": [
    "<img src=\"https://s4.ax1x.com/2022/02/14/H65vxs.jpg\" alt=\"image-20220214212808413\" style=\"zoom:25%;\" />"
   ]
  }
 ],
 "metadata": {
  "kernelspec": {
   "display_name": "Python 3",
   "language": "python",
   "name": "python3"
  },
  "language_info": {
   "codemirror_mode": {
    "name": "ipython",
    "version": 3
   },
   "file_extension": ".py",
   "mimetype": "text/x-python",
   "name": "python",
   "nbconvert_exporter": "python",
   "pygments_lexer": "ipython3",
   "version": "3.8.8"
  }
 },
 "nbformat": 4,
 "nbformat_minor": 4
}
