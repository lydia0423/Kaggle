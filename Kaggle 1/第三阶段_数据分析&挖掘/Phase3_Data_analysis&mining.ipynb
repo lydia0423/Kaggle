{
 "cells": [
  {
   "cell_type": "markdown",
   "metadata": {},
   "source": [
    "**声明：**\n",
    "\n",
    "hello，小伙伴们~\n",
    "\n",
    "感谢大家对小鲸鱼的大力支持，目前我在搜集大量经典书籍和资料，其中涉及：\n",
    "\n",
    "1. **🔥数学统计：**打好理论基础！\n",
    "2. 🔥**数据分析：**包括数据分析、商业数据分析等\n",
    "3. 🔥**数据科学：**数据建模、机器学习、AI框架等\n",
    "4. 🔥**Python/R cookbook**\n",
    "\n",
    "还有关于数据结构、算法、数据库等等\n",
    "\n",
    "以及面经、更多的视频资料整理！\n",
    "\n",
    "总之，这个仓库会一直更新，分享不会停止！\n",
    "\n",
    "不收费，但只分享给有需要的人，曾经没人帮我指路，但我不希望大家走太多弯路！\n",
    "\n",
    "**公众号：鲸析**\n",
    "\n",
    "![](https://tuchuangs.com/imgs/2022/02/e213757d6a0c0007.jpg)"
   ]
  },
  {
   "cell_type": "markdown",
   "metadata": {
    "_cell_guid": "9113065c-6cec-4d35-8daa-57e9fdc6313e",
    "_uuid": "ecb402a1b7efe9eb6db47e7cab2c38861609ad94"
   },
   "source": [
    "## 项目介绍"
   ]
  },
  {
   "cell_type": "markdown",
   "metadata": {
    "_cell_guid": "2dee8ae8-2bee-4609-96a8-8150b7e770cd",
    "_uuid": "7f8a20e1db4cf09d9e53245de8461ce409447649"
   },
   "source": [
    "为了照顾到每位同学的实际情况，我准备把项目劈成2块，上半部分集中于<font color='red'>数据分析</font>，下半部分集中于<font color='red'>数据科学</font>，从而方便各阶段同学更有效地吸收知识，就地取材，在自己的简历上添砖加瓦！\n",
    "\n",
    "本笔记（上半部分）旨在深入了解 PorteSeguro 比赛的数据。此外，还提供了一些小tips和tricks来准备数据以备后续的数据建模过程。\n",
    "\n",
    "---\n",
    "\n",
    "\n",
    "该notebook由以下主要部分组成：\n",
    "\n",
    "\n",
    "\n",
    "1. [项目提案&数据梳理](#project_proposal)\n",
    "    - 1.1 [项目流程梳理](#progress)\n",
    "    - 1.2 [项目提案](#proposal)\n",
    "    - 1.3 [数据梳理](#integration)\n",
    "    \n",
    "---\n",
    "2. [数据分析（一）元数据管理&基本数据分析](#data_preprocessing)\n",
    "    - 2.1 [变量类型](#dtype)\n",
    "    - 2.2 [元数据](#metadata)\n",
    "    - 2.3 [元数据描述性分析](#metadata_descriptive)\n",
    "    \n",
    "---    \n",
    "3. [数据分析（二）探索性分析](#eda)\n",
    "    - 3.1 [不平衡类学习（略讲）](#imbalanced_learning)\n",
    "    - 3.2 [数据QC](quality_check)\n",
    "    - 3.3 [EDA](EDA)\n",
    "    - 3.4 [编码](encoding)\n",
    "4. [数据分析（三）特征工程](#feat_engineering)\n",
    "5. [数据分析（四）特征选择](#feat_selection)\n",
    "6. [数据建模](#model)\n"
   ]
  },
  {
   "cell_type": "markdown",
   "metadata": {},
   "source": [
    "你有什么发现么？"
   ]
  },
  {
   "cell_type": "code",
   "execution_count": 15,
   "metadata": {},
   "outputs": [
    {
     "data": {
      "text/plain": [
       "<AxesSubplot:>"
      ]
     },
     "execution_count": 15,
     "metadata": {},
     "output_type": "execute_result"
    },
    {
     "data": {
      "image/png": "[encoded data removed]",
      "text/plain": [
       "<Figure size 432x288 with 1 Axes>"
      ]
     },
     "metadata": {
      "needs_background": "light"
     },
     "output_type": "display_data"
    }
   ],
   "source": [
    "train.target.value_counts().plot(kind = 'bar')"
   ]
  },
  {
   "cell_type": "markdown",
   "metadata": {},
   "source": [
    "补充：\n",
    "\n",
    "如果你有余力，建议从下面链接中完成这100道Python Pandas puzzle！来为你下一阶段保驾护航！\n",
    "\n",
    "链接：https://github.com/ajcr/100-pandas-puzzles/blob/master/100-pandas-puzzles.ipynb"
   ]
  },
  {
   "cell_type": "markdown",
   "metadata": {},
   "source": [
    "<div class=\"alert alert-block alert-warning\">\n",
    "<center><b>【第三阶段】项目日志（2022年2月25日）</b></center>\n",
    "    \n",
    "   \n",
    "**第三节阶段核心目的：**基于元数据的梳理过程展开缺失值填充、EDA、数据分析&挖掘。\n",
    "    \n",
    "**难度（最高5星）：**⭐⭐⭐\n",
    "    \n",
    "**第一阶段周期：** 2022年3月1日 至 2022年3月9日（北京时间）\n",
    "    \n",
    "    \n",
    "**分值**：满分6分，附加题答对8分\n",
    "\n",
    "Good Luck!\n",
    "</div>"
   ]
  },
  {
   "cell_type": "markdown",
   "metadata": {},
   "source": [
    "## 不平衡类学习\n",
    "\n",
    "根据阶段二的最后一道附加题，大家或许发现端倪了！\n",
    "\n",
    "大概有97%的训练集数据被归类为0，也就是不索赔，只有3%左右的数据被归类为1，也就是索赔。\n",
    "\n",
    "那么我们其实所期待的是：\n",
    "\n",
    "训练集有更多正类，也就是更多的1，更多的发生索赔的数据，这样才能在输入新数据时，更好的预测正类。"
   ]
  },
  {
   "cell_type": "code",
   "execution_count": 17,
   "metadata": {},
   "outputs": [
    {
     "name": "stdout",
     "output_type": "stream",
     "text": [
      "不发起索赔: 573518\n",
      "发起索赔: 21694\n",
      "比例: 26.44 : 1\n"
     ]
    },
    {
     "data": {
      "image/png": "[encoded data removed]",
      "text/plain": [
       "<Figure size 432x288 with 1 Axes>"
      ]
     },
     "metadata": {
      "needs_background": "light"
     },
     "output_type": "display_data"
    }
   ],
   "source": [
    "# 这个例子大家直接run就好，不必纠结\n",
    "\n",
    "import numpy as np\n",
    "import pandas as pd\n",
    "\n",
    "train = pd.read_csv('./data/train.csv')\n",
    "\n",
    "target_count = train.target.value_counts()\n",
    "print('不发起索赔:', target_count[0])\n",
    "print('发起索赔:', target_count[1])\n",
    "print('比例:', round(target_count[0] / target_count[1], 2), ': 1')\n",
    "\n",
    "target_count.plot(kind='bar');"
   ]
  },
  {
   "cell_type": "markdown",
   "metadata": {},
   "source": [
    "那么，我们要基于`26.44:1`的比例去想办法能让正负类平衡一些，该怎么办？"
   ]
  },
  {
   "cell_type": "markdown",
   "metadata": {},
   "source": [
    "不需要详细了解代码部分，就是用逻辑回归来分类，并查看分类的正确率。"
   ]
  },
  {
   "cell_type": "code",
   "execution_count": 18,
   "metadata": {},
   "outputs": [
    {
     "name": "stdout",
     "output_type": "stream",
     "text": [
      "Accuracy: 96.34%\n"
     ]
    }
   ],
   "source": [
    "# 直接run\n",
    "from sklearn.linear_model import LogisticRegression\n",
    "from sklearn.model_selection import train_test_split\n",
    "from sklearn.metrics import accuracy_score\n",
    "from sklearn.metrics import classification_report, confusion_matrix\n",
    "import seaborn as sns\n",
    "\n",
    "# 移除id和target\n",
    "features = train.columns[2:]\n",
    "\n",
    "X = train[features]\n",
    "y = train['target']\n",
    "\n",
    "X_train, X_test, y_train, y_test = train_test_split(X, y, test_size=0.2, random_state=1996)\n",
    "\n",
    "# solver : Algorithm to use in the optimization problem\n",
    "# For small datasets, ‘liblinear’ is a good choice, whereas ‘sag’ and ‘saga’ are faster for large ones\n",
    "# For multiclass problems, only ‘newton-cg’, ‘sag’, ‘saga’ and ‘lbfgs’ handle multinomial loss\n",
    "# ‘liblinear’ is limited to one-versus-rest schemes\n",
    "model = LogisticRegression(solver = 'liblinear')\n",
    "model.fit(X_train, y_train)\n",
    "y_pred = model.predict(X_test)\n",
    "\n",
    "accuracy = accuracy_score(y_test, y_pred)\n",
    "print(\"Accuracy: %.2f%%\" % (accuracy * 100.0))"
   ]
  },
  {
   "cell_type": "markdown",
   "metadata": {},
   "source": [
    "哇！我们正确率已经达到96.34%了，太牛了，项目已经完成了！"
   ]
  },
  {
   "cell_type": "markdown",
   "metadata": {},
   "source": [
    "那我随便拿出一个特征`ps_calc_02`再去预测一下，看看准确率是多少？"
   ]
  },
  {
   "cell_type": "code",
   "execution_count": 19,
   "metadata": {},
   "outputs": [
    {
     "name": "stdout",
     "output_type": "stream",
     "text": [
      "Accuracy: 96.34%\n"
     ]
    }
   ],
   "source": [
    "model.fit(X_train[['ps_calc_02']], y_train)\n",
    "y_pred = model.predict(X_test[['ps_calc_02']])\n",
    "\n",
    "accuracy = accuracy_score(y_test, y_pred)\n",
    "print(\"Accuracy: %.2f%%\" % (accuracy * 100.0))"
   ]
  },
  {
   "cell_type": "markdown",
   "metadata": {},
   "source": [
    "？还是96.34%，说明这么高的准确度其实是个幻觉，是个假象，在类别极度不平衡的时候，我们就不能单单用`accuracy`来去衡量一个分类模型的好坏了。"
   ]
  },
  {
   "cell_type": "markdown",
   "metadata": {},
   "source": [
    "所以，我们需要用不平衡学习的知识来处理数据，这里不详细展开，我把处理好的数据放在这里。"
   ]
  },
  {
   "cell_type": "markdown",
   "metadata": {},
   "source": [
    "<img src=\"https://pic.imgdb.cn/item/621873142ab3f51d9152bcda.jpg\">"
   ]
  },
  {
   "cell_type": "markdown",
   "metadata": {},
   "source": [
    "具体coding部分，我不在这里详细讲了，会作为补充内容后续发出，给大家说一下思路。\n",
    "\n",
    "1. 首先，我们遇到了什么问题？\n",
    "\n",
    "😂 数据类别不平衡，97%的数据对应的标签是【不索赔】，我们不想知道不索赔的人有什么特点，我们关注的是索赔的人有什么样的特征，期待模型去从3%的数据中挖掘有效的特征。\n",
    "\n",
    "2. 如何解决？\n",
    "\n",
    "👉 重采样，resampling。\n",
    "\n",
    "- 从dominant的类别中（这里就是target=0的数据）移除一些样本，这是欠采样（**上图的左上角**）\n",
    "- 从minority的类别中（target=1）增加一些样本，这是过采样（**上图右上角**）\n",
    "\n",
    "👉 注意：这些方法不能完美解决imbalance的问题，有利有弊。\n",
    "\n",
    "这里采用的是欠采样方法，大概维持正负类的比例大概在1:7左右，原来是1:26。"
   ]
  },
  {
   "cell_type": "code",
   "execution_count": 20,
   "metadata": {},
   "outputs": [],
   "source": [
    "import seaborn as sns\n",
    "import matplotlib.pyplot as plt\n",
    "import pandas as pd\n",
    "import numpy as np\n",
    "plt.rcParams['font.sans-serif']=['SimHei'] #用来正常显示中文标签\n",
    "plt.rcParams['axes.unicode_minus']=False #用来正常显示负号"
   ]
  },
  {
   "cell_type": "code",
   "execution_count": 21,
   "metadata": {},
   "outputs": [],
   "source": [
    "train = pd.read_csv('./data/train.csv')"
   ]
  },
  {
   "cell_type": "markdown",
   "metadata": {},
   "source": [
    "$$\n",
    "undersampling~rate = \\frac{(1-r)*{minority~size}}{r*majority~size}\\\\\n",
    "where ~r = desired~proportion~rate\n",
    "$$"
   ]
  },
  {
   "cell_type": "markdown",
   "metadata": {},
   "source": [
    "<div class=\"alert alert-block alert-success\"><b>Step 1 (5分)</b>: \n",
    "    \n",
    "根据指示完成下面的函数`undersampling`。\n",
    "</div>"
   ]
  },
  {
   "cell_type": "markdown",
   "metadata": {},
   "source": [
    "```python\n",
    "def undersampling(df, desired_prop_rate, plot = True):\n",
    "    # 获取target=0和1的index\n",
    "    idx_class_0 = \n",
    "    idx_class_1 = \n",
    "    \n",
    "    # 获取target=0和1的个数\n",
    "    count_class_0 = \n",
    "    count_class_1 = \n",
    "    \n",
    "    # 根据上面的公式计算undersampling rate\n",
    "    undersampling_rate = \n",
    "    undersampled_majority_size = int(undersampling_rate*count_class_0)\n",
    "    \n",
    "    print(f\"关于target=0的欠采样比率为:【{undersampling_rate}】\")\n",
    "    print(f\"在欠采样之后，target=0的数量为：【{undersampled_majority_size}】\")\n",
    "    \n",
    "    \n",
    "    from sklearn.utils import shuffle\n",
    "    # 用shuffle函数对target=0的所有数据打乱抽样，seed=100,抽样数为刚刚计算的值\n",
    "    undersampled_idx = shuffle(     #填写代码#     )\n",
    "    \n",
    "    # 把undersampling之后的idx和之前的target=1的idx合并，并在train里面根据idx把数据索引出来\n",
    "    idx_total = list(undersampled_idx)+list(idx_class_1)\n",
    "    \n",
    "    df = df.loc[idx_total].reset_index(drop=True)\n",
    "    \n",
    "    # 如果plot参数设置为True，画出欠采样之后的target分布柱形图。\n",
    "    if plot == True:\n",
    "        import seaborn as sns\n",
    "        sns.countplot(  #填写代码#  )\n",
    "        # print(df.target.value_counts()/df.shape[0])\n",
    "    \n",
    "    return df\n",
    "```"
   ]
  },
  {
   "cell_type": "code",
   "execution_count": 40,
   "metadata": {},
   "outputs": [],
   "source": [
    "def undersampling(df, desired_prop_rate = 0.15, plot = True):\n",
    "    # 获取target=0和1的index\n",
    "    idx_class_0 = df[df.target == 0].index\n",
    "    idx_class_1 = df[df.target == 1].index\n",
    "    \n",
    "    # 获取target=0和1的个数\n",
    "    count_class_0 = len(idx_class_0)\n",
    "    count_class_1 = len(idx_class_1)\n",
    "    \n",
    "    # 根据上面的公式计算undersampling rate\n",
    "    undersampling_rate = ((1-desired_prop_rate)*count_class_1)/(count_class_0*desired_prop_rate)\n",
    "    undersampled_majority_size = int(undersampling_rate*count_class_0)\n",
    "    \n",
    "    print(f\"关于target=0的欠采样比率为:【{undersampling_rate}】\")\n",
    "    print(f\"在欠采样之后，target=0的数量为：【{undersampled_majority_size}】\")\n",
    "    \n",
    "    \n",
    "    from sklearn.utils import shuffle\n",
    "    # 用shuffle函数对target=0的所有数据打乱抽样，seed=100,抽样数为刚刚计算的值\n",
    "    undersampled_idx = shuffle(idx_class_0, random_state=100, n_samples=undersampled_majority_size)\n",
    "    \n",
    "    # 把undersampling之后的idx和之前的target=1的idx合并，并在train里面根据idx把数据索引出来\n",
    "    idx_total = list(undersampled_idx)+list(idx_class_1)\n",
    "    \n",
    "    df = df.loc[idx_total].reset_index(drop=True)\n",
    "    \n",
    "    # 如果plot参数设置为True，画出欠采样之后的target分布柱形图。\n",
    "    if plot == True:\n",
    "        import seaborn as sns\n",
    "        sns.countplot(x = df.target)\n",
    "        # print(df.target.value_counts()/df.shape[0])\n",
    "    \n",
    "    return df"
   ]
  },
  {
   "cell_type": "code",
   "execution_count": 41,
   "metadata": {},
   "outputs": [
    {
     "name": "stdout",
     "output_type": "stream",
     "text": [
      "关于target=0的欠采样比率为:【0.21434840173571998】\n",
      "在欠采样之后，target=0的数量为：【122932】\n"
     ]
    },
    {
     "data": {
      "text/html": [
       "<div>\n",
       "<style scoped>\n",
       "    .dataframe tbody tr th:only-of-type {\n",
       "        vertical-align: middle;\n",
       "    }\n",
       "\n",
       "    .dataframe tbody tr th {\n",
       "        vertical-align: top;\n",
       "    }\n",
       "\n",
       "    .dataframe thead th {\n",
       "        text-align: right;\n",
       "    }\n",
       "</style>\n",
       "<table border=\"1\" class=\"dataframe\">\n",
       "  <thead>\n",
       "    <tr style=\"text-align: right;\">\n",
       "      <th></th>\n",
       "      <th>id</th>\n",
       "      <th>target</th>\n",
       "      <th>ps_ind_01</th>\n",
       "      <th>ps_ind_02_cat</th>\n",
       "      <th>ps_ind_03</th>\n",
       "      <th>ps_ind_04_cat</th>\n",
       "      <th>ps_ind_05_cat</th>\n",
       "      <th>ps_ind_06_bin</th>\n",
       "      <th>ps_ind_07_bin</th>\n",
       "      <th>ps_ind_08_bin</th>\n",
       "      <th>...</th>\n",
       "      <th>ps_calc_11</th>\n",
       "      <th>ps_calc_12</th>\n",
       "      <th>ps_calc_13</th>\n",
       "      <th>ps_calc_14</th>\n",
       "      <th>ps_calc_15_bin</th>\n",
       "      <th>ps_calc_16_bin</th>\n",
       "      <th>ps_calc_17_bin</th>\n",
       "      <th>ps_calc_18_bin</th>\n",
       "      <th>ps_calc_19_bin</th>\n",
       "      <th>ps_calc_20_bin</th>\n",
       "    </tr>\n",
       "  </thead>\n",
       "  <tbody>\n",
       "    <tr>\n",
       "      <th>0</th>\n",
       "      <td>744529</td>\n",
       "      <td>0</td>\n",
       "      <td>2</td>\n",
       "      <td>1</td>\n",
       "      <td>9</td>\n",
       "      <td>1</td>\n",
       "      <td>0</td>\n",
       "      <td>0</td>\n",
       "      <td>0</td>\n",
       "      <td>1</td>\n",
       "      <td>...</td>\n",
       "      <td>5</td>\n",
       "      <td>1</td>\n",
       "      <td>2</td>\n",
       "      <td>8</td>\n",
       "      <td>0</td>\n",
       "      <td>0</td>\n",
       "      <td>1</td>\n",
       "      <td>0</td>\n",
       "      <td>0</td>\n",
       "      <td>0</td>\n",
       "    </tr>\n",
       "    <tr>\n",
       "      <th>1</th>\n",
       "      <td>673907</td>\n",
       "      <td>0</td>\n",
       "      <td>1</td>\n",
       "      <td>1</td>\n",
       "      <td>2</td>\n",
       "      <td>1</td>\n",
       "      <td>0</td>\n",
       "      <td>0</td>\n",
       "      <td>1</td>\n",
       "      <td>0</td>\n",
       "      <td>...</td>\n",
       "      <td>6</td>\n",
       "      <td>4</td>\n",
       "      <td>4</td>\n",
       "      <td>9</td>\n",
       "      <td>1</td>\n",
       "      <td>1</td>\n",
       "      <td>1</td>\n",
       "      <td>1</td>\n",
       "      <td>1</td>\n",
       "      <td>0</td>\n",
       "    </tr>\n",
       "    <tr>\n",
       "      <th>2</th>\n",
       "      <td>730796</td>\n",
       "      <td>0</td>\n",
       "      <td>7</td>\n",
       "      <td>1</td>\n",
       "      <td>6</td>\n",
       "      <td>0</td>\n",
       "      <td>4</td>\n",
       "      <td>0</td>\n",
       "      <td>0</td>\n",
       "      <td>0</td>\n",
       "      <td>...</td>\n",
       "      <td>3</td>\n",
       "      <td>1</td>\n",
       "      <td>3</td>\n",
       "      <td>7</td>\n",
       "      <td>0</td>\n",
       "      <td>1</td>\n",
       "      <td>1</td>\n",
       "      <td>0</td>\n",
       "      <td>0</td>\n",
       "      <td>0</td>\n",
       "    </tr>\n",
       "    <tr>\n",
       "      <th>3</th>\n",
       "      <td>306142</td>\n",
       "      <td>0</td>\n",
       "      <td>1</td>\n",
       "      <td>1</td>\n",
       "      <td>3</td>\n",
       "      <td>0</td>\n",
       "      <td>0</td>\n",
       "      <td>1</td>\n",
       "      <td>0</td>\n",
       "      <td>0</td>\n",
       "      <td>...</td>\n",
       "      <td>5</td>\n",
       "      <td>0</td>\n",
       "      <td>2</td>\n",
       "      <td>9</td>\n",
       "      <td>0</td>\n",
       "      <td>0</td>\n",
       "      <td>1</td>\n",
       "      <td>0</td>\n",
       "      <td>0</td>\n",
       "      <td>0</td>\n",
       "    </tr>\n",
       "    <tr>\n",
       "      <th>4</th>\n",
       "      <td>1102701</td>\n",
       "      <td>0</td>\n",
       "      <td>6</td>\n",
       "      <td>2</td>\n",
       "      <td>7</td>\n",
       "      <td>1</td>\n",
       "      <td>0</td>\n",
       "      <td>0</td>\n",
       "      <td>1</td>\n",
       "      <td>0</td>\n",
       "      <td>...</td>\n",
       "      <td>6</td>\n",
       "      <td>0</td>\n",
       "      <td>2</td>\n",
       "      <td>9</td>\n",
       "      <td>0</td>\n",
       "      <td>0</td>\n",
       "      <td>1</td>\n",
       "      <td>1</td>\n",
       "      <td>0</td>\n",
       "      <td>1</td>\n",
       "    </tr>\n",
       "    <tr>\n",
       "      <th>...</th>\n",
       "      <td>...</td>\n",
       "      <td>...</td>\n",
       "      <td>...</td>\n",
       "      <td>...</td>\n",
       "      <td>...</td>\n",
       "      <td>...</td>\n",
       "      <td>...</td>\n",
       "      <td>...</td>\n",
       "      <td>...</td>\n",
       "      <td>...</td>\n",
       "      <td>...</td>\n",
       "      <td>...</td>\n",
       "      <td>...</td>\n",
       "      <td>...</td>\n",
       "      <td>...</td>\n",
       "      <td>...</td>\n",
       "      <td>...</td>\n",
       "      <td>...</td>\n",
       "      <td>...</td>\n",
       "      <td>...</td>\n",
       "      <td>...</td>\n",
       "    </tr>\n",
       "    <tr>\n",
       "      <th>144621</th>\n",
       "      <td>1487473</td>\n",
       "      <td>1</td>\n",
       "      <td>5</td>\n",
       "      <td>1</td>\n",
       "      <td>7</td>\n",
       "      <td>0</td>\n",
       "      <td>3</td>\n",
       "      <td>0</td>\n",
       "      <td>0</td>\n",
       "      <td>1</td>\n",
       "      <td>...</td>\n",
       "      <td>10</td>\n",
       "      <td>1</td>\n",
       "      <td>5</td>\n",
       "      <td>7</td>\n",
       "      <td>0</td>\n",
       "      <td>1</td>\n",
       "      <td>1</td>\n",
       "      <td>0</td>\n",
       "      <td>0</td>\n",
       "      <td>0</td>\n",
       "    </tr>\n",
       "    <tr>\n",
       "      <th>144622</th>\n",
       "      <td>1487566</td>\n",
       "      <td>1</td>\n",
       "      <td>1</td>\n",
       "      <td>1</td>\n",
       "      <td>5</td>\n",
       "      <td>0</td>\n",
       "      <td>0</td>\n",
       "      <td>0</td>\n",
       "      <td>0</td>\n",
       "      <td>1</td>\n",
       "      <td>...</td>\n",
       "      <td>9</td>\n",
       "      <td>2</td>\n",
       "      <td>1</td>\n",
       "      <td>5</td>\n",
       "      <td>0</td>\n",
       "      <td>1</td>\n",
       "      <td>0</td>\n",
       "      <td>0</td>\n",
       "      <td>0</td>\n",
       "      <td>0</td>\n",
       "    </tr>\n",
       "    <tr>\n",
       "      <th>144623</th>\n",
       "      <td>1487716</td>\n",
       "      <td>1</td>\n",
       "      <td>0</td>\n",
       "      <td>1</td>\n",
       "      <td>6</td>\n",
       "      <td>1</td>\n",
       "      <td>0</td>\n",
       "      <td>0</td>\n",
       "      <td>1</td>\n",
       "      <td>0</td>\n",
       "      <td>...</td>\n",
       "      <td>3</td>\n",
       "      <td>2</td>\n",
       "      <td>1</td>\n",
       "      <td>6</td>\n",
       "      <td>0</td>\n",
       "      <td>1</td>\n",
       "      <td>1</td>\n",
       "      <td>0</td>\n",
       "      <td>0</td>\n",
       "      <td>0</td>\n",
       "    </tr>\n",
       "    <tr>\n",
       "      <th>144624</th>\n",
       "      <td>1487748</td>\n",
       "      <td>1</td>\n",
       "      <td>0</td>\n",
       "      <td>2</td>\n",
       "      <td>2</td>\n",
       "      <td>0</td>\n",
       "      <td>0</td>\n",
       "      <td>1</td>\n",
       "      <td>0</td>\n",
       "      <td>0</td>\n",
       "      <td>...</td>\n",
       "      <td>5</td>\n",
       "      <td>0</td>\n",
       "      <td>4</td>\n",
       "      <td>4</td>\n",
       "      <td>0</td>\n",
       "      <td>0</td>\n",
       "      <td>1</td>\n",
       "      <td>0</td>\n",
       "      <td>1</td>\n",
       "      <td>0</td>\n",
       "    </tr>\n",
       "    <tr>\n",
       "      <th>144625</th>\n",
       "      <td>1487866</td>\n",
       "      <td>1</td>\n",
       "      <td>1</td>\n",
       "      <td>2</td>\n",
       "      <td>1</td>\n",
       "      <td>0</td>\n",
       "      <td>0</td>\n",
       "      <td>0</td>\n",
       "      <td>0</td>\n",
       "      <td>1</td>\n",
       "      <td>...</td>\n",
       "      <td>7</td>\n",
       "      <td>2</td>\n",
       "      <td>4</td>\n",
       "      <td>9</td>\n",
       "      <td>1</td>\n",
       "      <td>1</td>\n",
       "      <td>1</td>\n",
       "      <td>0</td>\n",
       "      <td>0</td>\n",
       "      <td>0</td>\n",
       "    </tr>\n",
       "  </tbody>\n",
       "</table>\n",
       "<p>144626 rows × 59 columns</p>\n",
       "</div>"
      ],
      "text/plain": [
       "             id  target  ps_ind_01  ps_ind_02_cat  ps_ind_03  ps_ind_04_cat  \\\n",
       "0        744529       0          2              1          9              1   \n",
       "1        673907       0          1              1          2              1   \n",
       "2        730796       0          7              1          6              0   \n",
       "3        306142       0          1              1          3              0   \n",
       "4       1102701       0          6              2          7              1   \n",
       "...         ...     ...        ...            ...        ...            ...   \n",
       "144621  1487473       1          5              1          7              0   \n",
       "144622  1487566       1          1              1          5              0   \n",
       "144623  1487716       1          0              1          6              1   \n",
       "144624  1487748       1          0              2          2              0   \n",
       "144625  1487866       1          1              2          1              0   \n",
       "\n",
       "        ps_ind_05_cat  ps_ind_06_bin  ps_ind_07_bin  ps_ind_08_bin  ...  \\\n",
       "0                   0              0              0              1  ...   \n",
       "1                   0              0              1              0  ...   \n",
       "2                   4              0              0              0  ...   \n",
       "3                   0              1              0              0  ...   \n",
       "4                   0              0              1              0  ...   \n",
       "...               ...            ...            ...            ...  ...   \n",
       "144621              3              0              0              1  ...   \n",
       "144622              0              0              0              1  ...   \n",
       "144623              0              0              1              0  ...   \n",
       "144624              0              1              0              0  ...   \n",
       "144625              0              0              0              1  ...   \n",
       "\n",
       "        ps_calc_11  ps_calc_12  ps_calc_13  ps_calc_14  ps_calc_15_bin  \\\n",
       "0                5           1           2           8               0   \n",
       "1                6           4           4           9               1   \n",
       "2                3           1           3           7               0   \n",
       "3                5           0           2           9               0   \n",
       "4                6           0           2           9               0   \n",
       "...            ...         ...         ...         ...             ...   \n",
       "144621          10           1           5           7               0   \n",
       "144622           9           2           1           5               0   \n",
       "144623           3           2           1           6               0   \n",
       "144624           5           0           4           4               0   \n",
       "144625           7           2           4           9               1   \n",
       "\n",
       "        ps_calc_16_bin  ps_calc_17_bin  ps_calc_18_bin  ps_calc_19_bin  \\\n",
       "0                    0               1               0               0   \n",
       "1                    1               1               1               1   \n",
       "2                    1               1               0               0   \n",
       "3                    0               1               0               0   \n",
       "4                    0               1               1               0   \n",
       "...                ...             ...             ...             ...   \n",
       "144621               1               1               0               0   \n",
       "144622               1               0               0               0   \n",
       "144623               1               1               0               0   \n",
       "144624               0               1               0               1   \n",
       "144625               1               1               0               0   \n",
       "\n",
       "        ps_calc_20_bin  \n",
       "0                    0  \n",
       "1                    0  \n",
       "2                    0  \n",
       "3                    0  \n",
       "4                    1  \n",
       "...                ...  \n",
       "144621               0  \n",
       "144622               0  \n",
       "144623               0  \n",
       "144624               0  \n",
       "144625               0  \n",
       "\n",
       "[144626 rows x 59 columns]"
      ]
     },
     "execution_count": 41,
     "metadata": {},
     "output_type": "execute_result"
    },
    {
     "data": {
      "image/png": "[encoded data removed]",
      "text/plain": [
       "<Figure size 432x288 with 1 Axes>"
      ]
     },
     "metadata": {
      "needs_background": "light"
     },
     "output_type": "display_data"
    }
   ],
   "source": [
    "undersampling(df=train)\n",
    "\n",
    "# 结果应跟下图一样"
   ]
  },
  {
   "cell_type": "markdown",
   "metadata": {},
   "source": [
    "现在，把刚刚得到的数据存储起来，用df.to_csv()。"
   ]
  },
  {
   "cell_type": "code",
   "execution_count": 42,
   "metadata": {},
   "outputs": [
    {
     "name": "stdout",
     "output_type": "stream",
     "text": [
      "关于target=0的欠采样比率为:【0.21434840173571998】\n",
      "在欠采样之后，target=0的数量为：【122932】\n"
     ]
    }
   ],
   "source": [
    "train_balanced = undersampling(df = train,plot=False)"
   ]
  },
  {
   "cell_type": "code",
   "execution_count": 43,
   "metadata": {},
   "outputs": [],
   "source": [
    "train_balanced.to_csv('./data/train_balanced.csv')"
   ]
  },
  {
   "cell_type": "code",
   "execution_count": 44,
   "metadata": {},
   "outputs": [],
   "source": [
    "train_balanced = pd.read_csv('./data/train_balanced.csv',index_col=0)"
   ]
  },
  {
   "cell_type": "code",
   "execution_count": 45,
   "metadata": {},
   "outputs": [
    {
     "data": {
      "text/html": [
       "<div>\n",
       "<style scoped>\n",
       "    .dataframe tbody tr th:only-of-type {\n",
       "        vertical-align: middle;\n",
       "    }\n",
       "\n",
       "    .dataframe tbody tr th {\n",
       "        vertical-align: top;\n",
       "    }\n",
       "\n",
       "    .dataframe thead th {\n",
       "        text-align: right;\n",
       "    }\n",
       "</style>\n",
       "<table border=\"1\" class=\"dataframe\">\n",
       "  <thead>\n",
       "    <tr style=\"text-align: right;\">\n",
       "      <th></th>\n",
       "      <th>id</th>\n",
       "      <th>target</th>\n",
       "      <th>ps_ind_01</th>\n",
       "      <th>ps_ind_02_cat</th>\n",
       "      <th>ps_ind_03</th>\n",
       "      <th>ps_ind_04_cat</th>\n",
       "      <th>ps_ind_05_cat</th>\n",
       "      <th>ps_ind_06_bin</th>\n",
       "      <th>ps_ind_07_bin</th>\n",
       "      <th>ps_ind_08_bin</th>\n",
       "      <th>...</th>\n",
       "      <th>ps_calc_11</th>\n",
       "      <th>ps_calc_12</th>\n",
       "      <th>ps_calc_13</th>\n",
       "      <th>ps_calc_14</th>\n",
       "      <th>ps_calc_15_bin</th>\n",
       "      <th>ps_calc_16_bin</th>\n",
       "      <th>ps_calc_17_bin</th>\n",
       "      <th>ps_calc_18_bin</th>\n",
       "      <th>ps_calc_19_bin</th>\n",
       "      <th>ps_calc_20_bin</th>\n",
       "    </tr>\n",
       "  </thead>\n",
       "  <tbody>\n",
       "    <tr>\n",
       "      <th>0</th>\n",
       "      <td>744529</td>\n",
       "      <td>0</td>\n",
       "      <td>2</td>\n",
       "      <td>1</td>\n",
       "      <td>9</td>\n",
       "      <td>1</td>\n",
       "      <td>0</td>\n",
       "      <td>0</td>\n",
       "      <td>0</td>\n",
       "      <td>1</td>\n",
       "      <td>...</td>\n",
       "      <td>5</td>\n",
       "      <td>1</td>\n",
       "      <td>2</td>\n",
       "      <td>8</td>\n",
       "      <td>0</td>\n",
       "      <td>0</td>\n",
       "      <td>1</td>\n",
       "      <td>0</td>\n",
       "      <td>0</td>\n",
       "      <td>0</td>\n",
       "    </tr>\n",
       "    <tr>\n",
       "      <th>1</th>\n",
       "      <td>673907</td>\n",
       "      <td>0</td>\n",
       "      <td>1</td>\n",
       "      <td>1</td>\n",
       "      <td>2</td>\n",
       "      <td>1</td>\n",
       "      <td>0</td>\n",
       "      <td>0</td>\n",
       "      <td>1</td>\n",
       "      <td>0</td>\n",
       "      <td>...</td>\n",
       "      <td>6</td>\n",
       "      <td>4</td>\n",
       "      <td>4</td>\n",
       "      <td>9</td>\n",
       "      <td>1</td>\n",
       "      <td>1</td>\n",
       "      <td>1</td>\n",
       "      <td>1</td>\n",
       "      <td>1</td>\n",
       "      <td>0</td>\n",
       "    </tr>\n",
       "    <tr>\n",
       "      <th>2</th>\n",
       "      <td>730796</td>\n",
       "      <td>0</td>\n",
       "      <td>7</td>\n",
       "      <td>1</td>\n",
       "      <td>6</td>\n",
       "      <td>0</td>\n",
       "      <td>4</td>\n",
       "      <td>0</td>\n",
       "      <td>0</td>\n",
       "      <td>0</td>\n",
       "      <td>...</td>\n",
       "      <td>3</td>\n",
       "      <td>1</td>\n",
       "      <td>3</td>\n",
       "      <td>7</td>\n",
       "      <td>0</td>\n",
       "      <td>1</td>\n",
       "      <td>1</td>\n",
       "      <td>0</td>\n",
       "      <td>0</td>\n",
       "      <td>0</td>\n",
       "    </tr>\n",
       "    <tr>\n",
       "      <th>3</th>\n",
       "      <td>306142</td>\n",
       "      <td>0</td>\n",
       "      <td>1</td>\n",
       "      <td>1</td>\n",
       "      <td>3</td>\n",
       "      <td>0</td>\n",
       "      <td>0</td>\n",
       "      <td>1</td>\n",
       "      <td>0</td>\n",
       "      <td>0</td>\n",
       "      <td>...</td>\n",
       "      <td>5</td>\n",
       "      <td>0</td>\n",
       "      <td>2</td>\n",
       "      <td>9</td>\n",
       "      <td>0</td>\n",
       "      <td>0</td>\n",
       "      <td>1</td>\n",
       "      <td>0</td>\n",
       "      <td>0</td>\n",
       "      <td>0</td>\n",
       "    </tr>\n",
       "    <tr>\n",
       "      <th>4</th>\n",
       "      <td>1102701</td>\n",
       "      <td>0</td>\n",
       "      <td>6</td>\n",
       "      <td>2</td>\n",
       "      <td>7</td>\n",
       "      <td>1</td>\n",
       "      <td>0</td>\n",
       "      <td>0</td>\n",
       "      <td>1</td>\n",
       "      <td>0</td>\n",
       "      <td>...</td>\n",
       "      <td>6</td>\n",
       "      <td>0</td>\n",
       "      <td>2</td>\n",
       "      <td>9</td>\n",
       "      <td>0</td>\n",
       "      <td>0</td>\n",
       "      <td>1</td>\n",
       "      <td>1</td>\n",
       "      <td>0</td>\n",
       "      <td>1</td>\n",
       "    </tr>\n",
       "    <tr>\n",
       "      <th>...</th>\n",
       "      <td>...</td>\n",
       "      <td>...</td>\n",
       "      <td>...</td>\n",
       "      <td>...</td>\n",
       "      <td>...</td>\n",
       "      <td>...</td>\n",
       "      <td>...</td>\n",
       "      <td>...</td>\n",
       "      <td>...</td>\n",
       "      <td>...</td>\n",
       "      <td>...</td>\n",
       "      <td>...</td>\n",
       "      <td>...</td>\n",
       "      <td>...</td>\n",
       "      <td>...</td>\n",
       "      <td>...</td>\n",
       "      <td>...</td>\n",
       "      <td>...</td>\n",
       "      <td>...</td>\n",
       "      <td>...</td>\n",
       "      <td>...</td>\n",
       "    </tr>\n",
       "    <tr>\n",
       "      <th>144621</th>\n",
       "      <td>1487473</td>\n",
       "      <td>1</td>\n",
       "      <td>5</td>\n",
       "      <td>1</td>\n",
       "      <td>7</td>\n",
       "      <td>0</td>\n",
       "      <td>3</td>\n",
       "      <td>0</td>\n",
       "      <td>0</td>\n",
       "      <td>1</td>\n",
       "      <td>...</td>\n",
       "      <td>10</td>\n",
       "      <td>1</td>\n",
       "      <td>5</td>\n",
       "      <td>7</td>\n",
       "      <td>0</td>\n",
       "      <td>1</td>\n",
       "      <td>1</td>\n",
       "      <td>0</td>\n",
       "      <td>0</td>\n",
       "      <td>0</td>\n",
       "    </tr>\n",
       "    <tr>\n",
       "      <th>144622</th>\n",
       "      <td>1487566</td>\n",
       "      <td>1</td>\n",
       "      <td>1</td>\n",
       "      <td>1</td>\n",
       "      <td>5</td>\n",
       "      <td>0</td>\n",
       "      <td>0</td>\n",
       "      <td>0</td>\n",
       "      <td>0</td>\n",
       "      <td>1</td>\n",
       "      <td>...</td>\n",
       "      <td>9</td>\n",
       "      <td>2</td>\n",
       "      <td>1</td>\n",
       "      <td>5</td>\n",
       "      <td>0</td>\n",
       "      <td>1</td>\n",
       "      <td>0</td>\n",
       "      <td>0</td>\n",
       "      <td>0</td>\n",
       "      <td>0</td>\n",
       "    </tr>\n",
       "    <tr>\n",
       "      <th>144623</th>\n",
       "      <td>1487716</td>\n",
       "      <td>1</td>\n",
       "      <td>0</td>\n",
       "      <td>1</td>\n",
       "      <td>6</td>\n",
       "      <td>1</td>\n",
       "      <td>0</td>\n",
       "      <td>0</td>\n",
       "      <td>1</td>\n",
       "      <td>0</td>\n",
       "      <td>...</td>\n",
       "      <td>3</td>\n",
       "      <td>2</td>\n",
       "      <td>1</td>\n",
       "      <td>6</td>\n",
       "      <td>0</td>\n",
       "      <td>1</td>\n",
       "      <td>1</td>\n",
       "      <td>0</td>\n",
       "      <td>0</td>\n",
       "      <td>0</td>\n",
       "    </tr>\n",
       "    <tr>\n",
       "      <th>144624</th>\n",
       "      <td>1487748</td>\n",
       "      <td>1</td>\n",
       "      <td>0</td>\n",
       "      <td>2</td>\n",
       "      <td>2</td>\n",
       "      <td>0</td>\n",
       "      <td>0</td>\n",
       "      <td>1</td>\n",
       "      <td>0</td>\n",
       "      <td>0</td>\n",
       "      <td>...</td>\n",
       "      <td>5</td>\n",
       "      <td>0</td>\n",
       "      <td>4</td>\n",
       "      <td>4</td>\n",
       "      <td>0</td>\n",
       "      <td>0</td>\n",
       "      <td>1</td>\n",
       "      <td>0</td>\n",
       "      <td>1</td>\n",
       "      <td>0</td>\n",
       "    </tr>\n",
       "    <tr>\n",
       "      <th>144625</th>\n",
       "      <td>1487866</td>\n",
       "      <td>1</td>\n",
       "      <td>1</td>\n",
       "      <td>2</td>\n",
       "      <td>1</td>\n",
       "      <td>0</td>\n",
       "      <td>0</td>\n",
       "      <td>0</td>\n",
       "      <td>0</td>\n",
       "      <td>1</td>\n",
       "      <td>...</td>\n",
       "      <td>7</td>\n",
       "      <td>2</td>\n",
       "      <td>4</td>\n",
       "      <td>9</td>\n",
       "      <td>1</td>\n",
       "      <td>1</td>\n",
       "      <td>1</td>\n",
       "      <td>0</td>\n",
       "      <td>0</td>\n",
       "      <td>0</td>\n",
       "    </tr>\n",
       "  </tbody>\n",
       "</table>\n",
       "<p>144626 rows × 59 columns</p>\n",
       "</div>"
      ],
      "text/plain": [
       "             id  target  ps_ind_01  ps_ind_02_cat  ps_ind_03  ps_ind_04_cat  \\\n",
       "0        744529       0          2              1          9              1   \n",
       "1        673907       0          1              1          2              1   \n",
       "2        730796       0          7              1          6              0   \n",
       "3        306142       0          1              1          3              0   \n",
       "4       1102701       0          6              2          7              1   \n",
       "...         ...     ...        ...            ...        ...            ...   \n",
       "144621  1487473       1          5              1          7              0   \n",
       "144622  1487566       1          1              1          5              0   \n",
       "144623  1487716       1          0              1          6              1   \n",
       "144624  1487748       1          0              2          2              0   \n",
       "144625  1487866       1          1              2          1              0   \n",
       "\n",
       "        ps_ind_05_cat  ps_ind_06_bin  ps_ind_07_bin  ps_ind_08_bin  ...  \\\n",
       "0                   0              0              0              1  ...   \n",
       "1                   0              0              1              0  ...   \n",
       "2                   4              0              0              0  ...   \n",
       "3                   0              1              0              0  ...   \n",
       "4                   0              0              1              0  ...   \n",
       "...               ...            ...            ...            ...  ...   \n",
       "144621              3              0              0              1  ...   \n",
       "144622              0              0              0              1  ...   \n",
       "144623              0              0              1              0  ...   \n",
       "144624              0              1              0              0  ...   \n",
       "144625              0              0              0              1  ...   \n",
       "\n",
       "        ps_calc_11  ps_calc_12  ps_calc_13  ps_calc_14  ps_calc_15_bin  \\\n",
       "0                5           1           2           8               0   \n",
       "1                6           4           4           9               1   \n",
       "2                3           1           3           7               0   \n",
       "3                5           0           2           9               0   \n",
       "4                6           0           2           9               0   \n",
       "...            ...         ...         ...         ...             ...   \n",
       "144621          10           1           5           7               0   \n",
       "144622           9           2           1           5               0   \n",
       "144623           3           2           1           6               0   \n",
       "144624           5           0           4           4               0   \n",
       "144625           7           2           4           9               1   \n",
       "\n",
       "        ps_calc_16_bin  ps_calc_17_bin  ps_calc_18_bin  ps_calc_19_bin  \\\n",
       "0                    0               1               0               0   \n",
       "1                    1               1               1               1   \n",
       "2                    1               1               0               0   \n",
       "3                    0               1               0               0   \n",
       "4                    0               1               1               0   \n",
       "...                ...             ...             ...             ...   \n",
       "144621               1               1               0               0   \n",
       "144622               1               0               0               0   \n",
       "144623               1               1               0               0   \n",
       "144624               0               1               0               1   \n",
       "144625               1               1               0               0   \n",
       "\n",
       "        ps_calc_20_bin  \n",
       "0                    0  \n",
       "1                    0  \n",
       "2                    0  \n",
       "3                    0  \n",
       "4                    1  \n",
       "...                ...  \n",
       "144621               0  \n",
       "144622               0  \n",
       "144623               0  \n",
       "144624               0  \n",
       "144625               0  \n",
       "\n",
       "[144626 rows x 59 columns]"
      ]
     },
     "execution_count": 45,
     "metadata": {},
     "output_type": "execute_result"
    }
   ],
   "source": [
    "train_balanced"
   ]
  },
  {
   "cell_type": "markdown",
   "metadata": {},
   "source": [
    "### 数据QC"
   ]
  },
  {
   "cell_type": "markdown",
   "metadata": {},
   "source": [
    "上一阶段，我们了解并熟悉了元数据处理，这个概念帮助我们有效有序地梳理维度较高的数据，通过变量的性质和特点，我们可以快速找到对于的变量，并对其展开分析，所以，我们这里将继续基于meta，对数据进行分析！"
   ]
  },
  {
   "cell_type": "markdown",
   "metadata": {},
   "source": [
    "<font color=red>此时，我们将使用`train_balanced`这个数据！</font>"
   ]
  },
  {
   "cell_type": "markdown",
   "metadata": {},
   "source": [
    "<div class=\"alert alert-block alert-success\"><b>Step 2 (3分)</b>: \n",
    "    \n",
    "请基于`metadata`的`缺失值数量`这一列，取出所有变量中缺失值最多的前三名（争取用1行代码！）（3分）\n",
    "    \n",
    "提示：\n",
    "- sorted\n",
    "- zip\n",
    "- lambda\n",
    "    \n",
    "    \n",
    "\n",
    "</div>"
   ]
  },
  {
   "cell_type": "code",
   "execution_count": 46,
   "metadata": {},
   "outputs": [],
   "source": [
    "metadata = pd.read_csv('./data/metadata.csv',index_col=0)"
   ]
  },
  {
   "cell_type": "code",
   "execution_count": 47,
   "metadata": {},
   "outputs": [
    {
     "data": {
      "text/html": [
       "<div>\n",
       "<style scoped>\n",
       "    .dataframe tbody tr th:only-of-type {\n",
       "        vertical-align: middle;\n",
       "    }\n",
       "\n",
       "    .dataframe tbody tr th {\n",
       "        vertical-align: top;\n",
       "    }\n",
       "\n",
       "    .dataframe thead th {\n",
       "        text-align: right;\n",
       "    }\n",
       "</style>\n",
       "<table border=\"1\" class=\"dataframe\">\n",
       "  <thead>\n",
       "    <tr style=\"text-align: right;\">\n",
       "      <th></th>\n",
       "      <th>数据角色</th>\n",
       "      <th>变量类型</th>\n",
       "      <th>数据类型</th>\n",
       "      <th>是否保留</th>\n",
       "      <th>唯一值数量</th>\n",
       "      <th>缺失值数量</th>\n",
       "    </tr>\n",
       "    <tr>\n",
       "      <th>变量名称</th>\n",
       "      <th></th>\n",
       "      <th></th>\n",
       "      <th></th>\n",
       "      <th></th>\n",
       "      <th></th>\n",
       "      <th></th>\n",
       "    </tr>\n",
       "  </thead>\n",
       "  <tbody>\n",
       "    <tr>\n",
       "      <th>id</th>\n",
       "      <td>序列号（不属于特征）</td>\n",
       "      <td>nominal</td>\n",
       "      <td>int64</td>\n",
       "      <td>False</td>\n",
       "      <td>不统计</td>\n",
       "      <td>0(0.0%)</td>\n",
       "    </tr>\n",
       "    <tr>\n",
       "      <th>target</th>\n",
       "      <td>目标标签（是否发起索赔）</td>\n",
       "      <td>binary</td>\n",
       "      <td>int64</td>\n",
       "      <td>True</td>\n",
       "      <td>2</td>\n",
       "      <td>0(0.0%)</td>\n",
       "    </tr>\n",
       "    <tr>\n",
       "      <th>ps_ind_01</th>\n",
       "      <td>特征</td>\n",
       "      <td>ordinal</td>\n",
       "      <td>int64</td>\n",
       "      <td>True</td>\n",
       "      <td>8</td>\n",
       "      <td>0(0.0%)</td>\n",
       "    </tr>\n",
       "    <tr>\n",
       "      <th>ps_ind_02_cat</th>\n",
       "      <td>特征</td>\n",
       "      <td>nominal</td>\n",
       "      <td>int64</td>\n",
       "      <td>True</td>\n",
       "      <td>4</td>\n",
       "      <td>80(0.06%)</td>\n",
       "    </tr>\n",
       "    <tr>\n",
       "      <th>ps_ind_03</th>\n",
       "      <td>特征</td>\n",
       "      <td>ordinal</td>\n",
       "      <td>int64</td>\n",
       "      <td>True</td>\n",
       "      <td>12</td>\n",
       "      <td>0(0.0%)</td>\n",
       "    </tr>\n",
       "    <tr>\n",
       "      <th>ps_ind_04_cat</th>\n",
       "      <td>特征</td>\n",
       "      <td>nominal</td>\n",
       "      <td>int64</td>\n",
       "      <td>True</td>\n",
       "      <td>2</td>\n",
       "      <td>48(0.03%)</td>\n",
       "    </tr>\n",
       "    <tr>\n",
       "      <th>ps_ind_05_cat</th>\n",
       "      <td>特征</td>\n",
       "      <td>nominal</td>\n",
       "      <td>int64</td>\n",
       "      <td>True</td>\n",
       "      <td>7</td>\n",
       "      <td>1604(1.11%)</td>\n",
       "    </tr>\n",
       "    <tr>\n",
       "      <th>ps_ind_06_bin</th>\n",
       "      <td>特征</td>\n",
       "      <td>binary</td>\n",
       "      <td>int64</td>\n",
       "      <td>True</td>\n",
       "      <td>2</td>\n",
       "      <td>0(0.0%)</td>\n",
       "    </tr>\n",
       "    <tr>\n",
       "      <th>ps_ind_07_bin</th>\n",
       "      <td>特征</td>\n",
       "      <td>binary</td>\n",
       "      <td>int64</td>\n",
       "      <td>True</td>\n",
       "      <td>2</td>\n",
       "      <td>0(0.0%)</td>\n",
       "    </tr>\n",
       "    <tr>\n",
       "      <th>ps_ind_08_bin</th>\n",
       "      <td>特征</td>\n",
       "      <td>binary</td>\n",
       "      <td>int64</td>\n",
       "      <td>True</td>\n",
       "      <td>2</td>\n",
       "      <td>0(0.0%)</td>\n",
       "    </tr>\n",
       "    <tr>\n",
       "      <th>ps_ind_09_bin</th>\n",
       "      <td>特征</td>\n",
       "      <td>binary</td>\n",
       "      <td>int64</td>\n",
       "      <td>True</td>\n",
       "      <td>2</td>\n",
       "      <td>0(0.0%)</td>\n",
       "    </tr>\n",
       "    <tr>\n",
       "      <th>ps_ind_10_bin</th>\n",
       "      <td>特征</td>\n",
       "      <td>binary</td>\n",
       "      <td>int64</td>\n",
       "      <td>True</td>\n",
       "      <td>2</td>\n",
       "      <td>0(0.0%)</td>\n",
       "    </tr>\n",
       "    <tr>\n",
       "      <th>ps_ind_11_bin</th>\n",
       "      <td>特征</td>\n",
       "      <td>binary</td>\n",
       "      <td>int64</td>\n",
       "      <td>True</td>\n",
       "      <td>2</td>\n",
       "      <td>0(0.0%)</td>\n",
       "    </tr>\n",
       "    <tr>\n",
       "      <th>ps_ind_12_bin</th>\n",
       "      <td>特征</td>\n",
       "      <td>binary</td>\n",
       "      <td>int64</td>\n",
       "      <td>True</td>\n",
       "      <td>2</td>\n",
       "      <td>0(0.0%)</td>\n",
       "    </tr>\n",
       "    <tr>\n",
       "      <th>ps_ind_13_bin</th>\n",
       "      <td>特征</td>\n",
       "      <td>binary</td>\n",
       "      <td>int64</td>\n",
       "      <td>True</td>\n",
       "      <td>2</td>\n",
       "      <td>0(0.0%)</td>\n",
       "    </tr>\n",
       "    <tr>\n",
       "      <th>ps_ind_14</th>\n",
       "      <td>特征</td>\n",
       "      <td>ordinal</td>\n",
       "      <td>int64</td>\n",
       "      <td>True</td>\n",
       "      <td>5</td>\n",
       "      <td>0(0.0%)</td>\n",
       "    </tr>\n",
       "    <tr>\n",
       "      <th>ps_ind_15</th>\n",
       "      <td>特征</td>\n",
       "      <td>ordinal</td>\n",
       "      <td>int64</td>\n",
       "      <td>True</td>\n",
       "      <td>14</td>\n",
       "      <td>0(0.0%)</td>\n",
       "    </tr>\n",
       "    <tr>\n",
       "      <th>ps_ind_16_bin</th>\n",
       "      <td>特征</td>\n",
       "      <td>binary</td>\n",
       "      <td>int64</td>\n",
       "      <td>True</td>\n",
       "      <td>2</td>\n",
       "      <td>0(0.0%)</td>\n",
       "    </tr>\n",
       "    <tr>\n",
       "      <th>ps_ind_17_bin</th>\n",
       "      <td>特征</td>\n",
       "      <td>binary</td>\n",
       "      <td>int64</td>\n",
       "      <td>True</td>\n",
       "      <td>2</td>\n",
       "      <td>0(0.0%)</td>\n",
       "    </tr>\n",
       "    <tr>\n",
       "      <th>ps_ind_18_bin</th>\n",
       "      <td>特征</td>\n",
       "      <td>binary</td>\n",
       "      <td>int64</td>\n",
       "      <td>True</td>\n",
       "      <td>2</td>\n",
       "      <td>0(0.0%)</td>\n",
       "    </tr>\n",
       "    <tr>\n",
       "      <th>ps_reg_01</th>\n",
       "      <td>特征</td>\n",
       "      <td>interval</td>\n",
       "      <td>float64</td>\n",
       "      <td>True</td>\n",
       "      <td>不统计</td>\n",
       "      <td>0(0.0%)</td>\n",
       "    </tr>\n",
       "    <tr>\n",
       "      <th>ps_reg_02</th>\n",
       "      <td>特征</td>\n",
       "      <td>interval</td>\n",
       "      <td>float64</td>\n",
       "      <td>True</td>\n",
       "      <td>不统计</td>\n",
       "      <td>0(0.0%)</td>\n",
       "    </tr>\n",
       "    <tr>\n",
       "      <th>ps_reg_03</th>\n",
       "      <td>特征</td>\n",
       "      <td>interval</td>\n",
       "      <td>float64</td>\n",
       "      <td>True</td>\n",
       "      <td>不统计</td>\n",
       "      <td>25226(17.44%)</td>\n",
       "    </tr>\n",
       "    <tr>\n",
       "      <th>ps_car_01_cat</th>\n",
       "      <td>特征</td>\n",
       "      <td>nominal</td>\n",
       "      <td>int64</td>\n",
       "      <td>True</td>\n",
       "      <td>12</td>\n",
       "      <td>53(0.04%)</td>\n",
       "    </tr>\n",
       "    <tr>\n",
       "      <th>ps_car_02_cat</th>\n",
       "      <td>特征</td>\n",
       "      <td>nominal</td>\n",
       "      <td>int64</td>\n",
       "      <td>True</td>\n",
       "      <td>2</td>\n",
       "      <td>0(0.0%)</td>\n",
       "    </tr>\n",
       "    <tr>\n",
       "      <th>ps_car_03_cat</th>\n",
       "      <td>特征</td>\n",
       "      <td>nominal</td>\n",
       "      <td>int64</td>\n",
       "      <td>True</td>\n",
       "      <td>2</td>\n",
       "      <td>98459(68.08%)</td>\n",
       "    </tr>\n",
       "    <tr>\n",
       "      <th>ps_car_04_cat</th>\n",
       "      <td>特征</td>\n",
       "      <td>nominal</td>\n",
       "      <td>int64</td>\n",
       "      <td>True</td>\n",
       "      <td>10</td>\n",
       "      <td>0(0.0%)</td>\n",
       "    </tr>\n",
       "    <tr>\n",
       "      <th>ps_car_05_cat</th>\n",
       "      <td>特征</td>\n",
       "      <td>nominal</td>\n",
       "      <td>int64</td>\n",
       "      <td>True</td>\n",
       "      <td>2</td>\n",
       "      <td>63882(44.17%)</td>\n",
       "    </tr>\n",
       "    <tr>\n",
       "      <th>ps_car_06_cat</th>\n",
       "      <td>特征</td>\n",
       "      <td>nominal</td>\n",
       "      <td>int64</td>\n",
       "      <td>True</td>\n",
       "      <td>18</td>\n",
       "      <td>0(0.0%)</td>\n",
       "    </tr>\n",
       "    <tr>\n",
       "      <th>ps_car_07_cat</th>\n",
       "      <td>特征</td>\n",
       "      <td>nominal</td>\n",
       "      <td>int64</td>\n",
       "      <td>True</td>\n",
       "      <td>2</td>\n",
       "      <td>3149(2.18%)</td>\n",
       "    </tr>\n",
       "    <tr>\n",
       "      <th>ps_car_08_cat</th>\n",
       "      <td>特征</td>\n",
       "      <td>nominal</td>\n",
       "      <td>int64</td>\n",
       "      <td>True</td>\n",
       "      <td>2</td>\n",
       "      <td>0(0.0%)</td>\n",
       "    </tr>\n",
       "    <tr>\n",
       "      <th>ps_car_09_cat</th>\n",
       "      <td>特征</td>\n",
       "      <td>nominal</td>\n",
       "      <td>int64</td>\n",
       "      <td>True</td>\n",
       "      <td>5</td>\n",
       "      <td>165(0.11%)</td>\n",
       "    </tr>\n",
       "    <tr>\n",
       "      <th>ps_car_10_cat</th>\n",
       "      <td>特征</td>\n",
       "      <td>nominal</td>\n",
       "      <td>int64</td>\n",
       "      <td>True</td>\n",
       "      <td>3</td>\n",
       "      <td>0(0.0%)</td>\n",
       "    </tr>\n",
       "    <tr>\n",
       "      <th>ps_car_11_cat</th>\n",
       "      <td>特征</td>\n",
       "      <td>nominal</td>\n",
       "      <td>int64</td>\n",
       "      <td>True</td>\n",
       "      <td>104</td>\n",
       "      <td>0(0.0%)</td>\n",
       "    </tr>\n",
       "    <tr>\n",
       "      <th>ps_car_11</th>\n",
       "      <td>特征</td>\n",
       "      <td>ordinal</td>\n",
       "      <td>int64</td>\n",
       "      <td>True</td>\n",
       "      <td>4</td>\n",
       "      <td>1(0.0%)</td>\n",
       "    </tr>\n",
       "    <tr>\n",
       "      <th>ps_car_12</th>\n",
       "      <td>特征</td>\n",
       "      <td>interval</td>\n",
       "      <td>float64</td>\n",
       "      <td>True</td>\n",
       "      <td>不统计</td>\n",
       "      <td>0(0.0%)</td>\n",
       "    </tr>\n",
       "    <tr>\n",
       "      <th>ps_car_13</th>\n",
       "      <td>特征</td>\n",
       "      <td>interval</td>\n",
       "      <td>float64</td>\n",
       "      <td>True</td>\n",
       "      <td>不统计</td>\n",
       "      <td>0(0.0%)</td>\n",
       "    </tr>\n",
       "    <tr>\n",
       "      <th>ps_car_14</th>\n",
       "      <td>特征</td>\n",
       "      <td>interval</td>\n",
       "      <td>float64</td>\n",
       "      <td>True</td>\n",
       "      <td>不统计</td>\n",
       "      <td>10569(7.31%)</td>\n",
       "    </tr>\n",
       "    <tr>\n",
       "      <th>ps_car_15</th>\n",
       "      <td>特征</td>\n",
       "      <td>interval</td>\n",
       "      <td>float64</td>\n",
       "      <td>True</td>\n",
       "      <td>不统计</td>\n",
       "      <td>0(0.0%)</td>\n",
       "    </tr>\n",
       "    <tr>\n",
       "      <th>ps_calc_01</th>\n",
       "      <td>特征</td>\n",
       "      <td>interval</td>\n",
       "      <td>float64</td>\n",
       "      <td>True</td>\n",
       "      <td>不统计</td>\n",
       "      <td>0(0.0%)</td>\n",
       "    </tr>\n",
       "    <tr>\n",
       "      <th>ps_calc_02</th>\n",
       "      <td>特征</td>\n",
       "      <td>interval</td>\n",
       "      <td>float64</td>\n",
       "      <td>True</td>\n",
       "      <td>不统计</td>\n",
       "      <td>0(0.0%)</td>\n",
       "    </tr>\n",
       "    <tr>\n",
       "      <th>ps_calc_03</th>\n",
       "      <td>特征</td>\n",
       "      <td>interval</td>\n",
       "      <td>float64</td>\n",
       "      <td>True</td>\n",
       "      <td>不统计</td>\n",
       "      <td>0(0.0%)</td>\n",
       "    </tr>\n",
       "    <tr>\n",
       "      <th>ps_calc_04</th>\n",
       "      <td>特征</td>\n",
       "      <td>ordinal</td>\n",
       "      <td>int64</td>\n",
       "      <td>True</td>\n",
       "      <td>6</td>\n",
       "      <td>0(0.0%)</td>\n",
       "    </tr>\n",
       "    <tr>\n",
       "      <th>ps_calc_05</th>\n",
       "      <td>特征</td>\n",
       "      <td>ordinal</td>\n",
       "      <td>int64</td>\n",
       "      <td>True</td>\n",
       "      <td>7</td>\n",
       "      <td>0(0.0%)</td>\n",
       "    </tr>\n",
       "    <tr>\n",
       "      <th>ps_calc_06</th>\n",
       "      <td>特征</td>\n",
       "      <td>ordinal</td>\n",
       "      <td>int64</td>\n",
       "      <td>True</td>\n",
       "      <td>10</td>\n",
       "      <td>0(0.0%)</td>\n",
       "    </tr>\n",
       "    <tr>\n",
       "      <th>ps_calc_07</th>\n",
       "      <td>特征</td>\n",
       "      <td>ordinal</td>\n",
       "      <td>int64</td>\n",
       "      <td>True</td>\n",
       "      <td>10</td>\n",
       "      <td>0(0.0%)</td>\n",
       "    </tr>\n",
       "    <tr>\n",
       "      <th>ps_calc_08</th>\n",
       "      <td>特征</td>\n",
       "      <td>ordinal</td>\n",
       "      <td>int64</td>\n",
       "      <td>True</td>\n",
       "      <td>11</td>\n",
       "      <td>0(0.0%)</td>\n",
       "    </tr>\n",
       "    <tr>\n",
       "      <th>ps_calc_09</th>\n",
       "      <td>特征</td>\n",
       "      <td>ordinal</td>\n",
       "      <td>int64</td>\n",
       "      <td>True</td>\n",
       "      <td>8</td>\n",
       "      <td>0(0.0%)</td>\n",
       "    </tr>\n",
       "    <tr>\n",
       "      <th>ps_calc_10</th>\n",
       "      <td>特征</td>\n",
       "      <td>ordinal</td>\n",
       "      <td>int64</td>\n",
       "      <td>True</td>\n",
       "      <td>23</td>\n",
       "      <td>0(0.0%)</td>\n",
       "    </tr>\n",
       "    <tr>\n",
       "      <th>ps_calc_11</th>\n",
       "      <td>特征</td>\n",
       "      <td>ordinal</td>\n",
       "      <td>int64</td>\n",
       "      <td>True</td>\n",
       "      <td>19</td>\n",
       "      <td>0(0.0%)</td>\n",
       "    </tr>\n",
       "    <tr>\n",
       "      <th>ps_calc_12</th>\n",
       "      <td>特征</td>\n",
       "      <td>ordinal</td>\n",
       "      <td>int64</td>\n",
       "      <td>True</td>\n",
       "      <td>11</td>\n",
       "      <td>0(0.0%)</td>\n",
       "    </tr>\n",
       "    <tr>\n",
       "      <th>ps_calc_13</th>\n",
       "      <td>特征</td>\n",
       "      <td>ordinal</td>\n",
       "      <td>int64</td>\n",
       "      <td>True</td>\n",
       "      <td>14</td>\n",
       "      <td>0(0.0%)</td>\n",
       "    </tr>\n",
       "    <tr>\n",
       "      <th>ps_calc_14</th>\n",
       "      <td>特征</td>\n",
       "      <td>ordinal</td>\n",
       "      <td>int64</td>\n",
       "      <td>True</td>\n",
       "      <td>24</td>\n",
       "      <td>0(0.0%)</td>\n",
       "    </tr>\n",
       "    <tr>\n",
       "      <th>ps_calc_15_bin</th>\n",
       "      <td>特征</td>\n",
       "      <td>binary</td>\n",
       "      <td>int64</td>\n",
       "      <td>True</td>\n",
       "      <td>2</td>\n",
       "      <td>0(0.0%)</td>\n",
       "    </tr>\n",
       "    <tr>\n",
       "      <th>ps_calc_16_bin</th>\n",
       "      <td>特征</td>\n",
       "      <td>binary</td>\n",
       "      <td>int64</td>\n",
       "      <td>True</td>\n",
       "      <td>2</td>\n",
       "      <td>0(0.0%)</td>\n",
       "    </tr>\n",
       "    <tr>\n",
       "      <th>ps_calc_17_bin</th>\n",
       "      <td>特征</td>\n",
       "      <td>binary</td>\n",
       "      <td>int64</td>\n",
       "      <td>True</td>\n",
       "      <td>2</td>\n",
       "      <td>0(0.0%)</td>\n",
       "    </tr>\n",
       "    <tr>\n",
       "      <th>ps_calc_18_bin</th>\n",
       "      <td>特征</td>\n",
       "      <td>binary</td>\n",
       "      <td>int64</td>\n",
       "      <td>True</td>\n",
       "      <td>2</td>\n",
       "      <td>0(0.0%)</td>\n",
       "    </tr>\n",
       "    <tr>\n",
       "      <th>ps_calc_19_bin</th>\n",
       "      <td>特征</td>\n",
       "      <td>binary</td>\n",
       "      <td>int64</td>\n",
       "      <td>True</td>\n",
       "      <td>2</td>\n",
       "      <td>0(0.0%)</td>\n",
       "    </tr>\n",
       "    <tr>\n",
       "      <th>ps_calc_20_bin</th>\n",
       "      <td>特征</td>\n",
       "      <td>binary</td>\n",
       "      <td>int64</td>\n",
       "      <td>True</td>\n",
       "      <td>2</td>\n",
       "      <td>0(0.0%)</td>\n",
       "    </tr>\n",
       "  </tbody>\n",
       "</table>\n",
       "</div>"
      ],
      "text/plain": [
       "                        数据角色      变量类型     数据类型   是否保留 唯一值数量          缺失值数量\n",
       "变量名称                                                                       \n",
       "id                序列号（不属于特征）   nominal    int64  False   不统计        0(0.0%)\n",
       "target          目标标签（是否发起索赔）    binary    int64   True     2        0(0.0%)\n",
       "ps_ind_01                 特征   ordinal    int64   True     8        0(0.0%)\n",
       "ps_ind_02_cat             特征   nominal    int64   True     4      80(0.06%)\n",
       "ps_ind_03                 特征   ordinal    int64   True    12        0(0.0%)\n",
       "ps_ind_04_cat             特征   nominal    int64   True     2      48(0.03%)\n",
       "ps_ind_05_cat             特征   nominal    int64   True     7    1604(1.11%)\n",
       "ps_ind_06_bin             特征    binary    int64   True     2        0(0.0%)\n",
       "ps_ind_07_bin             特征    binary    int64   True     2        0(0.0%)\n",
       "ps_ind_08_bin             特征    binary    int64   True     2        0(0.0%)\n",
       "ps_ind_09_bin             特征    binary    int64   True     2        0(0.0%)\n",
       "ps_ind_10_bin             特征    binary    int64   True     2        0(0.0%)\n",
       "ps_ind_11_bin             特征    binary    int64   True     2        0(0.0%)\n",
       "ps_ind_12_bin             特征    binary    int64   True     2        0(0.0%)\n",
       "ps_ind_13_bin             特征    binary    int64   True     2        0(0.0%)\n",
       "ps_ind_14                 特征   ordinal    int64   True     5        0(0.0%)\n",
       "ps_ind_15                 特征   ordinal    int64   True    14        0(0.0%)\n",
       "ps_ind_16_bin             特征    binary    int64   True     2        0(0.0%)\n",
       "ps_ind_17_bin             特征    binary    int64   True     2        0(0.0%)\n",
       "ps_ind_18_bin             特征    binary    int64   True     2        0(0.0%)\n",
       "ps_reg_01                 特征  interval  float64   True   不统计        0(0.0%)\n",
       "ps_reg_02                 特征  interval  float64   True   不统计        0(0.0%)\n",
       "ps_reg_03                 特征  interval  float64   True   不统计  25226(17.44%)\n",
       "ps_car_01_cat             特征   nominal    int64   True    12      53(0.04%)\n",
       "ps_car_02_cat             特征   nominal    int64   True     2        0(0.0%)\n",
       "ps_car_03_cat             特征   nominal    int64   True     2  98459(68.08%)\n",
       "ps_car_04_cat             特征   nominal    int64   True    10        0(0.0%)\n",
       "ps_car_05_cat             特征   nominal    int64   True     2  63882(44.17%)\n",
       "ps_car_06_cat             特征   nominal    int64   True    18        0(0.0%)\n",
       "ps_car_07_cat             特征   nominal    int64   True     2    3149(2.18%)\n",
       "ps_car_08_cat             特征   nominal    int64   True     2        0(0.0%)\n",
       "ps_car_09_cat             特征   nominal    int64   True     5     165(0.11%)\n",
       "ps_car_10_cat             特征   nominal    int64   True     3        0(0.0%)\n",
       "ps_car_11_cat             特征   nominal    int64   True   104        0(0.0%)\n",
       "ps_car_11                 特征   ordinal    int64   True     4        1(0.0%)\n",
       "ps_car_12                 特征  interval  float64   True   不统计        0(0.0%)\n",
       "ps_car_13                 特征  interval  float64   True   不统计        0(0.0%)\n",
       "ps_car_14                 特征  interval  float64   True   不统计   10569(7.31%)\n",
       "ps_car_15                 特征  interval  float64   True   不统计        0(0.0%)\n",
       "ps_calc_01                特征  interval  float64   True   不统计        0(0.0%)\n",
       "ps_calc_02                特征  interval  float64   True   不统计        0(0.0%)\n",
       "ps_calc_03                特征  interval  float64   True   不统计        0(0.0%)\n",
       "ps_calc_04                特征   ordinal    int64   True     6        0(0.0%)\n",
       "ps_calc_05                特征   ordinal    int64   True     7        0(0.0%)\n",
       "ps_calc_06                特征   ordinal    int64   True    10        0(0.0%)\n",
       "ps_calc_07                特征   ordinal    int64   True    10        0(0.0%)\n",
       "ps_calc_08                特征   ordinal    int64   True    11        0(0.0%)\n",
       "ps_calc_09                特征   ordinal    int64   True     8        0(0.0%)\n",
       "ps_calc_10                特征   ordinal    int64   True    23        0(0.0%)\n",
       "ps_calc_11                特征   ordinal    int64   True    19        0(0.0%)\n",
       "ps_calc_12                特征   ordinal    int64   True    11        0(0.0%)\n",
       "ps_calc_13                特征   ordinal    int64   True    14        0(0.0%)\n",
       "ps_calc_14                特征   ordinal    int64   True    24        0(0.0%)\n",
       "ps_calc_15_bin            特征    binary    int64   True     2        0(0.0%)\n",
       "ps_calc_16_bin            特征    binary    int64   True     2        0(0.0%)\n",
       "ps_calc_17_bin            特征    binary    int64   True     2        0(0.0%)\n",
       "ps_calc_18_bin            特征    binary    int64   True     2        0(0.0%)\n",
       "ps_calc_19_bin            特征    binary    int64   True     2        0(0.0%)\n",
       "ps_calc_20_bin            特征    binary    int64   True     2        0(0.0%)"
      ]
     },
     "execution_count": 47,
     "metadata": {},
     "output_type": "execute_result"
    }
   ],
   "source": [
    "metadata"
   ]
  },
  {
   "cell_type": "code",
   "execution_count": 29,
   "metadata": {},
   "outputs": [],
   "source": [
    "# 问题1：完善下列代码"
   ]
  },
  {
   "cell_type": "code",
   "execution_count": 48,
   "metadata": {},
   "outputs": [],
   "source": [
    "train_balanced_update = train_balanced.copy()"
   ]
  },
  {
   "cell_type": "code",
   "execution_count": 34,
   "metadata": {},
   "outputs": [
    {
     "data": {
      "text/html": [
       "<div>\n",
       "<style scoped>\n",
       "    .dataframe tbody tr th:only-of-type {\n",
       "        vertical-align: middle;\n",
       "    }\n",
       "\n",
       "    .dataframe tbody tr th {\n",
       "        vertical-align: top;\n",
       "    }\n",
       "\n",
       "    .dataframe thead th {\n",
       "        text-align: right;\n",
       "    }\n",
       "</style>\n",
       "<table border=\"1\" class=\"dataframe\">\n",
       "  <thead>\n",
       "    <tr style=\"text-align: right;\">\n",
       "      <th></th>\n",
       "      <th>变量名</th>\n",
       "      <th>变量类型</th>\n",
       "      <th>缺失值数量</th>\n",
       "    </tr>\n",
       "  </thead>\n",
       "  <tbody>\n",
       "    <tr>\n",
       "      <th>0</th>\n",
       "      <td>ps_car_03_cat</td>\n",
       "      <td>nominal</td>\n",
       "      <td>98459(68.08%)</td>\n",
       "    </tr>\n",
       "    <tr>\n",
       "      <th>1</th>\n",
       "      <td>ps_car_05_cat</td>\n",
       "      <td>nominal</td>\n",
       "      <td>63882(44.17%)</td>\n",
       "    </tr>\n",
       "    <tr>\n",
       "      <th>2</th>\n",
       "      <td>ps_reg_03</td>\n",
       "      <td>interval</td>\n",
       "      <td>25226(17.44%)</td>\n",
       "    </tr>\n",
       "    <tr>\n",
       "      <th>3</th>\n",
       "      <td>ps_car_14</td>\n",
       "      <td>interval</td>\n",
       "      <td>10569(7.31%)</td>\n",
       "    </tr>\n",
       "    <tr>\n",
       "      <th>4</th>\n",
       "      <td>ps_car_07_cat</td>\n",
       "      <td>nominal</td>\n",
       "      <td>3149(2.18%)</td>\n",
       "    </tr>\n",
       "    <tr>\n",
       "      <th>5</th>\n",
       "      <td>ps_ind_05_cat</td>\n",
       "      <td>nominal</td>\n",
       "      <td>1604(1.11%)</td>\n",
       "    </tr>\n",
       "    <tr>\n",
       "      <th>6</th>\n",
       "      <td>ps_car_09_cat</td>\n",
       "      <td>nominal</td>\n",
       "      <td>165(0.11%)</td>\n",
       "    </tr>\n",
       "    <tr>\n",
       "      <th>7</th>\n",
       "      <td>ps_ind_02_cat</td>\n",
       "      <td>nominal</td>\n",
       "      <td>80(0.06%)</td>\n",
       "    </tr>\n",
       "    <tr>\n",
       "      <th>8</th>\n",
       "      <td>ps_car_01_cat</td>\n",
       "      <td>nominal</td>\n",
       "      <td>53(0.04%)</td>\n",
       "    </tr>\n",
       "    <tr>\n",
       "      <th>9</th>\n",
       "      <td>ps_ind_04_cat</td>\n",
       "      <td>nominal</td>\n",
       "      <td>48(0.03%)</td>\n",
       "    </tr>\n",
       "    <tr>\n",
       "      <th>10</th>\n",
       "      <td>ps_car_11</td>\n",
       "      <td>ordinal</td>\n",
       "      <td>1(0.0%)</td>\n",
       "    </tr>\n",
       "  </tbody>\n",
       "</table>\n",
       "</div>"
      ],
      "text/plain": [
       "              变量名      变量类型          缺失值数量\n",
       "0   ps_car_03_cat   nominal  98459(68.08%)\n",
       "1   ps_car_05_cat   nominal  63882(44.17%)\n",
       "2       ps_reg_03  interval  25226(17.44%)\n",
       "3       ps_car_14  interval   10569(7.31%)\n",
       "4   ps_car_07_cat   nominal    3149(2.18%)\n",
       "5   ps_ind_05_cat   nominal    1604(1.11%)\n",
       "6   ps_car_09_cat   nominal     165(0.11%)\n",
       "7   ps_ind_02_cat   nominal      80(0.06%)\n",
       "8   ps_car_01_cat   nominal      53(0.04%)\n",
       "9   ps_ind_04_cat   nominal      48(0.03%)\n",
       "10      ps_car_11   ordinal        1(0.0%)"
      ]
     },
     "execution_count": 34,
     "metadata": {},
     "output_type": "execute_result"
    }
   ],
   "source": [
    "# 找到缺失值的前三名,以及其变量类型和缺失值数量\n",
    "\n",
    "# 答案另起一行\n",
    "\n",
    "# 首先找出所有的missing columns，从大到小排序取前三。\n",
    "\n",
    "missing_summary = \n",
    "missing_cols_top3 = missing_summary.iloc[:3,0].tolist()\n",
    "missing_summary # 应如下！"
   ]
  },
  {
   "cell_type": "code",
   "execution_count": 49,
   "metadata": {},
   "outputs": [
    {
     "data": {
      "text/html": [
       "<div>\n",
       "<style scoped>\n",
       "    .dataframe tbody tr th:only-of-type {\n",
       "        vertical-align: middle;\n",
       "    }\n",
       "\n",
       "    .dataframe tbody tr th {\n",
       "        vertical-align: top;\n",
       "    }\n",
       "\n",
       "    .dataframe thead th {\n",
       "        text-align: right;\n",
       "    }\n",
       "</style>\n",
       "<table border=\"1\" class=\"dataframe\">\n",
       "  <thead>\n",
       "    <tr style=\"text-align: right;\">\n",
       "      <th></th>\n",
       "      <th>变量名</th>\n",
       "      <th>变量类型</th>\n",
       "      <th>缺失值数量</th>\n",
       "    </tr>\n",
       "  </thead>\n",
       "  <tbody>\n",
       "    <tr>\n",
       "      <th>0</th>\n",
       "      <td>ps_car_03_cat</td>\n",
       "      <td>nominal</td>\n",
       "      <td>98459(68.08%)</td>\n",
       "    </tr>\n",
       "    <tr>\n",
       "      <th>1</th>\n",
       "      <td>ps_car_05_cat</td>\n",
       "      <td>nominal</td>\n",
       "      <td>63882(44.17%)</td>\n",
       "    </tr>\n",
       "    <tr>\n",
       "      <th>2</th>\n",
       "      <td>ps_reg_03</td>\n",
       "      <td>interval</td>\n",
       "      <td>25226(17.44%)</td>\n",
       "    </tr>\n",
       "    <tr>\n",
       "      <th>3</th>\n",
       "      <td>ps_car_14</td>\n",
       "      <td>interval</td>\n",
       "      <td>10569(7.31%)</td>\n",
       "    </tr>\n",
       "    <tr>\n",
       "      <th>4</th>\n",
       "      <td>ps_car_07_cat</td>\n",
       "      <td>nominal</td>\n",
       "      <td>3149(2.18%)</td>\n",
       "    </tr>\n",
       "    <tr>\n",
       "      <th>5</th>\n",
       "      <td>ps_ind_05_cat</td>\n",
       "      <td>nominal</td>\n",
       "      <td>1604(1.11%)</td>\n",
       "    </tr>\n",
       "    <tr>\n",
       "      <th>6</th>\n",
       "      <td>ps_car_09_cat</td>\n",
       "      <td>nominal</td>\n",
       "      <td>165(0.11%)</td>\n",
       "    </tr>\n",
       "    <tr>\n",
       "      <th>7</th>\n",
       "      <td>ps_ind_02_cat</td>\n",
       "      <td>nominal</td>\n",
       "      <td>80(0.06%)</td>\n",
       "    </tr>\n",
       "    <tr>\n",
       "      <th>8</th>\n",
       "      <td>ps_car_01_cat</td>\n",
       "      <td>nominal</td>\n",
       "      <td>53(0.04%)</td>\n",
       "    </tr>\n",
       "    <tr>\n",
       "      <th>9</th>\n",
       "      <td>ps_ind_04_cat</td>\n",
       "      <td>nominal</td>\n",
       "      <td>48(0.03%)</td>\n",
       "    </tr>\n",
       "    <tr>\n",
       "      <th>10</th>\n",
       "      <td>ps_car_11</td>\n",
       "      <td>ordinal</td>\n",
       "      <td>1(0.0%)</td>\n",
       "    </tr>\n",
       "  </tbody>\n",
       "</table>\n",
       "</div>"
      ],
      "text/plain": [
       "              变量名      变量类型          缺失值数量\n",
       "0   ps_car_03_cat   nominal  98459(68.08%)\n",
       "1   ps_car_05_cat   nominal  63882(44.17%)\n",
       "2       ps_reg_03  interval  25226(17.44%)\n",
       "3       ps_car_14  interval   10569(7.31%)\n",
       "4   ps_car_07_cat   nominal    3149(2.18%)\n",
       "5   ps_ind_05_cat   nominal    1604(1.11%)\n",
       "6   ps_car_09_cat   nominal     165(0.11%)\n",
       "7   ps_ind_02_cat   nominal      80(0.06%)\n",
       "8   ps_car_01_cat   nominal      53(0.04%)\n",
       "9   ps_ind_04_cat   nominal      48(0.03%)\n",
       "10      ps_car_11   ordinal        1(0.0%)"
      ]
     },
     "execution_count": 49,
     "metadata": {},
     "output_type": "execute_result"
    }
   ],
   "source": [
    "#群主答案\n",
    "missing_summary = pd.DataFrame(sorted(zip(metadata.index,metadata['变量类型'],metadata['缺失值数量']),key = lambda x: int(x[2].split('(')[0]),reverse=True),columns = ['变量名','变量类型','缺失值数量']).iloc[:11,:]\n",
    "missing_cols_top3 = missing_summary.iloc[:3,0].tolist()\n",
    "missing_summary "
   ]
  },
  {
   "cell_type": "code",
   "execution_count": 50,
   "metadata": {},
   "outputs": [
    {
     "data": {
      "text/plain": [
       "['ps_car_03_cat', 'ps_car_05_cat', 'ps_reg_03']"
      ]
     },
     "execution_count": 50,
     "metadata": {},
     "output_type": "execute_result"
    }
   ],
   "source": [
    "missing_cols_top3  # 你的答案应如下！"
   ]
  },
  {
   "cell_type": "code",
   "execution_count": 51,
   "metadata": {},
   "outputs": [],
   "source": [
    "missing_cols = missing_summary.iloc[:,0]"
   ]
  },
  {
   "cell_type": "code",
   "execution_count": 52,
   "metadata": {},
   "outputs": [
    {
     "data": {
      "text/plain": [
       "0     ps_car_03_cat\n",
       "1     ps_car_05_cat\n",
       "2         ps_reg_03\n",
       "3         ps_car_14\n",
       "4     ps_car_07_cat\n",
       "5     ps_ind_05_cat\n",
       "6     ps_car_09_cat\n",
       "7     ps_ind_02_cat\n",
       "8     ps_car_01_cat\n",
       "9     ps_ind_04_cat\n",
       "10        ps_car_11\n",
       "Name: 变量名, dtype: object"
      ]
     },
     "execution_count": 52,
     "metadata": {},
     "output_type": "execute_result"
    }
   ],
   "source": [
    "missing_cols # 所有含有missing value的cols"
   ]
  },
  {
   "cell_type": "markdown",
   "metadata": {},
   "source": [
    "可以看到，前两名都是nominal的，并且缺失值都超过总量的40%，所以我们先舍弃这两个变量。\n",
    "\n",
    "在metadata中把把对应的`是否保留`这一列更改。"
   ]
  },
  {
   "cell_type": "code",
   "execution_count": 53,
   "metadata": {},
   "outputs": [],
   "source": [
    "cols_to_drop=['ps_car_03_cat','ps_car_05_cat']"
   ]
  },
  {
   "cell_type": "code",
   "execution_count": 54,
   "metadata": {},
   "outputs": [],
   "source": [
    "metadata.loc[cols_to_drop,'是否保留'] = False # 更改metadata"
   ]
  },
  {
   "cell_type": "markdown",
   "metadata": {},
   "source": [
    "第三、四名是interval变量，是连续型的，分别代表了region（地区型）和car（车辆型）的信息。"
   ]
  },
  {
   "cell_type": "code",
   "execution_count": 55,
   "metadata": {},
   "outputs": [
    {
     "data": {
      "text/html": [
       "<div>\n",
       "<style scoped>\n",
       "    .dataframe tbody tr th:only-of-type {\n",
       "        vertical-align: middle;\n",
       "    }\n",
       "\n",
       "    .dataframe tbody tr th {\n",
       "        vertical-align: top;\n",
       "    }\n",
       "\n",
       "    .dataframe thead th {\n",
       "        text-align: right;\n",
       "    }\n",
       "</style>\n",
       "<table border=\"1\" class=\"dataframe\">\n",
       "  <thead>\n",
       "    <tr style=\"text-align: right;\">\n",
       "      <th></th>\n",
       "      <th>ps_reg_03</th>\n",
       "      <th>ps_car_14</th>\n",
       "    </tr>\n",
       "  </thead>\n",
       "  <tbody>\n",
       "    <tr>\n",
       "      <th>count</th>\n",
       "      <td>119400.000000</td>\n",
       "      <td>134057.000000</td>\n",
       "    </tr>\n",
       "    <tr>\n",
       "      <th>mean</th>\n",
       "      <td>0.900321</td>\n",
       "      <td>0.374999</td>\n",
       "    </tr>\n",
       "    <tr>\n",
       "      <th>std</th>\n",
       "      <td>0.348303</td>\n",
       "      <td>0.046183</td>\n",
       "    </tr>\n",
       "    <tr>\n",
       "      <th>min</th>\n",
       "      <td>0.061237</td>\n",
       "      <td>0.109545</td>\n",
       "    </tr>\n",
       "    <tr>\n",
       "      <th>25%</th>\n",
       "      <td>0.637377</td>\n",
       "      <td>0.349857</td>\n",
       "    </tr>\n",
       "    <tr>\n",
       "      <th>50%</th>\n",
       "      <td>0.808161</td>\n",
       "      <td>0.374433</td>\n",
       "    </tr>\n",
       "    <tr>\n",
       "      <th>75%</th>\n",
       "      <td>1.097440</td>\n",
       "      <td>0.398497</td>\n",
       "    </tr>\n",
       "    <tr>\n",
       "      <th>max</th>\n",
       "      <td>4.037945</td>\n",
       "      <td>0.631664</td>\n",
       "    </tr>\n",
       "  </tbody>\n",
       "</table>\n",
       "</div>"
      ],
      "text/plain": [
       "           ps_reg_03      ps_car_14\n",
       "count  119400.000000  134057.000000\n",
       "mean        0.900321       0.374999\n",
       "std         0.348303       0.046183\n",
       "min         0.061237       0.109545\n",
       "25%         0.637377       0.349857\n",
       "50%         0.808161       0.374433\n",
       "75%         1.097440       0.398497\n",
       "max         4.037945       0.631664"
      ]
     },
     "execution_count": 55,
     "metadata": {},
     "output_type": "execute_result"
    }
   ],
   "source": [
    "train_balanced[['ps_reg_03','ps_car_14']].replace(-1,np.nan).describe()\n",
    "\n",
    "# 连续型变量要replace -1 再去做描述性统计。"
   ]
  },
  {
   "cell_type": "markdown",
   "metadata": {},
   "source": [
    "<div class=\"alert alert-block alert-success\"><b>Step 2 (3分)</b>: \n",
    "    \n",
    "对于这两列，请阐述你关于缺失值处理的想法，并且用代码validate，言之有理即可。\n",
    "    \n",
    "</div>"
   ]
  },
  {
   "cell_type": "markdown",
   "metadata": {},
   "source": [
    "提示：\n",
    "![](https://s6.jpg.cm/2022/02/26/LgNC44.png)"
   ]
  },
  {
   "cell_type": "code",
   "execution_count": 72,
   "metadata": {},
   "outputs": [
    {
     "data": {
      "text/plain": [
       "<seaborn.axisgrid.FacetGrid at 0x19e4d504eb0>"
      ]
     },
     "execution_count": 72,
     "metadata": {},
     "output_type": "execute_result"
    },
    {
     "data": {
      "image/png": "[encoded data removed]",
      "text/plain": [
       "<Figure size 360x360 with 1 Axes>"
      ]
     },
     "metadata": {
      "needs_background": "light"
     },
     "output_type": "display_data"
    }
   ],
   "source": [
    "# 你的答案\n",
    "sns.displot(train_balanced['ps_reg_03'], color= 'g', bins= 100)"
   ]
  },
  {
   "cell_type": "code",
   "execution_count": 69,
   "metadata": {},
   "outputs": [
    {
     "data": {
      "text/plain": [
       "<AxesSubplot:xlabel='ps_reg_03', ylabel='Count'>"
      ]
     },
     "execution_count": 69,
     "metadata": {},
     "output_type": "execute_result"
    },
    {
     "data": {
      "image/png": "[encoded data removed]",
      "text/plain": [
       "<Figure size 432x288 with 1 Axes>"
      ]
     },
     "metadata": {
      "needs_background": "light"
     },
     "output_type": "display_data"
    }
   ],
   "source": [
    "sns.histplot(train_balanced['ps_reg_03'].replace(-1,np.nan))"
   ]
  },
  {
   "cell_type": "code",
   "execution_count": 76,
   "metadata": {},
   "outputs": [
    {
     "data": {
      "text/plain": [
       "<seaborn.axisgrid.FacetGrid at 0x19e52402f10>"
      ]
     },
     "execution_count": 76,
     "metadata": {},
     "output_type": "execute_result"
    },
    {
     "data": {
      "image/png": "[encoded data removed]",
      "text/plain": [
       "<Figure size 360x360 with 1 Axes>"
      ]
     },
     "metadata": {
      "needs_background": "light"
     },
     "output_type": "display_data"
    }
   ],
   "source": [
    "sns.displot(train_balanced['ps_car_14'], color= 'g', bins= 100)"
   ]
  },
  {
   "cell_type": "code",
   "execution_count": 74,
   "metadata": {},
   "outputs": [
    {
     "data": {
      "text/plain": [
       "<AxesSubplot:xlabel='ps_car_14', ylabel='Count'>"
      ]
     },
     "execution_count": 74,
     "metadata": {},
     "output_type": "execute_result"
    },
    {
     "data": {
      "image/png": "[encoded data removed]",
      "text/plain": [
       "<Figure size 432x288 with 1 Axes>"
      ]
     },
     "metadata": {
      "needs_background": "light"
     },
     "output_type": "display_data"
    }
   ],
   "source": [
    "sns.histplot(train_balanced['ps_car_14'].replace(-1,np.nan))"
   ]
  },
  {
   "cell_type": "code",
   "execution_count": 87,
   "metadata": {},
   "outputs": [
    {
     "data": {
      "text/plain": [
       "<AxesSubplot:>"
      ]
     },
     "execution_count": 87,
     "metadata": {},
     "output_type": "execute_result"
    },
    {
     "data": {
      "image/png": "[encoded data removed]",
      "text/plain": [
       "<Figure size 1440x720 with 2 Axes>"
      ]
     },
     "metadata": {
      "needs_background": "light"
     },
     "output_type": "display_data"
    }
   ],
   "source": [
    "corrmat = train_balanced.corr()\n",
    "f, ax = plt.subplots(figsize= (20,10))\n",
    "sns.heatmap(corrmat, cmap=\"YlGnBu\")"
   ]
  },
  {
   "cell_type": "markdown",
   "metadata": {},
   "source": [
    "ps_reg_03 is positively skewed to the right while ps_car_14 is negatively skewed to the left. However, based on the heatmap, the relationship between each other are not strong enough."
   ]
  },
  {
   "cell_type": "markdown",
   "metadata": {},
   "source": [
    "抛开前四个，剩下变量所含的缺失值虽然不多，但是我们也要处理。"
   ]
  },
  {
   "cell_type": "code",
   "execution_count": 56,
   "metadata": {},
   "outputs": [],
   "source": [
    "missing_cat_cols = missing_cols[4:].tolist()  # 前四个已经处理掉了"
   ]
  },
  {
   "cell_type": "code",
   "execution_count": 57,
   "metadata": {},
   "outputs": [
    {
     "data": {
      "text/plain": [
       "['ps_car_07_cat',\n",
       " 'ps_ind_05_cat',\n",
       " 'ps_car_09_cat',\n",
       " 'ps_ind_02_cat',\n",
       " 'ps_car_01_cat',\n",
       " 'ps_ind_04_cat',\n",
       " 'ps_car_11']"
      ]
     },
     "execution_count": 57,
     "metadata": {},
     "output_type": "execute_result"
    }
   ],
   "source": [
    "missing_cat_cols  # 剩下七个 都是categorical的"
   ]
  },
  {
   "cell_type": "markdown",
   "metadata": {},
   "source": [
    "<div class=\"alert alert-block alert-success\"><b>Step 3 (4分)</b>: \n",
    "    \n",
    "对于上面output中的这些离散特征，请阐述你关于缺失值处理的想法，并且用代码validate，言之有理即可。\n",
    "    \n",
    "</div>"
   ]
  },
  {
   "cell_type": "markdown",
   "metadata": {},
   "source": [
    "提示："
   ]
  },
  {
   "cell_type": "markdown",
   "metadata": {},
   "source": [
    "填补一下代码的空缺！\n",
    "\n",
    "- 子画布大小为[10,5]\n",
    "- 根据target进行分类\n",
    "- 设置横纵轴标签大小为10\n",
    "\n",
    "\n",
    "```python\n",
    "for col in missing_cat_cols:\n",
    "    \n",
    "    # 简历画布\n",
    "    plt.figure()\n",
    "    # 设置子画布\n",
    "    fig, ax = plt.subplots(figsize=(10,5))\n",
    "    \n",
    "    # countplot\n",
    "    sns.countplot(  #填写代码#   )\n",
    "    \n",
    "    # 设置横轴纵轴标签以及标题\n",
    "    plt.ylabel('数量', fontsize=14)\n",
    "    plt.xlabel(col, fontsize=14)\n",
    "    plt.title(f\"变量【{col}】根据target的类别分布\",fontsize = 16)\n",
    "    # 设置横纵轴标签大小为10\n",
    "        代码。。。\n",
    "```"
   ]
  },
  {
   "cell_type": "code",
   "execution_count": 59,
   "metadata": {},
   "outputs": [
    {
     "data": {
      "text/plain": [
       "<Figure size 432x288 with 0 Axes>"
      ]
     },
     "metadata": {},
     "output_type": "display_data"
    },
    {
     "data": {
      "image/png": "[encoded data removed]",
      "text/plain": [
       "<Figure size 720x360 with 1 Axes>"
      ]
     },
     "metadata": {
      "needs_background": "light"
     },
     "output_type": "display_data"
    },
    {
     "data": {
      "text/plain": [
       "<Figure size 432x288 with 0 Axes>"
      ]
     },
     "metadata": {},
     "output_type": "display_data"
    },
    {
     "data": {
      "image/png": "[encoded data removed]",
      "text/plain": [
       "<Figure size 720x360 with 1 Axes>"
      ]
     },
     "metadata": {
      "needs_background": "light"
     },
     "output_type": "display_data"
    },
    {
     "data": {
      "text/plain": [
       "<Figure size 432x288 with 0 Axes>"
      ]
     },
     "metadata": {},
     "output_type": "display_data"
    },
    {
     "data": {
      "image/png": "[encoded data removed]",
      "text/plain": [
       "<Figure size 720x360 with 1 Axes>"
      ]
     },
     "metadata": {
      "needs_background": "light"
     },
     "output_type": "display_data"
    },
    {
     "data": {
      "text/plain": [
       "<Figure size 432x288 with 0 Axes>"
      ]
     },
     "metadata": {},
     "output_type": "display_data"
    },
    {
     "data": {
      "image/png": "[encoded data removed]",
      "text/plain": [
       "<Figure size 720x360 with 1 Axes>"
      ]
     },
     "metadata": {
      "needs_background": "light"
     },
     "output_type": "display_data"
    },
    {
     "data": {
      "text/plain": [
       "<Figure size 432x288 with 0 Axes>"
      ]
     },
     "metadata": {},
     "output_type": "display_data"
    },
    {
     "data": {
      "image/png": "[encoded data removed]",
      "text/plain": [
       "<Figure size 720x360 with 1 Axes>"
      ]
     },
     "metadata": {
      "needs_background": "light"
     },
     "output_type": "display_data"
    },
    {
     "data": {
      "text/plain": [
       "<Figure size 432x288 with 0 Axes>"
      ]
     },
     "metadata": {},
     "output_type": "display_data"
    },
    {
     "data": {
      "image/png": "[encoded data removed]",
      "text/plain": [
       "<Figure size 720x360 with 1 Axes>"
      ]
     },
     "metadata": {
      "needs_background": "light"
     },
     "output_type": "display_data"
    },
    {
     "data": {
      "text/plain": [
       "<Figure size 432x288 with 0 Axes>"
      ]
     },
     "metadata": {},
     "output_type": "display_data"
    },
    {
     "data": {
      "image/png": "[encoded data removed]",
      "text/plain": [
       "<Figure size 720x360 with 1 Axes>"
      ]
     },
     "metadata": {
      "needs_background": "light"
     },
     "output_type": "display_data"
    }
   ],
   "source": [
    "for col in missing_cat_cols:\n",
    "    \n",
    "    # 简历画布\n",
    "    plt.figure()\n",
    "    # 设置子画布\n",
    "    fig, ax = plt.subplots(figsize=(10,5))\n",
    "    \n",
    "    # countplot\n",
    "    sns.countplot(x = col,hue = 'target', data = train_balanced)\n",
    "    \n",
    "    # 设置横轴纵轴标签以及标题\n",
    "    plt.ylabel('数量', fontsize=14)\n",
    "    plt.xlabel(col, fontsize=14)\n",
    "    plt.title(f\"变量【{col}】根据target的类别分布\",fontsize = 16)\n",
    "    # 设置横纵轴标签大小为10\n",
    "    plt.tick_params(axis='both', which='major', labelsize=10)\n",
    "    plt.show()"
   ]
  },
  {
   "cell_type": "markdown",
   "metadata": {},
   "source": [
    "现在，我们来进行缺失值的填充，使用sklearn的Imputer，这里对train_balanced_update进行填充（copy），保留原train_balanced。"
   ]
  },
  {
   "cell_type": "markdown",
   "metadata": {},
   "source": [
    "### 缺失值填充"
   ]
  },
  {
   "cell_type": "code",
   "execution_count": 88,
   "metadata": {},
   "outputs": [],
   "source": [
    "from sklearn.impute import SimpleImputer # 这里使用SimpleImputer，参考：https://zhuanlan.zhihu.com/p/83173703"
   ]
  },
  {
   "cell_type": "code",
   "execution_count": 89,
   "metadata": {},
   "outputs": [],
   "source": [
    "# 排名前2的变量我们drop掉\n",
    "cols_to_drop = ['ps_car_03_cat', 'ps_car_05_cat']"
   ]
  },
  {
   "cell_type": "markdown",
   "metadata": {},
   "source": [
    "排名第三第四的变量，我们分别应该如何填充？"
   ]
  },
  {
   "cell_type": "markdown",
   "metadata": {},
   "source": [
    "不同的strategy形成不同的填充模式，\n",
    "\n",
    "- If \"<font color=red>mean</font>\", then replace missing values using the mean along each column. Can only be used with numeric data.\n",
    "- If \"<font color=red>median</font>\", then replace missing values using the median along\n",
    "  each column. Can only be used with numeric data.\n",
    "- If \"<font color=red>most_frequent</font>\", then replace missing using the most frequent\n",
    "  value along each column. Can be used with strings or numeric data.\n",
    "  If there is more than one such value, only the smallest is returned.\n",
    "- If \"<font color=red>constant</font>\", then replace missing values with fill_value. Can be\n",
    "  used with strings or numeric data."
   ]
  },
  {
   "cell_type": "markdown",
   "metadata": {},
   "source": [
    "shift+tab 查看函数用法以及参数。"
   ]
  },
  {
   "cell_type": "code",
   "execution_count": 90,
   "metadata": {},
   "outputs": [],
   "source": [
    "mean_imputer = SimpleImputer(missing_values = -1, strategy='mean',add_indicator=True)\n",
    "mode_imputer = SimpleImputer(missing_values = -1, strategy='most_frequent',add_indicator=True)"
   ]
  },
  {
   "cell_type": "markdown",
   "metadata": {},
   "source": [
    "<div class=\"alert alert-block alert-info\"> \n",
    "<p style=\"font-size:20px; display:inline\">💡</p> 思考：\n",
    "\n",
    "- add_indicator的作用\n",
    "- strategy不同造成什么影响\n",
    "</div>"
   ]
  },
  {
   "cell_type": "code",
   "execution_count": 91,
   "metadata": {},
   "outputs": [],
   "source": [
    "# 众数填充 why?\n",
    "train_balanced_update['ps_reg_03']=[x[0] for x in mode_imputer.fit_transform(train_balanced_update[['ps_reg_03']]).tolist()]"
   ]
  },
  {
   "cell_type": "markdown",
   "metadata": {},
   "source": [
    "<div class=\"alert alert-block alert-info\"> \n",
    "<p style=\"font-size:20px; display:inline\">💡</p> 思考：\n",
    "\n",
    "尝试一下完善下面代码\n",
    "</div>"
   ]
  },
  {
   "cell_type": "code",
   "execution_count": 92,
   "metadata": {},
   "outputs": [],
   "source": [
    "# 均值填充 why?\n",
    "train_balanced_update['ps_car_14']=[x[0] for x in mean_imputer.fit_transform(train_balanced_update[['ps_car_14']]).tolist()]"
   ]
  },
  {
   "cell_type": "markdown",
   "metadata": {},
   "source": [
    "可以看到，剩下的nominal和ordinal变量都属于离散变量，所以我们需要用众数填充，其某一类的占比极大（dominant），所以我们用mode_imputer。"
   ]
  },
  {
   "cell_type": "markdown",
   "metadata": {},
   "source": [
    "<div class=\"alert alert-block alert-info\"> \n",
    "<p style=\"font-size:20px; display:inline\">💡</p> 思考：\n",
    "\n",
    "fit_transform、fit有什么区别？\n",
    "</div>"
   ]
  },
  {
   "cell_type": "code",
   "execution_count": 93,
   "metadata": {},
   "outputs": [],
   "source": [
    "imp = mode_imputer.fit_transform(train_balanced_update[missing_cat_cols])"
   ]
  },
  {
   "cell_type": "code",
   "execution_count": 94,
   "metadata": {},
   "outputs": [],
   "source": [
    "train_balanced_update[missing_cat_cols]=pd.DataFrame(imp).iloc[:,:len(missing_cat_cols)]"
   ]
  },
  {
   "cell_type": "code",
   "execution_count": 95,
   "metadata": {},
   "outputs": [],
   "source": [
    "train_balanced_update[missing_cat_cols] = train_balanced_update[missing_cat_cols].astype('int64')# 填充之后dtype会改变，记得改回来"
   ]
  },
  {
   "cell_type": "markdown",
   "metadata": {},
   "source": [
    "此时，我们填充缺失值后的数据应该不存在缺失值了，但是如果要更新metadata的话，好像有点麻烦，别着急，继续往下走。"
   ]
  },
  {
   "cell_type": "markdown",
   "metadata": {},
   "source": [
    "### EDA(exploratory data analysis)\n",
    "\n",
    "下面，我们正式开始对数据进行探索式分析，还是基于metadata，对不同变量类型展开分析。"
   ]
  },
  {
   "cell_type": "markdown",
   "metadata": {},
   "source": [
    "<div class=\"alert alert-block alert-success\"><b>Step 3 (5分)</b>: \n",
    "    \n",
    "1. 这两段代码的结果有什么区别？（1分）\n",
    "2. 解锁下面代码，研究输出代表什么意思，纵坐标和横坐标的关系是什么？然后在图上加上title描述这个图的含义，纵轴标签大小设置为20（2分）\n",
    "3. 我们应该如何处理？对离散型变量作出什么改变？（2分）【提示：inverse_transform】\n",
    "    \n",
    "</div>"
   ]
  },
  {
   "cell_type": "code",
   "execution_count": 97,
   "metadata": {},
   "outputs": [
    {
     "data": {
      "text/plain": [
       "<Figure size 432x288 with 0 Axes>"
      ]
     },
     "metadata": {},
     "output_type": "display_data"
    },
    {
     "data": {
      "image/png": "[encoded data removed]",
      "text/plain": [
       "<Figure size 1440x360 with 1 Axes>"
      ]
     },
     "metadata": {
      "needs_background": "light"
     },
     "output_type": "display_data"
    },
    {
     "data": {
      "text/plain": [
       "<Figure size 432x288 with 0 Axes>"
      ]
     },
     "metadata": {},
     "output_type": "display_data"
    },
    {
     "data": {
      "image/png": "[encoded data removed]",
      "text/plain": [
       "<Figure size 1440x360 with 1 Axes>"
      ]
     },
     "metadata": {
      "needs_background": "light"
     },
     "output_type": "display_data"
    },
    {
     "data": {
      "text/plain": [
       "<Figure size 432x288 with 0 Axes>"
      ]
     },
     "metadata": {},
     "output_type": "display_data"
    },
    {
     "data": {
      "image/png": "[encoded data removed]",
      "text/plain": [
       "<Figure size 1440x360 with 1 Axes>"
      ]
     },
     "metadata": {
      "needs_background": "light"
     },
     "output_type": "display_data"
    },
    {
     "data": {
      "text/plain": [
       "<Figure size 432x288 with 0 Axes>"
      ]
     },
     "metadata": {},
     "output_type": "display_data"
    },
    {
     "data": {
      "image/png": "[encoded data removed]",
      "text/plain": [
       "<Figure size 1440x360 with 1 Axes>"
      ]
     },
     "metadata": {
      "needs_background": "light"
     },
     "output_type": "display_data"
    },
    {
     "data": {
      "text/plain": [
       "<Figure size 432x288 with 0 Axes>"
      ]
     },
     "metadata": {},
     "output_type": "display_data"
    },
    {
     "data": {
      "image/png": "[encoded data removed]",
      "text/plain": [
       "<Figure size 1440x360 with 1 Axes>"
      ]
     },
     "metadata": {
      "needs_background": "light"
     },
     "output_type": "display_data"
    },
    {
     "data": {
      "text/plain": [
       "<Figure size 432x288 with 0 Axes>"
      ]
     },
     "metadata": {},
     "output_type": "display_data"
    },
    {
     "data": {
      "image/png": "[encoded data removed]",
      "text/plain": [
       "<Figure size 1440x360 with 1 Axes>"
      ]
     },
     "metadata": {
      "needs_background": "light"
     },
     "output_type": "display_data"
    },
    {
     "data": {
      "text/plain": [
       "<Figure size 432x288 with 0 Axes>"
      ]
     },
     "metadata": {},
     "output_type": "display_data"
    },
    {
     "data": {
      "image/png": "[encoded data removed]",
      "text/plain": [
       "<Figure size 1440x360 with 1 Axes>"
      ]
     },
     "metadata": {
      "needs_background": "light"
     },
     "output_type": "display_data"
    }
   ],
   "source": [
    "for col in missing_cat_cols:\n",
    "    plt.figure()\n",
    "    fig, ax = plt.subplots(figsize=(20,5))\n",
    "\n",
    "    cat_perc = train_balanced[[col, 'target']].groupby([col],as_index=False).mean()\n",
    "    cat_perc.sort_values(by='target', ascending=False, inplace=True)\n",
    "\n",
    "    sns.barplot(ax=ax, x=col, y='target', data=cat_perc, order=cat_perc[col],palette='rocket')\n",
    "    # title\n",
    "    \n",
    "    plt.xlabel(col, fontsize=18)\n",
    "    plt.ylabel('发起索赔占比', fontsize=18)\n",
    "    # 纵轴标签大小\n",
    "    plt.tick_params(axis='both', which='major', labelsize=18)\n",
    "    \n",
    "    \n",
    "# 答案的输出应如下！"
   ]
  },
  {
   "cell_type": "code",
   "execution_count": 52,
   "metadata": {},
   "outputs": [
    {
     "data": {
      "text/plain": [
       "<Figure size 432x288 with 0 Axes>"
      ]
     },
     "metadata": {},
     "output_type": "display_data"
    },
    {
     "data": {
      "image/png": "[encoded data removed]",
      "text/plain": [
       "<Figure size 1440x360 with 1 Axes>"
      ]
     },
     "metadata": {
      "needs_background": "light"
     },
     "output_type": "display_data"
    },
    {
     "data": {
      "text/plain": [
       "<Figure size 432x288 with 0 Axes>"
      ]
     },
     "metadata": {},
     "output_type": "display_data"
    },
    {
     "data": {
      "image/png": "[encoded data removed]",
      "text/plain": [
       "<Figure size 1440x360 with 1 Axes>"
      ]
     },
     "metadata": {
      "needs_background": "light"
     },
     "output_type": "display_data"
    },
    {
     "data": {
      "text/plain": [
       "<Figure size 432x288 with 0 Axes>"
      ]
     },
     "metadata": {},
     "output_type": "display_data"
    },
    {
     "data": {
      "image/png": "[encoded data removed]",
      "text/plain": [
       "<Figure size 1440x360 with 1 Axes>"
      ]
     },
     "metadata": {
      "needs_background": "light"
     },
     "output_type": "display_data"
    },
    {
     "data": {
      "text/plain": [
       "<Figure size 432x288 with 0 Axes>"
      ]
     },
     "metadata": {},
     "output_type": "display_data"
    },
    {
     "data": {
      "image/png": "[encoded data removed]",
      "text/plain": [
       "<Figure size 1440x360 with 1 Axes>"
      ]
     },
     "metadata": {
      "needs_background": "light"
     },
     "output_type": "display_data"
    },
    {
     "data": {
      "text/plain": [
       "<Figure size 432x288 with 0 Axes>"
      ]
     },
     "metadata": {},
     "output_type": "display_data"
    },
    {
     "data": {
      "image/png": "[encoded data removed]",
      "text/plain": [
       "<Figure size 1440x360 with 1 Axes>"
      ]
     },
     "metadata": {
      "needs_background": "light"
     },
     "output_type": "display_data"
    },
    {
     "data": {
      "text/plain": [
       "<Figure size 432x288 with 0 Axes>"
      ]
     },
     "metadata": {},
     "output_type": "display_data"
    },
    {
     "data": {
      "image/png": "[encoded data removed]",
      "text/plain": [
       "<Figure size 1440x360 with 1 Axes>"
      ]
     },
     "metadata": {
      "needs_background": "light"
     },
     "output_type": "display_data"
    },
    {
     "data": {
      "text/plain": [
       "<Figure size 432x288 with 0 Axes>"
      ]
     },
     "metadata": {},
     "output_type": "display_data"
    },
    {
     "data": {
      "image/png": "[encoded data removed]",
      "text/plain": [
       "<Figure size 1440x360 with 1 Axes>"
      ]
     },
     "metadata": {
      "needs_background": "light"
     },
     "output_type": "display_data"
    }
   ],
   "source": [
    "for col in missing_cat_cols:\n",
    "    plt.figure()\n",
    "    fig, ax = plt.subplots(figsize=(20,5))\n",
    "\n",
    "    cat_perc = train_balanced_update[[col, 'target']].groupby([col],as_index=False).mean()  \n",
    "    # train_balanced换成了train_balanced_update(去除缺失值之后)\n",
    "    cat_perc.sort_values(by='target', ascending=False, inplace=True)\n",
    "\n",
    "    sns.barplot(ax=ax, x=col, y='target', data=cat_perc, order=cat_perc[col],palette='mako')\n",
    "\n",
    "    plt.xlabel(col, fontsize=18)\n",
    "    #plt.ylabel('发起索赔占比', fontsize=18)\n"
   ]
  },
  {
   "cell_type": "code",
   "execution_count": 98,
   "metadata": {},
   "outputs": [
    {
     "data": {
      "text/plain": [
       "['ps_car_07_cat',\n",
       " 'ps_ind_05_cat',\n",
       " 'ps_car_09_cat',\n",
       " 'ps_ind_02_cat',\n",
       " 'ps_car_01_cat',\n",
       " 'ps_ind_04_cat',\n",
       " 'ps_car_11']"
      ]
     },
     "execution_count": 98,
     "metadata": {},
     "output_type": "execute_result"
    }
   ],
   "source": [
    "missing_cat_cols  # 那么这7个有缺失值的变量，该如何处理？"
   ]
  },
  {
   "cell_type": "markdown",
   "metadata": {},
   "source": [
    "<div class=\"alert alert-block alert-info\"> \n",
    "<p style=\"font-size:20px; display:inline\">💡</p> 提示：\n",
    "\n",
    "imputer + inverse_transform\n",
    "</div>"
   ]
  },
  {
   "cell_type": "code",
   "execution_count": 99,
   "metadata": {},
   "outputs": [],
   "source": [
    "train_balanced_update[missing_cat_cols[:6]]=pd.DataFrame(mode_imputer.inverse_transform(imp)).iloc[:,:6].astype('int64')"
   ]
  },
  {
   "cell_type": "markdown",
   "metadata": {},
   "source": [
    "这个时候，我们需要对metadata更新，因为当这些离散型变量的类别为-1时，也值得我们研究，尽管我们不知道为什么是缺失的，但是这几个变量下，客户的缺失值反而大大对target=1有重要的影响。\n",
    "\n",
    "那么metadata的唯一值需要我们更新。"
   ]
  },
  {
   "cell_type": "markdown",
   "metadata": {},
   "source": [
    "不过请大家注意这一列：`ps_car_11_cat`"
   ]
  },
  {
   "cell_type": "code",
   "execution_count": 100,
   "metadata": {},
   "outputs": [
    {
     "data": {
      "image/png": "[encoded data removed]",
      "text/plain": [
       "<Figure size 2160x720 with 1 Axes>"
      ]
     },
     "metadata": {
      "needs_background": "light"
     },
     "output_type": "display_data"
    }
   ],
   "source": [
    "(train_balanced_update.ps_car_11_cat.value_counts()/train_balanced_update.shape[0]).plot(kind='bar',figsize = [30,10])\n",
    "plt.tick_params(axis='y', which='major', labelsize=20)"
   ]
  },
  {
   "cell_type": "markdown",
   "metadata": {},
   "source": [
    "这一列是nominal的，离散型变量，并且dominant的一类：104（虽然我不懂什么意思），占据整个类别的15%左右，所以我不能认为这一类完全压过了其他类，从而可以忽视其他类别的研究，而且这一列有104个唯一值数量，并且不存在顺序关系。"
   ]
  },
  {
   "cell_type": "markdown",
   "metadata": {},
   "source": [
    "那么这个时候对这种唯一值过多的列如何编码，就成问题了！\n",
    "\n",
    "看下图👇👇👇\n",
    "\n",
    "来自我的小红书作品：http://xhslink.com/AYivVf 【请移步到我的作品中查看细节哦！】\n",
    "\n",
    "总结：\n",
    "\n",
    "- 当变量类型是`ordinal`，我们可以用`OrdinalEncoder`或者`LabelEncoder`去编码。\n",
    "- 当变量类型是`nominal`，我们可以用`OneHotEncoder`去编码。\n",
    "\n",
    "但是当这一列的唯一值过多，一列就变成了104列，再加上其他经过编码的列，整个数据的维度就会爆炸，从原来的60维上升到几百维这样，极大影响了后续建模的过程。"
   ]
  },
  {
   "cell_type": "markdown",
   "metadata": {},
   "source": [
    "### 编码 encoding\n",
    "\n",
    "1. label encoding\n",
    "其实本身数据已经做了label encoding了，类别型数据已经用整数来去替换了。\n",
    "\n",
    "\n",
    "2. onehot encoding(dummy encoding)\n",
    "\n",
    "比如下图，本来有3类数据，那么我就把一列扩充为三列，然后遍历每一行，如果该行关于这一列的值，原来是`private`,那么在新的3列之中，只有`WorkClassPrivate`这一列设置为1，其他2列为0，以此类推。\n",
    "\n",
    "\n",
    "[![bQBUqH.png](https://s4.ax1x.com/2022/03/01/bQBUqH.png)](https://imgtu.com/i/bQBUqH)\n"
   ]
  },
  {
   "cell_type": "markdown",
   "metadata": {},
   "source": [
    "今天简单说一下 target encoding 也叫 mean encoding。"
   ]
  },
  {
   "cell_type": "markdown",
   "metadata": {},
   "source": [
    "就是把类别替换成target关于这一类的均值。\n",
    "\n",
    "[![bQDkeH.png](https://s4.ax1x.com/2022/03/01/bQDkeH.png)](https://imgtu.com/i/bQDkeH)\n",
    "\n",
    "先把每一类groupby，然后计算每一组的mean，然后替换。"
   ]
  },
  {
   "cell_type": "markdown",
   "metadata": {},
   "source": [
    "<div class=\"alert alert-block alert-success\"><b>Step 4 (4分)</b>: \n",
    "    \n",
    "分析整理一下这三个编码方法的优缺点，还有别的编码方法么？\n",
    "    \n",
    "</div>"
   ]
  },
  {
   "cell_type": "code",
   "execution_count": null,
   "metadata": {},
   "outputs": [],
   "source": [
    "# 你的答案\n",
    "Label Encoding\n",
    "- 优点：可以根据字母循序把类别转换成0，1，2，3，4\n",
    "- 缺点：由于把类别转换成0，1，2，3，会导致模型误会类别的关系。比如印度是0，日本是1，中国是2， 这样的转换会让模型以为中国大过日本，日本大过印度。导致预测不准确\n",
    "\n",
    "Onehot Encoding\n",
    "- 优点：会建立而外的列来显示类别，并吧类比转换成binary format，可以很好地解决label encoding所带来的问题\n",
    "- 缺点：会导致模型利用剩下的数据很容易的预测到答案\n",
    "\n",
    "Target Encoding\n",
    "- 优点：会把类比直接转换成平均值\n",
    "- 缺点：target encoding是依靠着target的分布量，所以需要而外的注意已经validate，因为他有可能带来overfitting， 只能使用在特定的数据\n",
    "- 可以很好的减少数据泄露， 因为已经把类别换成平均值，已经不知道原来的数据代表着什么\n",
    "\n",
    "别的编码方法\n",
    "- binary encoding\n",
    "    - 不会而外建立新的列\n",
    "    -适合用于有很多categorical的数据\n",
    "    -处理速度非常快\n",
    "    -把类别转换成binary format\n"
   ]
  },
  {
   "cell_type": "markdown",
   "metadata": {},
   "source": [
    "给大家看一下target encoding的函数。"
   ]
  },
  {
   "cell_type": "code",
   "execution_count": 104,
   "metadata": {},
   "outputs": [],
   "source": [
    "def add_noise(series, noise_level):\n",
    "    return series * (1 + noise_level * np.random.randn(len(series)))\n",
    "\n",
    "def target_encode(trn_series=None, \n",
    "                  tst_series=None, \n",
    "                  target=None, \n",
    "                  min_samples_leaf=1, \n",
    "                  smoothing=1,\n",
    "                  noise_level=0):\n",
    "    \"\"\"\n",
    "    Smoothing is computed like in the following paper by Daniele Micci-Barreca\n",
    "    https://kaggle2.blob.core.windows.net/forum-message-attachments/225952/7441/high%20cardinality%20categoricals.pdf\n",
    "    trn_series : training categorical feature as a pd.Series\n",
    "    tst_series : test categorical feature as a pd.Series\n",
    "    target : target data as a pd.Series\n",
    "    min_samples_leaf (int) : minimum samples to take category average into account\n",
    "    smoothing (int) : smoothing effect to balance categorical average vs prior  \n",
    "    \"\"\" \n",
    "    assert len(trn_series) == len(target)\n",
    "    assert trn_series.name == tst_series.name\n",
    "    temp = pd.concat([trn_series, target], axis=1)\n",
    "    # 集散这一列关于target的group mean\n",
    "    averages = temp.groupby(by=trn_series.name)[target.name].agg([\"mean\", \"count\"])\n",
    "    # 平滑\n",
    "    smoothing = 1 / (1 + np.exp(-(averages[\"count\"] - min_samples_leaf) / smoothing))\n",
    "    # 计算所有target的mean\n",
    "    prior = target.mean()\n",
    "    # The bigger the count the less full_avg is taken into account\n",
    "    # 如果某一类别的值的个数特别多，比如104这一类就有21255行，那么我们就要削减其关于target的mean的权值。\n",
    "    averages[target.name] = prior * (1 - smoothing) + averages[\"mean\"] * smoothing\n",
    "    averages.drop([\"mean\", \"count\"], axis=1, inplace=True)\n",
    "    \n",
    "    # 分别对train和test计算mean\n",
    "    ft_trn_series = pd.merge(\n",
    "        trn_series.to_frame(trn_series.name),\n",
    "        averages.reset_index().rename(columns={'index': target.name, target.name: 'average'}),\n",
    "        on=trn_series.name,\n",
    "        how='left')['average'].rename(trn_series.name + '_mean').fillna(prior)\n",
    "\n",
    "    ft_trn_series.index = trn_series.index \n",
    "    ft_tst_series = pd.merge(\n",
    "        tst_series.to_frame(tst_series.name),\n",
    "        averages.reset_index().rename(columns={'index': target.name, target.name: 'average'}),\n",
    "        on=tst_series.name,\n",
    "        how='left')['average'].rename(trn_series.name + '_mean').fillna(prior)\n",
    "\n",
    "    ft_tst_series.index = tst_series.index\n",
    "    return add_noise(ft_trn_series, noise_level), add_noise(ft_tst_series, noise_level)"
   ]
  },
  {
   "cell_type": "markdown",
   "metadata": {},
   "source": [
    "<div class=\"alert alert-block alert-success\"><b>Step 5 (4分)</b>: \n",
    "    \n",
    "理解以上的代码，并阐述target encoding的优缺点（2分）以及如何减少数据泄露的（2分）？\n",
    "    \n",
    "</div>"
   ]
  },
  {
   "cell_type": "code",
   "execution_count": 103,
   "metadata": {},
   "outputs": [],
   "source": [
    "test = pd.read_csv('./data/test.csv')"
   ]
  },
  {
   "cell_type": "code",
   "execution_count": 105,
   "metadata": {},
   "outputs": [],
   "source": [
    "train_encoded, test_encoded = target_encode(train_balanced_update[\"ps_car_11_cat\"], \n",
    "                             test[\"ps_car_11_cat\"], \n",
    "                             target=train_balanced_update.target, \n",
    "                             min_samples_leaf=100,\n",
    "                             smoothing=10,\n",
    "                             noise_level=0.01)"
   ]
  },
  {
   "cell_type": "code",
   "execution_count": 106,
   "metadata": {},
   "outputs": [],
   "source": [
    "train_balanced_update[\"ps_car_11_cat_tar_enc\"] = train_encoded.astype('float64')\n",
    "test['ps_car_11_cat_tar_enc'] = test_encoded.astype('float64')"
   ]
  },
  {
   "cell_type": "code",
   "execution_count": 107,
   "metadata": {},
   "outputs": [
    {
     "data": {
      "text/plain": [
       "<seaborn.axisgrid.FacetGrid at 0x19e5b9038b0>"
      ]
     },
     "execution_count": 107,
     "metadata": {},
     "output_type": "execute_result"
    },
    {
     "data": {
      "image/png": "[encoded data removed]",
      "text/plain": [
       "<Figure size 360x360 with 1 Axes>"
      ]
     },
     "metadata": {
      "needs_background": "light"
     },
     "output_type": "display_data"
    }
   ],
   "source": [
    "sns.displot(train_encoded)"
   ]
  },
  {
   "cell_type": "code",
   "execution_count": 108,
   "metadata": {},
   "outputs": [],
   "source": [
    "cols_to_drop.append('ps_car_11_cat')"
   ]
  },
  {
   "cell_type": "code",
   "execution_count": 109,
   "metadata": {},
   "outputs": [
    {
     "data": {
      "text/plain": [
       "['ps_car_03_cat', 'ps_car_05_cat', 'ps_car_11_cat']"
      ]
     },
     "execution_count": 109,
     "metadata": {},
     "output_type": "execute_result"
    }
   ],
   "source": [
    "cols_to_drop"
   ]
  },
  {
   "cell_type": "markdown",
   "metadata": {},
   "source": [
    "<div class=\"alert alert-block alert-success\"><b>Step 5 (2分)</b>: \n",
    "    \n",
    "尝试理解代码，能改良就改良（2分），meta函数是否能帮助你在日常学习、工作、或者处理其他表格型数据时产生作用呢？\n",
    "    \n",
    "https://www.kaggle.com/datasets\n",
    "    \n",
    "在上面链接中，下载两个表格型数据，尝试能否快速提取元数据。\n",
    "    \n",
    "</div>"
   ]
  },
  {
   "cell_type": "code",
   "execution_count": 66,
   "metadata": {},
   "outputs": [],
   "source": [
    "def meta(raw_data, processed_data=None, cols_to_drop = [], keep_missing = True):\n",
    "    \"\"\"\n",
    "    raw_data: raw data obtained\n",
    "    data_processed: data after preprocessing\n",
    "    cols_to_drop: excluded cols that contain too many missing values or we dont use\n",
    "    keep_missing: True if we find we dont need to eliminate missing values after imputation\n",
    "    \"\"\"\n",
    "    data = []\n",
    "    if processed_data is not None:\n",
    "        df = processed_data.copy()\n",
    "    else:\n",
    "        df = raw_data\n",
    "    for col in df.columns:\n",
    "        # Defining the role\n",
    "        if col == 'target':\n",
    "            role = '目标标签（是否发起索赔）'\n",
    "        elif col == 'id':\n",
    "            role = '序列号（不属于特征）'\n",
    "        else:\n",
    "            role = '特征'\n",
    "\n",
    "        # 加入ratio变量\n",
    "        if 'bin' in col or col == 'target':\n",
    "            level = 'binary'\n",
    "        elif 'cat' in col[-3:] or col == 'id':\n",
    "            level = 'nominal'\n",
    "        elif df[col].dtype == 'float64' and df[col].replace(-1,np.nan).max()-df[col].replace(-1,np.nan).min() > 1:\n",
    "            level = 'interval'\n",
    "        elif df[col].dtype == 'float64' and df[col].replace(-1,np.nan).max()-df[col].replace(-1,np.nan).min() <= 1:\n",
    "            level = 'ratio'\n",
    "        elif df[col].dtype == 'int64':\n",
    "            level = 'ordinal'\n",
    "\n",
    "        # Initialize keep to True for all variables except for id\n",
    "        keep = True\n",
    "        if col == 'id' or col in cols_to_drop:\n",
    "            keep = False\n",
    "\n",
    "        # Defining the data type \n",
    "        dtype = df[col].dtype\n",
    "        \n",
    "        # 定义唯⼀值数量\n",
    "# 定义唯⼀值数量\n",
    "        if col == 'id' or df[col].dtype == 'float64':\n",
    "            uniq = '不统计'\n",
    "        else:\n",
    "            if keep_missing == True:\n",
    "                uniq = train[col].nunique()\n",
    "            else:\n",
    "                uniq = train[col].replace({-1:np.nan}).nunique()\n",
    "\n",
    "        # 定义缺失值\n",
    "        n_missing = sum(df[col] == -1)\n",
    "        missing = f'{n_missing}({round(n_missing*100/len(train),2)}%)'\n",
    "    \n",
    "\n",
    "        col_dict = {\n",
    "            '变量名称': col,\n",
    "            '数据角色': role,\n",
    "            '变量类型': level,\n",
    "            '数据类型': dtype,\n",
    "            '是否保留': keep,\n",
    "            '唯一值数量': uniq,\n",
    "            '缺失值数量': missing\n",
    "        }\n",
    "        data.append(col_dict)\n",
    "    \n",
    "    meta = pd.DataFrame(data, columns=list(col_dict.keys()))\n",
    "    meta.set_index('变量名称', inplace=True)\n",
    "    \n",
    "    missing_cols = [col for col in raw_data.columns if raw_data[col].min() == -1]\n",
    "    meta['缺失值处理'] = ['无缺失值' if col not in missing_cols\n",
    "        else '已去除' if col in cols_to_drop\n",
    "        else '保留缺失值' if meta.loc[col,'缺失值数量'][0] != '0' \n",
    "        else '已填充' for col in meta.index]\n",
    "\n",
    "    \n",
    "    return meta"
   ]
  },
  {
   "cell_type": "code",
   "execution_count": 67,
   "metadata": {},
   "outputs": [
    {
     "data": {
      "text/html": [
       "<div>\n",
       "<style scoped>\n",
       "    .dataframe tbody tr th:only-of-type {\n",
       "        vertical-align: middle;\n",
       "    }\n",
       "\n",
       "    .dataframe tbody tr th {\n",
       "        vertical-align: top;\n",
       "    }\n",
       "\n",
       "    .dataframe thead th {\n",
       "        text-align: right;\n",
       "    }\n",
       "</style>\n",
       "<table border=\"1\" class=\"dataframe\">\n",
       "  <thead>\n",
       "    <tr style=\"text-align: right;\">\n",
       "      <th></th>\n",
       "      <th>数据角色</th>\n",
       "      <th>变量类型</th>\n",
       "      <th>数据类型</th>\n",
       "      <th>是否保留</th>\n",
       "      <th>唯一值数量</th>\n",
       "      <th>缺失值数量</th>\n",
       "      <th>缺失值处理</th>\n",
       "    </tr>\n",
       "    <tr>\n",
       "      <th>变量名称</th>\n",
       "      <th></th>\n",
       "      <th></th>\n",
       "      <th></th>\n",
       "      <th></th>\n",
       "      <th></th>\n",
       "      <th></th>\n",
       "      <th></th>\n",
       "    </tr>\n",
       "  </thead>\n",
       "  <tbody>\n",
       "    <tr>\n",
       "      <th>id</th>\n",
       "      <td>序列号（不属于特征）</td>\n",
       "      <td>nominal</td>\n",
       "      <td>int64</td>\n",
       "      <td>False</td>\n",
       "      <td>不统计</td>\n",
       "      <td>0(0.0%)</td>\n",
       "      <td>无缺失值</td>\n",
       "    </tr>\n",
       "    <tr>\n",
       "      <th>target</th>\n",
       "      <td>目标标签（是否发起索赔）</td>\n",
       "      <td>binary</td>\n",
       "      <td>int64</td>\n",
       "      <td>True</td>\n",
       "      <td>2</td>\n",
       "      <td>0(0.0%)</td>\n",
       "      <td>无缺失值</td>\n",
       "    </tr>\n",
       "    <tr>\n",
       "      <th>ps_ind_01</th>\n",
       "      <td>特征</td>\n",
       "      <td>ordinal</td>\n",
       "      <td>int64</td>\n",
       "      <td>True</td>\n",
       "      <td>8</td>\n",
       "      <td>0(0.0%)</td>\n",
       "      <td>无缺失值</td>\n",
       "    </tr>\n",
       "    <tr>\n",
       "      <th>ps_ind_02_cat</th>\n",
       "      <td>特征</td>\n",
       "      <td>nominal</td>\n",
       "      <td>int64</td>\n",
       "      <td>True</td>\n",
       "      <td>5</td>\n",
       "      <td>80(0.01%)</td>\n",
       "      <td>保留缺失值</td>\n",
       "    </tr>\n",
       "    <tr>\n",
       "      <th>ps_ind_03</th>\n",
       "      <td>特征</td>\n",
       "      <td>ordinal</td>\n",
       "      <td>int64</td>\n",
       "      <td>True</td>\n",
       "      <td>12</td>\n",
       "      <td>0(0.0%)</td>\n",
       "      <td>无缺失值</td>\n",
       "    </tr>\n",
       "    <tr>\n",
       "      <th>ps_ind_04_cat</th>\n",
       "      <td>特征</td>\n",
       "      <td>nominal</td>\n",
       "      <td>int64</td>\n",
       "      <td>True</td>\n",
       "      <td>3</td>\n",
       "      <td>48(0.01%)</td>\n",
       "      <td>保留缺失值</td>\n",
       "    </tr>\n",
       "    <tr>\n",
       "      <th>ps_ind_05_cat</th>\n",
       "      <td>特征</td>\n",
       "      <td>nominal</td>\n",
       "      <td>int64</td>\n",
       "      <td>True</td>\n",
       "      <td>8</td>\n",
       "      <td>1604(0.27%)</td>\n",
       "      <td>保留缺失值</td>\n",
       "    </tr>\n",
       "    <tr>\n",
       "      <th>ps_ind_06_bin</th>\n",
       "      <td>特征</td>\n",
       "      <td>binary</td>\n",
       "      <td>int64</td>\n",
       "      <td>True</td>\n",
       "      <td>2</td>\n",
       "      <td>0(0.0%)</td>\n",
       "      <td>无缺失值</td>\n",
       "    </tr>\n",
       "    <tr>\n",
       "      <th>ps_ind_07_bin</th>\n",
       "      <td>特征</td>\n",
       "      <td>binary</td>\n",
       "      <td>int64</td>\n",
       "      <td>True</td>\n",
       "      <td>2</td>\n",
       "      <td>0(0.0%)</td>\n",
       "      <td>无缺失值</td>\n",
       "    </tr>\n",
       "    <tr>\n",
       "      <th>ps_ind_08_bin</th>\n",
       "      <td>特征</td>\n",
       "      <td>binary</td>\n",
       "      <td>int64</td>\n",
       "      <td>True</td>\n",
       "      <td>2</td>\n",
       "      <td>0(0.0%)</td>\n",
       "      <td>无缺失值</td>\n",
       "    </tr>\n",
       "    <tr>\n",
       "      <th>ps_ind_09_bin</th>\n",
       "      <td>特征</td>\n",
       "      <td>binary</td>\n",
       "      <td>int64</td>\n",
       "      <td>True</td>\n",
       "      <td>2</td>\n",
       "      <td>0(0.0%)</td>\n",
       "      <td>无缺失值</td>\n",
       "    </tr>\n",
       "    <tr>\n",
       "      <th>ps_ind_10_bin</th>\n",
       "      <td>特征</td>\n",
       "      <td>binary</td>\n",
       "      <td>int64</td>\n",
       "      <td>True</td>\n",
       "      <td>2</td>\n",
       "      <td>0(0.0%)</td>\n",
       "      <td>无缺失值</td>\n",
       "    </tr>\n",
       "    <tr>\n",
       "      <th>ps_ind_11_bin</th>\n",
       "      <td>特征</td>\n",
       "      <td>binary</td>\n",
       "      <td>int64</td>\n",
       "      <td>True</td>\n",
       "      <td>2</td>\n",
       "      <td>0(0.0%)</td>\n",
       "      <td>无缺失值</td>\n",
       "    </tr>\n",
       "    <tr>\n",
       "      <th>ps_ind_12_bin</th>\n",
       "      <td>特征</td>\n",
       "      <td>binary</td>\n",
       "      <td>int64</td>\n",
       "      <td>True</td>\n",
       "      <td>2</td>\n",
       "      <td>0(0.0%)</td>\n",
       "      <td>无缺失值</td>\n",
       "    </tr>\n",
       "    <tr>\n",
       "      <th>ps_ind_13_bin</th>\n",
       "      <td>特征</td>\n",
       "      <td>binary</td>\n",
       "      <td>int64</td>\n",
       "      <td>True</td>\n",
       "      <td>2</td>\n",
       "      <td>0(0.0%)</td>\n",
       "      <td>无缺失值</td>\n",
       "    </tr>\n",
       "    <tr>\n",
       "      <th>ps_ind_14</th>\n",
       "      <td>特征</td>\n",
       "      <td>ordinal</td>\n",
       "      <td>int64</td>\n",
       "      <td>True</td>\n",
       "      <td>5</td>\n",
       "      <td>0(0.0%)</td>\n",
       "      <td>无缺失值</td>\n",
       "    </tr>\n",
       "    <tr>\n",
       "      <th>ps_ind_15</th>\n",
       "      <td>特征</td>\n",
       "      <td>ordinal</td>\n",
       "      <td>int64</td>\n",
       "      <td>True</td>\n",
       "      <td>14</td>\n",
       "      <td>0(0.0%)</td>\n",
       "      <td>无缺失值</td>\n",
       "    </tr>\n",
       "    <tr>\n",
       "      <th>ps_ind_16_bin</th>\n",
       "      <td>特征</td>\n",
       "      <td>binary</td>\n",
       "      <td>int64</td>\n",
       "      <td>True</td>\n",
       "      <td>2</td>\n",
       "      <td>0(0.0%)</td>\n",
       "      <td>无缺失值</td>\n",
       "    </tr>\n",
       "    <tr>\n",
       "      <th>ps_ind_17_bin</th>\n",
       "      <td>特征</td>\n",
       "      <td>binary</td>\n",
       "      <td>int64</td>\n",
       "      <td>True</td>\n",
       "      <td>2</td>\n",
       "      <td>0(0.0%)</td>\n",
       "      <td>无缺失值</td>\n",
       "    </tr>\n",
       "    <tr>\n",
       "      <th>ps_ind_18_bin</th>\n",
       "      <td>特征</td>\n",
       "      <td>binary</td>\n",
       "      <td>int64</td>\n",
       "      <td>True</td>\n",
       "      <td>2</td>\n",
       "      <td>0(0.0%)</td>\n",
       "      <td>无缺失值</td>\n",
       "    </tr>\n",
       "    <tr>\n",
       "      <th>ps_reg_01</th>\n",
       "      <td>特征</td>\n",
       "      <td>ratio</td>\n",
       "      <td>float64</td>\n",
       "      <td>True</td>\n",
       "      <td>不统计</td>\n",
       "      <td>0(0.0%)</td>\n",
       "      <td>无缺失值</td>\n",
       "    </tr>\n",
       "    <tr>\n",
       "      <th>ps_reg_02</th>\n",
       "      <td>特征</td>\n",
       "      <td>interval</td>\n",
       "      <td>float64</td>\n",
       "      <td>True</td>\n",
       "      <td>不统计</td>\n",
       "      <td>0(0.0%)</td>\n",
       "      <td>无缺失值</td>\n",
       "    </tr>\n",
       "    <tr>\n",
       "      <th>ps_reg_03</th>\n",
       "      <td>特征</td>\n",
       "      <td>interval</td>\n",
       "      <td>float64</td>\n",
       "      <td>True</td>\n",
       "      <td>不统计</td>\n",
       "      <td>0(0.0%)</td>\n",
       "      <td>已填充</td>\n",
       "    </tr>\n",
       "    <tr>\n",
       "      <th>ps_car_01_cat</th>\n",
       "      <td>特征</td>\n",
       "      <td>nominal</td>\n",
       "      <td>int64</td>\n",
       "      <td>True</td>\n",
       "      <td>13</td>\n",
       "      <td>53(0.01%)</td>\n",
       "      <td>保留缺失值</td>\n",
       "    </tr>\n",
       "    <tr>\n",
       "      <th>ps_car_02_cat</th>\n",
       "      <td>特征</td>\n",
       "      <td>nominal</td>\n",
       "      <td>int64</td>\n",
       "      <td>True</td>\n",
       "      <td>3</td>\n",
       "      <td>0(0.0%)</td>\n",
       "      <td>已填充</td>\n",
       "    </tr>\n",
       "    <tr>\n",
       "      <th>ps_car_03_cat</th>\n",
       "      <td>特征</td>\n",
       "      <td>nominal</td>\n",
       "      <td>int64</td>\n",
       "      <td>False</td>\n",
       "      <td>3</td>\n",
       "      <td>98459(16.54%)</td>\n",
       "      <td>已去除</td>\n",
       "    </tr>\n",
       "    <tr>\n",
       "      <th>ps_car_04_cat</th>\n",
       "      <td>特征</td>\n",
       "      <td>nominal</td>\n",
       "      <td>int64</td>\n",
       "      <td>True</td>\n",
       "      <td>10</td>\n",
       "      <td>0(0.0%)</td>\n",
       "      <td>无缺失值</td>\n",
       "    </tr>\n",
       "    <tr>\n",
       "      <th>ps_car_05_cat</th>\n",
       "      <td>特征</td>\n",
       "      <td>nominal</td>\n",
       "      <td>int64</td>\n",
       "      <td>False</td>\n",
       "      <td>3</td>\n",
       "      <td>63882(10.73%)</td>\n",
       "      <td>已去除</td>\n",
       "    </tr>\n",
       "    <tr>\n",
       "      <th>ps_car_06_cat</th>\n",
       "      <td>特征</td>\n",
       "      <td>nominal</td>\n",
       "      <td>int64</td>\n",
       "      <td>True</td>\n",
       "      <td>18</td>\n",
       "      <td>0(0.0%)</td>\n",
       "      <td>无缺失值</td>\n",
       "    </tr>\n",
       "    <tr>\n",
       "      <th>ps_car_07_cat</th>\n",
       "      <td>特征</td>\n",
       "      <td>nominal</td>\n",
       "      <td>int64</td>\n",
       "      <td>True</td>\n",
       "      <td>3</td>\n",
       "      <td>3149(0.53%)</td>\n",
       "      <td>保留缺失值</td>\n",
       "    </tr>\n",
       "    <tr>\n",
       "      <th>ps_car_08_cat</th>\n",
       "      <td>特征</td>\n",
       "      <td>nominal</td>\n",
       "      <td>int64</td>\n",
       "      <td>True</td>\n",
       "      <td>2</td>\n",
       "      <td>0(0.0%)</td>\n",
       "      <td>无缺失值</td>\n",
       "    </tr>\n",
       "    <tr>\n",
       "      <th>ps_car_09_cat</th>\n",
       "      <td>特征</td>\n",
       "      <td>nominal</td>\n",
       "      <td>int64</td>\n",
       "      <td>True</td>\n",
       "      <td>6</td>\n",
       "      <td>165(0.03%)</td>\n",
       "      <td>保留缺失值</td>\n",
       "    </tr>\n",
       "    <tr>\n",
       "      <th>ps_car_10_cat</th>\n",
       "      <td>特征</td>\n",
       "      <td>nominal</td>\n",
       "      <td>int64</td>\n",
       "      <td>True</td>\n",
       "      <td>3</td>\n",
       "      <td>0(0.0%)</td>\n",
       "      <td>无缺失值</td>\n",
       "    </tr>\n",
       "    <tr>\n",
       "      <th>ps_car_11_cat</th>\n",
       "      <td>特征</td>\n",
       "      <td>nominal</td>\n",
       "      <td>int64</td>\n",
       "      <td>False</td>\n",
       "      <td>104</td>\n",
       "      <td>0(0.0%)</td>\n",
       "      <td>无缺失值</td>\n",
       "    </tr>\n",
       "    <tr>\n",
       "      <th>ps_car_11</th>\n",
       "      <td>特征</td>\n",
       "      <td>ordinal</td>\n",
       "      <td>int64</td>\n",
       "      <td>True</td>\n",
       "      <td>5</td>\n",
       "      <td>1(0.0%)</td>\n",
       "      <td>保留缺失值</td>\n",
       "    </tr>\n",
       "    <tr>\n",
       "      <th>ps_car_12</th>\n",
       "      <td>特征</td>\n",
       "      <td>interval</td>\n",
       "      <td>float64</td>\n",
       "      <td>True</td>\n",
       "      <td>不统计</td>\n",
       "      <td>0(0.0%)</td>\n",
       "      <td>已填充</td>\n",
       "    </tr>\n",
       "    <tr>\n",
       "      <th>ps_car_13</th>\n",
       "      <td>特征</td>\n",
       "      <td>interval</td>\n",
       "      <td>float64</td>\n",
       "      <td>True</td>\n",
       "      <td>不统计</td>\n",
       "      <td>0(0.0%)</td>\n",
       "      <td>无缺失值</td>\n",
       "    </tr>\n",
       "    <tr>\n",
       "      <th>ps_car_14</th>\n",
       "      <td>特征</td>\n",
       "      <td>interval</td>\n",
       "      <td>float64</td>\n",
       "      <td>True</td>\n",
       "      <td>不统计</td>\n",
       "      <td>0(0.0%)</td>\n",
       "      <td>已填充</td>\n",
       "    </tr>\n",
       "    <tr>\n",
       "      <th>ps_car_15</th>\n",
       "      <td>特征</td>\n",
       "      <td>interval</td>\n",
       "      <td>float64</td>\n",
       "      <td>True</td>\n",
       "      <td>不统计</td>\n",
       "      <td>0(0.0%)</td>\n",
       "      <td>无缺失值</td>\n",
       "    </tr>\n",
       "    <tr>\n",
       "      <th>ps_calc_01</th>\n",
       "      <td>特征</td>\n",
       "      <td>ratio</td>\n",
       "      <td>float64</td>\n",
       "      <td>True</td>\n",
       "      <td>不统计</td>\n",
       "      <td>0(0.0%)</td>\n",
       "      <td>无缺失值</td>\n",
       "    </tr>\n",
       "    <tr>\n",
       "      <th>ps_calc_02</th>\n",
       "      <td>特征</td>\n",
       "      <td>ratio</td>\n",
       "      <td>float64</td>\n",
       "      <td>True</td>\n",
       "      <td>不统计</td>\n",
       "      <td>0(0.0%)</td>\n",
       "      <td>无缺失值</td>\n",
       "    </tr>\n",
       "    <tr>\n",
       "      <th>ps_calc_03</th>\n",
       "      <td>特征</td>\n",
       "      <td>ratio</td>\n",
       "      <td>float64</td>\n",
       "      <td>True</td>\n",
       "      <td>不统计</td>\n",
       "      <td>0(0.0%)</td>\n",
       "      <td>无缺失值</td>\n",
       "    </tr>\n",
       "    <tr>\n",
       "      <th>ps_calc_04</th>\n",
       "      <td>特征</td>\n",
       "      <td>ordinal</td>\n",
       "      <td>int64</td>\n",
       "      <td>True</td>\n",
       "      <td>6</td>\n",
       "      <td>0(0.0%)</td>\n",
       "      <td>无缺失值</td>\n",
       "    </tr>\n",
       "    <tr>\n",
       "      <th>ps_calc_05</th>\n",
       "      <td>特征</td>\n",
       "      <td>ordinal</td>\n",
       "      <td>int64</td>\n",
       "      <td>True</td>\n",
       "      <td>7</td>\n",
       "      <td>0(0.0%)</td>\n",
       "      <td>无缺失值</td>\n",
       "    </tr>\n",
       "    <tr>\n",
       "      <th>ps_calc_06</th>\n",
       "      <td>特征</td>\n",
       "      <td>ordinal</td>\n",
       "      <td>int64</td>\n",
       "      <td>True</td>\n",
       "      <td>11</td>\n",
       "      <td>0(0.0%)</td>\n",
       "      <td>无缺失值</td>\n",
       "    </tr>\n",
       "    <tr>\n",
       "      <th>ps_calc_07</th>\n",
       "      <td>特征</td>\n",
       "      <td>ordinal</td>\n",
       "      <td>int64</td>\n",
       "      <td>True</td>\n",
       "      <td>10</td>\n",
       "      <td>0(0.0%)</td>\n",
       "      <td>无缺失值</td>\n",
       "    </tr>\n",
       "    <tr>\n",
       "      <th>ps_calc_08</th>\n",
       "      <td>特征</td>\n",
       "      <td>ordinal</td>\n",
       "      <td>int64</td>\n",
       "      <td>True</td>\n",
       "      <td>11</td>\n",
       "      <td>0(0.0%)</td>\n",
       "      <td>无缺失值</td>\n",
       "    </tr>\n",
       "    <tr>\n",
       "      <th>ps_calc_09</th>\n",
       "      <td>特征</td>\n",
       "      <td>ordinal</td>\n",
       "      <td>int64</td>\n",
       "      <td>True</td>\n",
       "      <td>8</td>\n",
       "      <td>0(0.0%)</td>\n",
       "      <td>无缺失值</td>\n",
       "    </tr>\n",
       "    <tr>\n",
       "      <th>ps_calc_10</th>\n",
       "      <td>特征</td>\n",
       "      <td>ordinal</td>\n",
       "      <td>int64</td>\n",
       "      <td>True</td>\n",
       "      <td>26</td>\n",
       "      <td>0(0.0%)</td>\n",
       "      <td>无缺失值</td>\n",
       "    </tr>\n",
       "    <tr>\n",
       "      <th>ps_calc_11</th>\n",
       "      <td>特征</td>\n",
       "      <td>ordinal</td>\n",
       "      <td>int64</td>\n",
       "      <td>True</td>\n",
       "      <td>20</td>\n",
       "      <td>0(0.0%)</td>\n",
       "      <td>无缺失值</td>\n",
       "    </tr>\n",
       "    <tr>\n",
       "      <th>ps_calc_12</th>\n",
       "      <td>特征</td>\n",
       "      <td>ordinal</td>\n",
       "      <td>int64</td>\n",
       "      <td>True</td>\n",
       "      <td>11</td>\n",
       "      <td>0(0.0%)</td>\n",
       "      <td>无缺失值</td>\n",
       "    </tr>\n",
       "    <tr>\n",
       "      <th>ps_calc_13</th>\n",
       "      <td>特征</td>\n",
       "      <td>ordinal</td>\n",
       "      <td>int64</td>\n",
       "      <td>True</td>\n",
       "      <td>14</td>\n",
       "      <td>0(0.0%)</td>\n",
       "      <td>无缺失值</td>\n",
       "    </tr>\n",
       "    <tr>\n",
       "      <th>ps_calc_14</th>\n",
       "      <td>特征</td>\n",
       "      <td>ordinal</td>\n",
       "      <td>int64</td>\n",
       "      <td>True</td>\n",
       "      <td>24</td>\n",
       "      <td>0(0.0%)</td>\n",
       "      <td>无缺失值</td>\n",
       "    </tr>\n",
       "    <tr>\n",
       "      <th>ps_calc_15_bin</th>\n",
       "      <td>特征</td>\n",
       "      <td>binary</td>\n",
       "      <td>int64</td>\n",
       "      <td>True</td>\n",
       "      <td>2</td>\n",
       "      <td>0(0.0%)</td>\n",
       "      <td>无缺失值</td>\n",
       "    </tr>\n",
       "    <tr>\n",
       "      <th>ps_calc_16_bin</th>\n",
       "      <td>特征</td>\n",
       "      <td>binary</td>\n",
       "      <td>int64</td>\n",
       "      <td>True</td>\n",
       "      <td>2</td>\n",
       "      <td>0(0.0%)</td>\n",
       "      <td>无缺失值</td>\n",
       "    </tr>\n",
       "    <tr>\n",
       "      <th>ps_calc_17_bin</th>\n",
       "      <td>特征</td>\n",
       "      <td>binary</td>\n",
       "      <td>int64</td>\n",
       "      <td>True</td>\n",
       "      <td>2</td>\n",
       "      <td>0(0.0%)</td>\n",
       "      <td>无缺失值</td>\n",
       "    </tr>\n",
       "    <tr>\n",
       "      <th>ps_calc_18_bin</th>\n",
       "      <td>特征</td>\n",
       "      <td>binary</td>\n",
       "      <td>int64</td>\n",
       "      <td>True</td>\n",
       "      <td>2</td>\n",
       "      <td>0(0.0%)</td>\n",
       "      <td>无缺失值</td>\n",
       "    </tr>\n",
       "    <tr>\n",
       "      <th>ps_calc_19_bin</th>\n",
       "      <td>特征</td>\n",
       "      <td>binary</td>\n",
       "      <td>int64</td>\n",
       "      <td>True</td>\n",
       "      <td>2</td>\n",
       "      <td>0(0.0%)</td>\n",
       "      <td>无缺失值</td>\n",
       "    </tr>\n",
       "    <tr>\n",
       "      <th>ps_calc_20_bin</th>\n",
       "      <td>特征</td>\n",
       "      <td>binary</td>\n",
       "      <td>int64</td>\n",
       "      <td>True</td>\n",
       "      <td>2</td>\n",
       "      <td>0(0.0%)</td>\n",
       "      <td>无缺失值</td>\n",
       "    </tr>\n",
       "    <tr>\n",
       "      <th>ps_car_11_cat_tar_enc</th>\n",
       "      <td>特征</td>\n",
       "      <td>ratio</td>\n",
       "      <td>float64</td>\n",
       "      <td>True</td>\n",
       "      <td>不统计</td>\n",
       "      <td>0(0.0%)</td>\n",
       "      <td>无缺失值</td>\n",
       "    </tr>\n",
       "  </tbody>\n",
       "</table>\n",
       "</div>"
      ],
      "text/plain": [
       "                               数据角色      变量类型     数据类型   是否保留 唯一值数量  \\\n",
       "变量名称                                                                  \n",
       "id                       序列号（不属于特征）   nominal    int64  False   不统计   \n",
       "target                 目标标签（是否发起索赔）    binary    int64   True     2   \n",
       "ps_ind_01                        特征   ordinal    int64   True     8   \n",
       "ps_ind_02_cat                    特征   nominal    int64   True     5   \n",
       "ps_ind_03                        特征   ordinal    int64   True    12   \n",
       "ps_ind_04_cat                    特征   nominal    int64   True     3   \n",
       "ps_ind_05_cat                    特征   nominal    int64   True     8   \n",
       "ps_ind_06_bin                    特征    binary    int64   True     2   \n",
       "ps_ind_07_bin                    特征    binary    int64   True     2   \n",
       "ps_ind_08_bin                    特征    binary    int64   True     2   \n",
       "ps_ind_09_bin                    特征    binary    int64   True     2   \n",
       "ps_ind_10_bin                    特征    binary    int64   True     2   \n",
       "ps_ind_11_bin                    特征    binary    int64   True     2   \n",
       "ps_ind_12_bin                    特征    binary    int64   True     2   \n",
       "ps_ind_13_bin                    特征    binary    int64   True     2   \n",
       "ps_ind_14                        特征   ordinal    int64   True     5   \n",
       "ps_ind_15                        特征   ordinal    int64   True    14   \n",
       "ps_ind_16_bin                    特征    binary    int64   True     2   \n",
       "ps_ind_17_bin                    特征    binary    int64   True     2   \n",
       "ps_ind_18_bin                    特征    binary    int64   True     2   \n",
       "ps_reg_01                        特征     ratio  float64   True   不统计   \n",
       "ps_reg_02                        特征  interval  float64   True   不统计   \n",
       "ps_reg_03                        特征  interval  float64   True   不统计   \n",
       "ps_car_01_cat                    特征   nominal    int64   True    13   \n",
       "ps_car_02_cat                    特征   nominal    int64   True     3   \n",
       "ps_car_03_cat                    特征   nominal    int64  False     3   \n",
       "ps_car_04_cat                    特征   nominal    int64   True    10   \n",
       "ps_car_05_cat                    特征   nominal    int64  False     3   \n",
       "ps_car_06_cat                    特征   nominal    int64   True    18   \n",
       "ps_car_07_cat                    特征   nominal    int64   True     3   \n",
       "ps_car_08_cat                    特征   nominal    int64   True     2   \n",
       "ps_car_09_cat                    特征   nominal    int64   True     6   \n",
       "ps_car_10_cat                    特征   nominal    int64   True     3   \n",
       "ps_car_11_cat                    特征   nominal    int64  False   104   \n",
       "ps_car_11                        特征   ordinal    int64   True     5   \n",
       "ps_car_12                        特征  interval  float64   True   不统计   \n",
       "ps_car_13                        特征  interval  float64   True   不统计   \n",
       "ps_car_14                        特征  interval  float64   True   不统计   \n",
       "ps_car_15                        特征  interval  float64   True   不统计   \n",
       "ps_calc_01                       特征     ratio  float64   True   不统计   \n",
       "ps_calc_02                       特征     ratio  float64   True   不统计   \n",
       "ps_calc_03                       特征     ratio  float64   True   不统计   \n",
       "ps_calc_04                       特征   ordinal    int64   True     6   \n",
       "ps_calc_05                       特征   ordinal    int64   True     7   \n",
       "ps_calc_06                       特征   ordinal    int64   True    11   \n",
       "ps_calc_07                       特征   ordinal    int64   True    10   \n",
       "ps_calc_08                       特征   ordinal    int64   True    11   \n",
       "ps_calc_09                       特征   ordinal    int64   True     8   \n",
       "ps_calc_10                       特征   ordinal    int64   True    26   \n",
       "ps_calc_11                       特征   ordinal    int64   True    20   \n",
       "ps_calc_12                       特征   ordinal    int64   True    11   \n",
       "ps_calc_13                       特征   ordinal    int64   True    14   \n",
       "ps_calc_14                       特征   ordinal    int64   True    24   \n",
       "ps_calc_15_bin                   特征    binary    int64   True     2   \n",
       "ps_calc_16_bin                   特征    binary    int64   True     2   \n",
       "ps_calc_17_bin                   特征    binary    int64   True     2   \n",
       "ps_calc_18_bin                   特征    binary    int64   True     2   \n",
       "ps_calc_19_bin                   特征    binary    int64   True     2   \n",
       "ps_calc_20_bin                   特征    binary    int64   True     2   \n",
       "ps_car_11_cat_tar_enc            特征     ratio  float64   True   不统计   \n",
       "\n",
       "                               缺失值数量  缺失值处理  \n",
       "变量名称                                         \n",
       "id                           0(0.0%)   无缺失值  \n",
       "target                       0(0.0%)   无缺失值  \n",
       "ps_ind_01                    0(0.0%)   无缺失值  \n",
       "ps_ind_02_cat              80(0.01%)  保留缺失值  \n",
       "ps_ind_03                    0(0.0%)   无缺失值  \n",
       "ps_ind_04_cat              48(0.01%)  保留缺失值  \n",
       "ps_ind_05_cat            1604(0.27%)  保留缺失值  \n",
       "ps_ind_06_bin                0(0.0%)   无缺失值  \n",
       "ps_ind_07_bin                0(0.0%)   无缺失值  \n",
       "ps_ind_08_bin                0(0.0%)   无缺失值  \n",
       "ps_ind_09_bin                0(0.0%)   无缺失值  \n",
       "ps_ind_10_bin                0(0.0%)   无缺失值  \n",
       "ps_ind_11_bin                0(0.0%)   无缺失值  \n",
       "ps_ind_12_bin                0(0.0%)   无缺失值  \n",
       "ps_ind_13_bin                0(0.0%)   无缺失值  \n",
       "ps_ind_14                    0(0.0%)   无缺失值  \n",
       "ps_ind_15                    0(0.0%)   无缺失值  \n",
       "ps_ind_16_bin                0(0.0%)   无缺失值  \n",
       "ps_ind_17_bin                0(0.0%)   无缺失值  \n",
       "ps_ind_18_bin                0(0.0%)   无缺失值  \n",
       "ps_reg_01                    0(0.0%)   无缺失值  \n",
       "ps_reg_02                    0(0.0%)   无缺失值  \n",
       "ps_reg_03                    0(0.0%)    已填充  \n",
       "ps_car_01_cat              53(0.01%)  保留缺失值  \n",
       "ps_car_02_cat                0(0.0%)    已填充  \n",
       "ps_car_03_cat          98459(16.54%)    已去除  \n",
       "ps_car_04_cat                0(0.0%)   无缺失值  \n",
       "ps_car_05_cat          63882(10.73%)    已去除  \n",
       "ps_car_06_cat                0(0.0%)   无缺失值  \n",
       "ps_car_07_cat            3149(0.53%)  保留缺失值  \n",
       "ps_car_08_cat                0(0.0%)   无缺失值  \n",
       "ps_car_09_cat             165(0.03%)  保留缺失值  \n",
       "ps_car_10_cat                0(0.0%)   无缺失值  \n",
       "ps_car_11_cat                0(0.0%)   无缺失值  \n",
       "ps_car_11                    1(0.0%)  保留缺失值  \n",
       "ps_car_12                    0(0.0%)    已填充  \n",
       "ps_car_13                    0(0.0%)   无缺失值  \n",
       "ps_car_14                    0(0.0%)    已填充  \n",
       "ps_car_15                    0(0.0%)   无缺失值  \n",
       "ps_calc_01                   0(0.0%)   无缺失值  \n",
       "ps_calc_02                   0(0.0%)   无缺失值  \n",
       "ps_calc_03                   0(0.0%)   无缺失值  \n",
       "ps_calc_04                   0(0.0%)   无缺失值  \n",
       "ps_calc_05                   0(0.0%)   无缺失值  \n",
       "ps_calc_06                   0(0.0%)   无缺失值  \n",
       "ps_calc_07                   0(0.0%)   无缺失值  \n",
       "ps_calc_08                   0(0.0%)   无缺失值  \n",
       "ps_calc_09                   0(0.0%)   无缺失值  \n",
       "ps_calc_10                   0(0.0%)   无缺失值  \n",
       "ps_calc_11                   0(0.0%)   无缺失值  \n",
       "ps_calc_12                   0(0.0%)   无缺失值  \n",
       "ps_calc_13                   0(0.0%)   无缺失值  \n",
       "ps_calc_14                   0(0.0%)   无缺失值  \n",
       "ps_calc_15_bin               0(0.0%)   无缺失值  \n",
       "ps_calc_16_bin               0(0.0%)   无缺失值  \n",
       "ps_calc_17_bin               0(0.0%)   无缺失值  \n",
       "ps_calc_18_bin               0(0.0%)   无缺失值  \n",
       "ps_calc_19_bin               0(0.0%)   无缺失值  \n",
       "ps_calc_20_bin               0(0.0%)   无缺失值  \n",
       "ps_car_11_cat_tar_enc        0(0.0%)   无缺失值  "
      ]
     },
     "execution_count": 67,
     "metadata": {},
     "output_type": "execute_result"
    }
   ],
   "source": [
    "final_meta = meta(raw_data = train, \n",
    "                  processed_data = train_balanced_update, \n",
    "                  cols_to_drop = cols_to_drop, \n",
    "                  keep_missing = True)\n",
    "#final_meta"
   ]
  },
  {
   "cell_type": "code",
   "execution_count": 68,
   "metadata": {},
   "outputs": [],
   "source": [
    "final_meta.to_csv('./data/final_meta.csv')"
   ]
  },
  {
   "cell_type": "markdown",
   "metadata": {},
   "source": [
    "## 总结\n",
    "\n",
    "阶段三主要带大家了解：\n",
    "\n",
    "1. 不平衡类别学习（初级）\n",
    "2. 如何用SimpleImputer填充缺失值\n",
    "3. 缺失值一定要填充么？\n",
    "4. EDA\n",
    "5. 类别型变量如何编码 encoding？"
   ]
  },
  {
   "cell_type": "markdown",
   "metadata": {},
   "source": [
    "[![H65i3d.gif](https://s4.ax1x.com/2022/02/14/H65i3d.gif)](https://imgtu.com/i/H65i3d)"
   ]
  },
  {
   "cell_type": "markdown",
   "metadata": {
    "_cell_guid": "de7a1f63-ccb4-49f0-bf3e-8e1181c5c5be",
    "_uuid": "b8aa7aee1c138ab00cecc0197b33d07d9a1cc1e0"
   },
   "source": [
    "<img src=\"https://s4.ax1x.com/2022/02/14/H65vxs.jpg\" alt=\"image-20220214212808413\" style=\"zoom:25%;\" />"
   ]
  }
 ],
 "metadata": {
  "kernelspec": {
   "display_name": "Python 3",
   "language": "python",
   "name": "python3"
  },
  "language_info": {
   "codemirror_mode": {
    "name": "ipython",
    "version": 3
   },
   "file_extension": ".py",
   "mimetype": "text/x-python",
   "name": "python",
   "nbconvert_exporter": "python",
   "pygments_lexer": "ipython3",
   "version": "3.8.8"
  }
 },
 "nbformat": 4,
 "nbformat_minor": 4
}
